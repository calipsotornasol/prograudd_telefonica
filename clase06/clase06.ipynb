{
 "cells": [
  {
   "cell_type": "markdown",
   "metadata": {},
   "source": [
    "# Strings"
   ]
  },
  {
   "cell_type": "code",
   "execution_count": 2,
   "metadata": {},
   "outputs": [
    {
     "name": "stdout",
     "output_type": "stream",
     "text": [
      "Tamaño s 11\n"
     ]
    }
   ],
   "source": [
    "s = \"Hola mundo!\"\n",
    "print('Tamaño s', len(s))"
   ]
  },
  {
   "cell_type": "code",
   "execution_count": 3,
   "metadata": {},
   "outputs": [
    {
     "name": "stdout",
     "output_type": "stream",
     "text": [
      "Hola Chao\n"
     ]
    }
   ],
   "source": [
    "# Concatenar\n",
    "s1 = 'Hola' + ' '\n",
    "s2 = 'Chao'\n",
    "s3 = s1 + s2\n",
    "print(s3)"
   ]
  },
  {
   "cell_type": "code",
   "execution_count": 4,
   "metadata": {},
   "outputs": [
    {
     "name": "stdout",
     "output_type": "stream",
     "text": [
      " \n"
     ]
    }
   ],
   "source": [
    "# Acceso, la primera posición comienza en 0\n",
    "print(s1[4]) # imprime el 4to elemento"
   ]
  },
  {
   "cell_type": "code",
   "execution_count": 5,
   "metadata": {},
   "outputs": [
    {
     "name": "stdout",
     "output_type": "stream",
     "text": [
      "s[1:5] =  ola \n"
     ]
    }
   ],
   "source": [
    "# Substring\n",
    "s4 = s[1:5]\n",
    "print('s[1:5] = ', s4)\n",
    "\n"
   ]
  },
  {
   "cell_type": "code",
   "execution_count": 6,
   "metadata": {},
   "outputs": [
    {
     "name": "stdout",
     "output_type": "stream",
     "text": [
      "ola mundo!\n",
      "Tola mundo!\n"
     ]
    }
   ],
   "source": [
    "# Actualizar string: concatenar\n",
    "print(s[1:])\n",
    "nuevo = \"T\" + s[1:]\n",
    "print(nuevo)\n",
    "\n",
    "\n"
   ]
  },
  {
   "cell_type": "code",
   "execution_count": 7,
   "metadata": {},
   "outputs": [
    {
     "name": "stdout",
     "output_type": "stream",
     "text": [
      "mola mundo!\n"
     ]
    }
   ],
   "source": [
    "# Actualizar string: reemplazar\n",
    "nuevo2 = \"m{}\".format(s[1:])\n",
    "print(nuevo2)"
   ]
  },
  {
   "cell_type": "markdown",
   "metadata": {},
   "source": [
    "# Invertir un string"
   ]
  },
  {
   "cell_type": "code",
   "execution_count": 12,
   "metadata": {},
   "outputs": [
    {
     "name": "stdout",
     "output_type": "stream",
     "text": [
      "Hola invertido: aloH\n",
      "\n",
      "\n"
     ]
    }
   ],
   "source": [
    "# Método 1\n",
    "s1= '' #str vacío, no es un espacio\n",
    "s2='Hola'\n",
    "for c in s2:\n",
    "    s1 = c + s1\n",
    "    #print(s1)\n",
    "print(s2, 'invertido:', s1)\n",
    "print('\\n')"
   ]
  },
  {
   "cell_type": "code",
   "execution_count": 13,
   "metadata": {},
   "outputs": [
    {
     "name": "stdout",
     "output_type": "stream",
     "text": [
      "Hola invertido: aloH\n"
     ]
    }
   ],
   "source": [
    "# Método 2\n",
    "s3='Hola'\n",
    "print(s3, 'invertido:', s3[::-1])"
   ]
  },
  {
   "cell_type": "markdown",
   "metadata": {},
   "source": [
    "# Recorrer Strings"
   ]
  },
  {
   "cell_type": "code",
   "execution_count": 1,
   "metadata": {},
   "outputs": [
    {
     "name": "stdout",
     "output_type": "stream",
     "text": [
      "h\n",
      "o\n"
     ]
    }
   ],
   "source": [
    "for e in 'hola':\n",
    "    if e == 'l':\n",
    "        break\n",
    "    print(e)\n",
    "    "
   ]
  },
  {
   "cell_type": "code",
   "execution_count": 2,
   "metadata": {},
   "outputs": [
    {
     "name": "stdout",
     "output_type": "stream",
     "text": [
      "d\n",
      "a\n",
      "n\n",
      "e\n",
      "l\n",
      "a\n"
     ]
    }
   ],
   "source": [
    "for e in 'daniela':\n",
    "    if e == 'i':\n",
    "        continue\n",
    "    print(e)\n"
   ]
  },
  {
   "cell_type": "code",
   "execution_count": null,
   "metadata": {},
   "outputs": [],
   "source": []
  }
 ],
 "metadata": {
  "kernelspec": {
   "display_name": "Python 3.7 (calipso)",
   "language": "python",
   "name": "calipso"
  },
  "language_info": {
   "codemirror_mode": {
    "name": "ipython",
    "version": 3
   },
   "file_extension": ".py",
   "mimetype": "text/x-python",
   "name": "python",
   "nbconvert_exporter": "python",
   "pygments_lexer": "ipython3",
   "version": "3.7.6"
  }
 },
 "nbformat": 4,
 "nbformat_minor": 4
}
