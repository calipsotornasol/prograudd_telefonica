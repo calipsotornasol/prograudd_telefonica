{
 "cells": [
  {
   "cell_type": "markdown",
   "metadata": {},
   "source": [
    "# Listas"
   ]
  },
  {
   "cell_type": "code",
   "execution_count": 157,
   "metadata": {},
   "outputs": [
    {
     "name": "stdout",
     "output_type": "stream",
     "text": [
      "Corazón\n"
     ]
    }
   ],
   "source": [
    "cartas = ['Diamante','Corazón','Pica','Trébol']\n",
    "print(cartas[1])"
   ]
  },
  {
   "cell_type": "markdown",
   "metadata": {},
   "source": [
    "# Recorrer una Lista"
   ]
  },
  {
   "cell_type": "code",
   "execution_count": 158,
   "metadata": {},
   "outputs": [
    {
     "name": "stdout",
     "output_type": "stream",
     "text": [
      "Enero\n",
      "Febrero\n",
      "Marzo\n",
      "Abril\n",
      "Mayo\n",
      "Junio\n",
      "Julio\n",
      "Agosto\n",
      "Septiembre\n",
      "Octubre\n",
      "Noviembre\n",
      "Diciembre\n"
     ]
    }
   ],
   "source": [
    "meses = ['Enero','Febrero','Marzo','Abril','Mayo','Junio','Julio','Agosto','Septiembre','Octubre','Noviembre','Diciembre']\n",
    "\n",
    "n = len(meses) # Tamaño lista meses\n",
    "\n",
    "for i in range(n):\n",
    "    print(meses[i])"
   ]
  },
  {
   "cell_type": "code",
   "execution_count": 159,
   "metadata": {},
   "outputs": [
    {
     "name": "stdout",
     "output_type": "stream",
     "text": [
      "Enero\n",
      "Febrero\n",
      "Marzo\n",
      "Abril\n",
      "Mayo\n",
      "Junio\n",
      "Julio\n",
      "Agosto\n",
      "Septiembre\n",
      "Octubre\n",
      "Noviembre\n",
      "Diciembre\n"
     ]
    }
   ],
   "source": [
    "meses = ['Enero','Febrero','Marzo','Abril','Mayo','Junio'\n",
    "        ,'Julio','Agosto','Septiembre','Octubre','Noviembre'\n",
    "        ,'Diciembre']\n",
    "\n",
    "for mes in meses:\n",
    "    print(mes)"
   ]
  },
  {
   "cell_type": "markdown",
   "metadata": {},
   "source": [
    "# Acceder a Elementos de una Lista"
   ]
  },
  {
   "cell_type": "code",
   "execution_count": 160,
   "metadata": {},
   "outputs": [
    {
     "data": {
      "text/plain": [
       "[11, 3, 5, 7, 2]"
      ]
     },
     "execution_count": 160,
     "metadata": {},
     "output_type": "execute_result"
    }
   ],
   "source": [
    "L = [11, 3, 5, 7, 2]\n",
    "L"
   ]
  },
  {
   "cell_type": "markdown",
   "metadata": {},
   "source": [
    "Usando el indice del elemento"
   ]
  },
  {
   "cell_type": "code",
   "execution_count": 161,
   "metadata": {},
   "outputs": [
    {
     "name": "stdout",
     "output_type": "stream",
     "text": [
      "L[0] 2\n",
      "L[1] 3\n"
     ]
    }
   ],
   "source": [
    "L = [2, 3, 5, 7, 11]\n",
    "print('L[0]', L[0])\n",
    "print('L[1]', L[1])"
   ]
  },
  {
   "cell_type": "markdown",
   "metadata": {},
   "source": [
    "Accedediendo a elemento en orden inverso"
   ]
  },
  {
   "cell_type": "code",
   "execution_count": 162,
   "metadata": {},
   "outputs": [
    {
     "name": "stdout",
     "output_type": "stream",
     "text": [
      "L[-1] 11\n",
      "L[-2] 7\n"
     ]
    }
   ],
   "source": [
    "print('L[-1]', L[-1])\n",
    "print('L[-2]', L[-2])\n",
    "#print('L[99]', L[99]) #error"
   ]
  },
  {
   "cell_type": "markdown",
   "metadata": {},
   "source": [
    "# Consultas"
   ]
  },
  {
   "cell_type": "markdown",
   "metadata": {},
   "source": [
    "Preguntar si existe un elemento"
   ]
  },
  {
   "cell_type": "code",
   "execution_count": 163,
   "metadata": {},
   "outputs": [
    {
     "name": "stdout",
     "output_type": "stream",
     "text": [
      "Cinco está en L\n"
     ]
    }
   ],
   "source": [
    "if 5 in L:\n",
    "    print('Cinco está en L')"
   ]
  },
  {
   "cell_type": "code",
   "execution_count": 164,
   "metadata": {},
   "outputs": [
    {
     "data": {
      "text/plain": [
       "[2, 3, 5, 7, 11]"
      ]
     },
     "execution_count": 164,
     "metadata": {},
     "output_type": "execute_result"
    }
   ],
   "source": [
    "L"
   ]
  },
  {
   "cell_type": "markdown",
   "metadata": {},
   "source": [
    "# Actualizar, agregar y concatenar"
   ]
  },
  {
   "cell_type": "code",
   "execution_count": 165,
   "metadata": {},
   "outputs": [
    {
     "name": "stdout",
     "output_type": "stream",
     "text": [
      "L[4]=9999 [2, 3, 5, 7, 9999]\n",
      "L.append(6) [2, 3, 5, 7, 9999, 6]\n",
      "L+[19, 17, 13] [2, 3, 5, 7, 9999, 6, 19, 17, 13]\n"
     ]
    }
   ],
   "source": [
    "# Actualizar elemento\n",
    "L[4] = 9999\n",
    "print('L[4]=9999', L)\n",
    "\n",
    "# Agregar elemento a listas\n",
    "L.append(6) #modifica lista\n",
    "print('L.append(6)', L)\n",
    "\n",
    "# Concatenar lista\n",
    "L2 = L + [19, 17, 13] # crea lista nueva\n",
    "print('L+[19, 17, 13]', L2)"
   ]
  },
  {
   "cell_type": "markdown",
   "metadata": {},
   "source": [
    "# Sublistas"
   ]
  },
  {
   "cell_type": "code",
   "execution_count": 166,
   "metadata": {},
   "outputs": [
    {
     "name": "stdout",
     "output_type": "stream",
     "text": [
      "[2, 3, 5, 7, 9999, 6]\n",
      "L[2:5] [5, 7, 9999]\n"
     ]
    }
   ],
   "source": [
    "# Sublista\n",
    "print(L)\n",
    "L3 = L[2:5] # Elementos 2,3 y 4\n",
    "print('L[2:5]', L3)"
   ]
  },
  {
   "cell_type": "markdown",
   "metadata": {},
   "source": [
    "# Operaciones con Listas"
   ]
  },
  {
   "cell_type": "code",
   "execution_count": 167,
   "metadata": {},
   "outputs": [
    {
     "name": "stdout",
     "output_type": "stream",
     "text": [
      "3\n",
      "0.25\n"
     ]
    }
   ],
   "source": [
    "# Calcula producto punto\n",
    "x = [0.30, 0.60, 0.10]\n",
    "y = [0.50, 0.10, 0.40]\n",
    "total = 0.0\n",
    "n=len(y)\n",
    "print(n)\n",
    "for i in range(n):\n",
    "    total += x[i]*y[i]\n",
    "print(total)"
   ]
  },
  {
   "cell_type": "code",
   "execution_count": 168,
   "metadata": {},
   "outputs": [
    {
     "name": "stdout",
     "output_type": "stream",
     "text": [
      "Ingrese elemento\n",
      "3\n",
      "Ingrese elemento\n",
      "3\n",
      "Ingrese elemento\n",
      "3\n"
     ]
    }
   ],
   "source": [
    "# Lista con valores desde teclado\n",
    "L= [] #lista vacía\n",
    "N= 3\n",
    "\n",
    "for i in range(N):\n",
    "    v = int(input(\"Ingrese elemento\" + \"\\n\"))\n",
    "    L.append(v)"
   ]
  },
  {
   "cell_type": "code",
   "execution_count": 169,
   "metadata": {},
   "outputs": [
    {
     "data": {
      "text/plain": [
       "[3, 3, 3]"
      ]
     },
     "execution_count": 169,
     "metadata": {},
     "output_type": "execute_result"
    }
   ],
   "source": [
    "L"
   ]
  },
  {
   "cell_type": "code",
   "execution_count": 170,
   "metadata": {},
   "outputs": [
    {
     "name": "stdout",
     "output_type": "stream",
     "text": [
      "Imprimir elementos en lista \n",
      "\n",
      "3\n",
      "3\n",
      "3\n"
     ]
    }
   ],
   "source": [
    "print('Imprimir elementos en lista', '\\n')\n",
    "# imprimir elementos en lista\n",
    "for elem in L:\n",
    "    print(elem)"
   ]
  },
  {
   "cell_type": "code",
   "execution_count": 171,
   "metadata": {},
   "outputs": [
    {
     "name": "stdout",
     "output_type": "stream",
     "text": [
      "Imprimir elementos en lista \n",
      "\n",
      "3\n",
      "3\n",
      "3\n"
     ]
    }
   ],
   "source": [
    "print('Imprimir elementos en lista', '\\n')\n",
    "# imprimir elementos en lista (otra forma)\n",
    "for i in range(N):\n",
    "    print(L[i])"
   ]
  },
  {
   "cell_type": "markdown",
   "metadata": {},
   "source": [
    "# Otras Operaciones"
   ]
  },
  {
   "cell_type": "code",
   "execution_count": 172,
   "metadata": {},
   "outputs": [
    {
     "name": "stdout",
     "output_type": "stream",
     "text": [
      "El maximo es: 3\n"
     ]
    }
   ],
   "source": [
    "# Encontrar el máximo\n",
    "maxi = L[0]\n",
    "for elem in L:\n",
    "    if elem > maxi:\n",
    "        maxi = elem\n",
    "print(\"El maximo es:\", maxi)"
   ]
  },
  {
   "cell_type": "code",
   "execution_count": 173,
   "metadata": {},
   "outputs": [
    {
     "name": "stdout",
     "output_type": "stream",
     "text": [
      "El minimo es: 3\n"
     ]
    }
   ],
   "source": [
    "# Encontrar el mínimo\n",
    "mini = L[0]\n",
    "for elem in L:\n",
    "    if elem < mini:\n",
    "        mini = elem\n",
    "print(\"El minimo es:\",mini)"
   ]
  },
  {
   "cell_type": "code",
   "execution_count": 174,
   "metadata": {},
   "outputs": [
    {
     "name": "stdout",
     "output_type": "stream",
     "text": [
      "3.0\n"
     ]
    }
   ],
   "source": [
    "# Promedio\n",
    "suma = 0.0\n",
    "for elem in L:\n",
    "    suma = suma + elem\n",
    "prom = suma/N\n",
    "\n",
    "print(prom)"
   ]
  },
  {
   "cell_type": "code",
   "execution_count": 175,
   "metadata": {},
   "outputs": [
    {
     "data": {
      "text/plain": [
       "[3, 3, 3]"
      ]
     },
     "execution_count": 175,
     "metadata": {},
     "output_type": "execute_result"
    }
   ],
   "source": [
    "# Copiar lista\n",
    "L2 = []\n",
    "for elem in L:\n",
    "    L2.append(elem)\n",
    "\n",
    "L2"
   ]
  },
  {
   "cell_type": "code",
   "execution_count": 176,
   "metadata": {},
   "outputs": [
    {
     "data": {
      "text/plain": [
       "[3, 3, 3]"
      ]
     },
     "execution_count": 176,
     "metadata": {},
     "output_type": "execute_result"
    }
   ],
   "source": [
    "L"
   ]
  },
  {
   "cell_type": "code",
   "execution_count": 177,
   "metadata": {},
   "outputs": [
    {
     "data": {
      "text/plain": [
       "[4, 2, 3, 1]"
      ]
     },
     "execution_count": 177,
     "metadata": {},
     "output_type": "execute_result"
    }
   ],
   "source": [
    "# Invertir elementos de la lista\n",
    "L=[1,2,3,4]\n",
    "N=len(L)\n",
    "for i in range(N-1):\n",
    "    temp = L[i]#guardo el elemnto i \n",
    "    L[i] = L[N-i-1] #le asigno el elemento N-i-1 al elemento en la posicion i\n",
    "    L[N-i-1] = temp\n",
    "L"
   ]
  },
  {
   "cell_type": "code",
   "execution_count": 178,
   "metadata": {},
   "outputs": [
    {
     "data": {
      "text/plain": [
       "[4, 2, 3, 1, 33]"
      ]
     },
     "execution_count": 178,
     "metadata": {},
     "output_type": "execute_result"
    }
   ],
   "source": [
    "# Insertar elemento al final\n",
    "L.append(33)\n",
    "L"
   ]
  },
  {
   "cell_type": "markdown",
   "metadata": {},
   "source": [
    "# Alias"
   ]
  },
  {
   "cell_type": "markdown",
   "metadata": {},
   "source": [
    "Si queremo copiar una lista uno podria querer hacer esto:"
   ]
  },
  {
   "cell_type": "code",
   "execution_count": 179,
   "metadata": {},
   "outputs": [],
   "source": [
    "L = [1, 2, 3]\n",
    "C = L"
   ]
  },
  {
   "cell_type": "markdown",
   "metadata": {},
   "source": [
    "Sin embargo lo que hicimos fue crear un alias"
   ]
  },
  {
   "cell_type": "code",
   "execution_count": 180,
   "metadata": {},
   "outputs": [
    {
     "name": "stdout",
     "output_type": "stream",
     "text": [
      "[99, 2, 3]\n",
      "[99, 2, 3]\n"
     ]
    }
   ],
   "source": [
    "L[0] = 99\n",
    "\n",
    "print(L)\n",
    "print(C)"
   ]
  },
  {
   "cell_type": "markdown",
   "metadata": {},
   "source": [
    "Para copiar una lista tenemos que usar el método .copy()"
   ]
  },
  {
   "cell_type": "code",
   "execution_count": 181,
   "metadata": {},
   "outputs": [
    {
     "name": "stdout",
     "output_type": "stream",
     "text": [
      "[99, 2, 3]\n",
      "[1, 2, 3]\n"
     ]
    }
   ],
   "source": [
    "L = [1, 2, 3]\n",
    "C = L.copy()\n",
    "L[0] = 99\n",
    "\n",
    "print(L)\n",
    "print(C)"
   ]
  },
  {
   "cell_type": "markdown",
   "metadata": {},
   "source": [
    "# Creación de Mazo de Cartas"
   ]
  },
  {
   "cell_type": "code",
   "execution_count": 182,
   "metadata": {},
   "outputs": [
    {
     "name": "stdout",
     "output_type": "stream",
     "text": [
      "['2 de Picas', '3 de Picas', '4 de Picas', '5 de Picas', '6 de Picas', '7 de Picas', '8 de Picas', '9 de Picas', '10 de Picas', 'Jota de Picas', 'Reina de Picas', 'Rey de Picas', 'As de Picas', '2 de Diamantes', '3 de Diamantes', '4 de Diamantes', '5 de Diamantes', '6 de Diamantes', '7 de Diamantes', '8 de Diamantes', '9 de Diamantes', '10 de Diamantes', 'Jota de Diamantes', 'Reina de Diamantes', 'Rey de Diamantes', 'As de Diamantes', '2 de Treboles', '3 de Treboles', '4 de Treboles', '5 de Treboles', '6 de Treboles', '7 de Treboles', '8 de Treboles', '9 de Treboles', '10 de Treboles', 'Jota de Treboles', 'Reina de Treboles', 'Rey de Treboles', 'As de Treboles', '2 de Corazones', '3 de Corazones', '4 de Corazones', '5 de Corazones', '6 de Corazones', '7 de Corazones', '8 de Corazones', '9 de Corazones', '10 de Corazones', 'Jota de Corazones', 'Reina de Corazones', 'Rey de Corazones', 'As de Corazones']\n",
      "52\n"
     ]
    }
   ],
   "source": [
    "TRAJES = ['Picas', 'Diamantes', 'Treboles', 'Corazones']\n",
    "VALORES = ['2', '3', '4', '5', '6', '7', '8', '9', '10',\n",
    "         'Jota', 'Reina', 'Rey', 'As']\n",
    "\n",
    "mazo = []\n",
    "for traje in TRAJES:\n",
    "    for valor in VALORES:\n",
    "        mazo.append(valor + ' de ' + traje)\n",
    "\n",
    "print(mazo)\n",
    "print(len(mazo))"
   ]
  },
  {
   "cell_type": "markdown",
   "metadata": {},
   "source": [
    "# Seleccionar una Carta al Azar"
   ]
  },
  {
   "cell_type": "code",
   "execution_count": 183,
   "metadata": {},
   "outputs": [
    {
     "name": "stdout",
     "output_type": "stream",
     "text": [
      "10 de Diamantes\n"
     ]
    }
   ],
   "source": [
    "from random import randrange\n",
    "VALORES = ['2', '3', '4', '5', '6', '7', '8', '9', '10','Jota', 'Reina', 'Rey', 'As']\n",
    "         \n",
    "TRAJES = ['Picas', 'Diamantes', 'Treboles', 'Corazones']\n",
    "\n",
    "#print(randrange(0,3))\n",
    "\n",
    "valor = randrange(0, len(VALORES))\n",
    "traje = randrange(0, len(TRAJES))\n",
    "\n",
    "#print(valor)\n",
    "#print(traje)\n",
    "\n",
    "\n",
    "print(VALORES[valor],'de', TRAJES[traje])\n"
   ]
  },
  {
   "cell_type": "markdown",
   "metadata": {},
   "source": [
    "# Break Ejemplo "
   ]
  },
  {
   "cell_type": "code",
   "execution_count": 184,
   "metadata": {},
   "outputs": [
    {
     "name": "stdout",
     "output_type": "stream",
     "text": [
      "1\n",
      "3\n",
      "4\n"
     ]
    }
   ],
   "source": [
    "L=[1,3,4,0,8]\n",
    "\n",
    "for e in L:\n",
    "    if e == 0:\n",
    "        break\n",
    "    print(e)"
   ]
  },
  {
   "cell_type": "markdown",
   "metadata": {},
   "source": [
    "# Break"
   ]
  },
  {
   "cell_type": "code",
   "execution_count": 185,
   "metadata": {},
   "outputs": [
    {
     "name": "stdout",
     "output_type": "stream",
     "text": [
      "len(L): 90000000\n",
      "True\n"
     ]
    }
   ],
   "source": [
    "L = 10000000*[0, -1, 3, 5, 9, 10, 12, 99, 33]\n",
    "\n",
    "print('len(L):', len(L))\n",
    "\n",
    "a = False\n",
    "for e in L:\n",
    "    if e < 0:\n",
    "        a = True\n",
    "        break\n",
    "print(a)"
   ]
  },
  {
   "cell_type": "markdown",
   "metadata": {},
   "source": [
    "# Sin Usar Break"
   ]
  },
  {
   "cell_type": "code",
   "execution_count": 186,
   "metadata": {},
   "outputs": [
    {
     "name": "stdout",
     "output_type": "stream",
     "text": [
      "len(L): 90000000\n",
      "True\n"
     ]
    }
   ],
   "source": [
    "L = 10000000*[0, -1, 3, 5, 9, 10, 12, 99, 33]\n",
    "print('len(L):', len(L))\n",
    "\n",
    "a = False\n",
    "for e in L:\n",
    "    if e < 0:\n",
    "        a = True\n",
    "print(a)\n"
   ]
  },
  {
   "cell_type": "markdown",
   "metadata": {},
   "source": [
    "# Continue Ejemplo"
   ]
  },
  {
   "cell_type": "code",
   "execution_count": 187,
   "metadata": {},
   "outputs": [
    {
     "name": "stdout",
     "output_type": "stream",
     "text": [
      "1\n",
      "3\n",
      "4\n",
      "8\n"
     ]
    }
   ],
   "source": [
    "L=[1,3,4,0,8]\n",
    "\n",
    "for e in L:\n",
    "    if e == 0:\n",
    "        continue\n",
    "    print(e)"
   ]
  },
  {
   "cell_type": "markdown",
   "metadata": {},
   "source": [
    "# Continue"
   ]
  },
  {
   "cell_type": "code",
   "execution_count": 188,
   "metadata": {},
   "outputs": [
    {
     "name": "stdout",
     "output_type": "stream",
     "text": [
      "171\n"
     ]
    }
   ],
   "source": [
    "L = [0, -1, 3, 5, 9, 10, 12, 99, 33]\n",
    "t = 0\n",
    "for e in L:\n",
    "    if e < 0:\n",
    "        continue\n",
    "    t += e\n",
    "print(t)"
   ]
  },
  {
   "cell_type": "markdown",
   "metadata": {},
   "source": [
    "# Sin Usar Continue"
   ]
  },
  {
   "cell_type": "code",
   "execution_count": 189,
   "metadata": {},
   "outputs": [
    {
     "name": "stdout",
     "output_type": "stream",
     "text": [
      "171\n"
     ]
    }
   ],
   "source": [
    "L = [0, -1, 3, 5, 9, 10, 12, 99, 33]\n",
    "t = 0\n",
    "for e in L:\n",
    "    if e >= 0:\n",
    "        t += e\n",
    "print(t)\n"
   ]
  },
  {
   "cell_type": "code",
   "execution_count": null,
   "metadata": {},
   "outputs": [],
   "source": []
  }
 ],
 "metadata": {
  "kernelspec": {
   "display_name": "Python 3.7 (calipso)",
   "language": "python",
   "name": "calipso"
  },
  "language_info": {
   "codemirror_mode": {
    "name": "ipython",
    "version": 3
   },
   "file_extension": ".py",
   "mimetype": "text/x-python",
   "name": "python",
   "nbconvert_exporter": "python",
   "pygments_lexer": "ipython3",
   "version": "3.7.6"
  }
 },
 "nbformat": 4,
 "nbformat_minor": 4
}
