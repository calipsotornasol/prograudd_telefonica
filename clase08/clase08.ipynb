{
 "cells": [
  {
   "cell_type": "markdown",
   "metadata": {},
   "source": [
    "# Lista de Listas (Matrices)"
   ]
  },
  {
   "cell_type": "code",
   "execution_count": 17,
   "metadata": {},
   "outputs": [
    {
     "name": "stdout",
     "output_type": "stream",
     "text": [
      "[[0, 0, 0, 0], [0, 0, 0, 0], [0, 0, 0, 0]]\n"
     ]
    }
   ],
   "source": [
    "rows = 3 \n",
    "cols = 4\n",
    "matrix = []\n",
    "\n",
    "for i in range(rows):\n",
    "    matrix.append([0]*cols)\n",
    "\n",
    "print(matrix)"
   ]
  },
  {
   "cell_type": "markdown",
   "metadata": {},
   "source": [
    "Inicializando una Matriz Con Numeros Al Azar"
   ]
  },
  {
   "cell_type": "code",
   "execution_count": 59,
   "metadata": {},
   "outputs": [
    {
     "name": "stdout",
     "output_type": "stream",
     "text": [
      "[[0, 0, 0, 0], [0, 0, 0, 0], [0, 0, 0, 0]]\n"
     ]
    }
   ],
   "source": [
    "from random import random\n",
    "\n",
    "rows = 3\n",
    "cols = 4\n",
    "matrix = []\n",
    "\n",
    "for i in range(rows):\n",
    "    matrix.append([0]*cols) #Inicializando matriz de ceros\n",
    "\n",
    "print(matrix)"
   ]
  },
  {
   "cell_type": "code",
   "execution_count": 60,
   "metadata": {},
   "outputs": [],
   "source": [
    "def fillrandom(matrix, rows, cols):\n",
    "    for i in range(rows):\n",
    "        for j in range(cols):\n",
    "            matrix[i][j] = random()"
   ]
  },
  {
   "cell_type": "code",
   "execution_count": 62,
   "metadata": {},
   "outputs": [
    {
     "name": "stdout",
     "output_type": "stream",
     "text": [
      "[[0.7513395681884106, 0.1863406722302039, 0.5658129115130129, 0.6020195179610255], [0.19871805813214993, 0.9579208350928351, 0.73063100148844, 0.57636813244553], [0.6969091341226183, 0.09009945211379755, 0.7204809525415817, 0.9133228286842934]]\n"
     ]
    }
   ],
   "source": [
    "fillrandom(matrix, rows, cols)\n",
    "\n",
    "print(matrix)"
   ]
  },
  {
   "cell_type": "markdown",
   "metadata": {},
   "source": [
    "# Tuplas"
   ]
  },
  {
   "cell_type": "code",
   "execution_count": 23,
   "metadata": {},
   "outputs": [
    {
     "name": "stdout",
     "output_type": "stream",
     "text": [
      "('manzana', 'platano', 'naranja')\n"
     ]
    }
   ],
   "source": [
    "frutas = (\"manzana\", \"platano\", \"naranja\")\n",
    "print(frutas)"
   ]
  },
  {
   "cell_type": "markdown",
   "metadata": {},
   "source": [
    "Accediendo a un elemento"
   ]
  },
  {
   "cell_type": "code",
   "execution_count": 58,
   "metadata": {},
   "outputs": [
    {
     "name": "stdout",
     "output_type": "stream",
     "text": [
      "platano\n"
     ]
    }
   ],
   "source": [
    "print(frutas[1])"
   ]
  },
  {
   "cell_type": "markdown",
   "metadata": {},
   "source": [
    "Imprimiendo los elementos uno a uno"
   ]
  },
  {
   "cell_type": "code",
   "execution_count": 54,
   "metadata": {},
   "outputs": [
    {
     "name": "stdout",
     "output_type": "stream",
     "text": [
      "manzana\n",
      "platano\n",
      "naranja\n"
     ]
    }
   ],
   "source": [
    "for fruta in frutas:\n",
    "  print(fruta)"
   ]
  },
  {
   "cell_type": "markdown",
   "metadata": {},
   "source": [
    "Verificando si existe algun elemento en la tupla"
   ]
  },
  {
   "cell_type": "code",
   "execution_count": 63,
   "metadata": {},
   "outputs": [
    {
     "name": "stdout",
     "output_type": "stream",
     "text": [
      "Sí, manzana esta en frutas\n"
     ]
    }
   ],
   "source": [
    "if \"manzana\" in frutas:\n",
    "      print(\"Sí, manzana esta en frutas\")"
   ]
  },
  {
   "cell_type": "markdown",
   "metadata": {},
   "source": [
    "Largo de una tupla"
   ]
  },
  {
   "cell_type": "code",
   "execution_count": 64,
   "metadata": {},
   "outputs": [
    {
     "name": "stdout",
     "output_type": "stream",
     "text": [
      "3\n"
     ]
    }
   ],
   "source": [
    "print(len(frutas))"
   ]
  },
  {
   "cell_type": "markdown",
   "metadata": {},
   "source": [
    "¿Anadir un elemento a una tupla?"
   ]
  },
  {
   "cell_type": "code",
   "execution_count": 57,
   "metadata": {},
   "outputs": [
    {
     "name": "stdout",
     "output_type": "stream",
     "text": [
      "('manzana', 'platano', 'naranja')\n"
     ]
    }
   ],
   "source": [
    "#frutas[3] = \"frutilla\" # Error\n",
    "print(frutas)"
   ]
  },
  {
   "cell_type": "markdown",
   "metadata": {},
   "source": [
    "# Sets"
   ]
  },
  {
   "cell_type": "code",
   "execution_count": 10,
   "metadata": {},
   "outputs": [
    {
     "name": "stdout",
     "output_type": "stream",
     "text": [
      "Imprimiendo un set\n",
      "A: {1, 2, 3}\n"
     ]
    }
   ],
   "source": [
    "print(\"Imprimiendo un set\")\n",
    "A = {1, 2, 2, 3}\n",
    "print('A:', A)"
   ]
  },
  {
   "cell_type": "code",
   "execution_count": 13,
   "metadata": {},
   "outputs": [
    {
     "name": "stdout",
     "output_type": "stream",
     "text": [
      "Consultando por un valor\n",
      "2 in A?: False\n"
     ]
    }
   ],
   "source": [
    "print(\"Consultando por un valor\")\n",
    "print('2 in A?:', 4 in A)"
   ]
  },
  {
   "cell_type": "code",
   "execution_count": 14,
   "metadata": {},
   "outputs": [
    {
     "name": "stdout",
     "output_type": "stream",
     "text": [
      "Anadiendo un valor\n",
      "A.add(99): {99, 1, 2, 3}\n"
     ]
    }
   ],
   "source": [
    "print(\"Anadiendo un valor\")\n",
    "A.add(99)\n",
    "print('A.add(99):', A)"
   ]
  },
  {
   "cell_type": "code",
   "execution_count": 15,
   "metadata": {},
   "outputs": [
    {
     "name": "stdout",
     "output_type": "stream",
     "text": [
      "Removiendo un valor\n",
      "A.remove(2): {99, 1, 3}\n"
     ]
    }
   ],
   "source": [
    "print(\"Removiendo un valor\")\n",
    "A.remove(2)\n",
    "print('A.remove(2):', A)"
   ]
  },
  {
   "cell_type": "code",
   "execution_count": 16,
   "metadata": {},
   "outputs": [
    {
     "name": "stdout",
     "output_type": "stream",
     "text": [
      "Creando un set con valores de diferente tipo\n",
      "B: {1, 2, 3, 'hola'}\n"
     ]
    }
   ],
   "source": [
    "print(\"Creando un set con valores de diferente tipo\")\n",
    "B = set([1, 2, 3, 'hola'])\n",
    "print('B:', B)"
   ]
  },
  {
   "cell_type": "code",
   "execution_count": 32,
   "metadata": {},
   "outputs": [
    {
     "name": "stdout",
     "output_type": "stream",
     "text": [
      "Algunas operaciones\n",
      "Intersección\n",
      "A: {99, 1, 3}\n",
      "B: {1, 2, 3, 'hola'}\n",
      "A ∩ B: {1, 3}\n",
      "A ∩ B: {1, 3}\n"
     ]
    }
   ],
   "source": [
    "print(\"Algunas operaciones\")\n",
    "print(\"Intersección\")\n",
    "print('A:', A)\n",
    "print('B:', B)\n",
    "print('A ∩ B:', A.intersection(B))\n",
    "print('A ∩ B:', A & B)"
   ]
  },
  {
   "cell_type": "code",
   "execution_count": 31,
   "metadata": {},
   "outputs": [
    {
     "name": "stdout",
     "output_type": "stream",
     "text": [
      "Union\n",
      "A: {99, 1, 3}\n",
      "B: {1, 2, 3, 'hola'}\n",
      "A ∪ B: {1, 2, 3, 99, 'hola'}\n",
      "A ∪ B: {1, 2, 3, 99, 'hola'}\n"
     ]
    }
   ],
   "source": [
    "print(\"Union\")\n",
    "print('A:', A)\n",
    "print('B:', B)\n",
    "print('A ∪ B:', A.union(B))\n",
    "print('A ∪ B:', A | B)"
   ]
  },
  {
   "cell_type": "code",
   "execution_count": 30,
   "metadata": {},
   "outputs": [
    {
     "name": "stdout",
     "output_type": "stream",
     "text": [
      "Diferencia (Elementos que estan en A pero no en B )\n",
      "A: {99, 1, 3}\n",
      "B: {1, 2, 3, 'hola'}\n",
      "A - B: {99}\n",
      "A - B: {99}\n"
     ]
    }
   ],
   "source": [
    "print(\"Diferencia (Elementos que estan en A pero no en B )\")\n",
    "print('A:', A)\n",
    "print('B:', B)\n",
    "print('A - B:', A.difference(B))\n",
    "print('A - B:', A - B)"
   ]
  },
  {
   "cell_type": "code",
   "execution_count": 29,
   "metadata": {},
   "outputs": [
    {
     "name": "stdout",
     "output_type": "stream",
     "text": [
      "Diferencia (Elementos que estan en B pero no en A)\n",
      "A: {99, 1, 3}\n",
      "B: {1, 2, 3, 'hola'}\n",
      "B - A: {2, 'hola'}\n",
      "B - A: {2, 'hola'}\n"
     ]
    }
   ],
   "source": [
    "print(\"Diferencia (Elementos que estan en B pero no en A)\")\n",
    "print('A:', A)\n",
    "print('B:', B)\n",
    "print('B - A:', B.difference(A))\n",
    "print('B - A:', B - A)"
   ]
  },
  {
   "cell_type": "markdown",
   "metadata": {},
   "source": [
    "# ¿Un set de listas?"
   ]
  },
  {
   "cell_type": "code",
   "execution_count": 33,
   "metadata": {},
   "outputs": [
    {
     "name": "stdout",
     "output_type": "stream",
     "text": [
      "Intentando crear un set de listas:\n"
     ]
    },
    {
     "ename": "TypeError",
     "evalue": "unhashable type: 'list'",
     "output_type": "error",
     "traceback": [
      "\u001b[0;31m---------------------------------------------------------------------------\u001b[0m",
      "\u001b[0;31mTypeError\u001b[0m                                 Traceback (most recent call last)",
      "\u001b[0;32m<ipython-input-33-f18d64f4dc8d>\u001b[0m in \u001b[0;36m<module>\u001b[0;34m\u001b[0m\n\u001b[1;32m      1\u001b[0m \u001b[0mprint\u001b[0m\u001b[0;34m(\u001b[0m\u001b[0;34m\"Intentando crear un set de listas:\"\u001b[0m\u001b[0;34m)\u001b[0m\u001b[0;34m\u001b[0m\u001b[0;34m\u001b[0m\u001b[0m\n\u001b[0;32m----> 2\u001b[0;31m \u001b[0mA\u001b[0m \u001b[0;34m=\u001b[0m \u001b[0;34m{\u001b[0m\u001b[0;34m[\u001b[0m\u001b[0;36m1\u001b[0m\u001b[0;34m,\u001b[0m \u001b[0;36m2\u001b[0m\u001b[0;34m,\u001b[0m \u001b[0;36m3\u001b[0m\u001b[0;34m,\u001b[0m \u001b[0;36m4\u001b[0m\u001b[0;34m]\u001b[0m\u001b[0;34m,\u001b[0m \u001b[0;34m[\u001b[0m\u001b[0;34m'a'\u001b[0m\u001b[0;34m,\u001b[0m \u001b[0;34m'b'\u001b[0m\u001b[0;34m,\u001b[0m \u001b[0;34m'c'\u001b[0m\u001b[0;34m]\u001b[0m\u001b[0;34m}\u001b[0m\u001b[0;34m\u001b[0m\u001b[0;34m\u001b[0m\u001b[0m\n\u001b[0m\u001b[1;32m      3\u001b[0m \u001b[0mprint\u001b[0m\u001b[0;34m(\u001b[0m\u001b[0;34m'A:'\u001b[0m\u001b[0;34m,\u001b[0m \u001b[0mA\u001b[0m\u001b[0;34m)\u001b[0m\u001b[0;34m\u001b[0m\u001b[0;34m\u001b[0m\u001b[0m\n",
      "\u001b[0;31mTypeError\u001b[0m: unhashable type: 'list'"
     ]
    }
   ],
   "source": [
    "print(\"Intentando crear un set de listas:\")\n",
    "A = {[1, 2, 3, 4], ['a', 'b', 'c']}\n",
    "print('A:', A)"
   ]
  },
  {
   "cell_type": "markdown",
   "metadata": {},
   "source": [
    "# ¿Un set de tuplas?"
   ]
  },
  {
   "cell_type": "code",
   "execution_count": 34,
   "metadata": {},
   "outputs": [
    {
     "name": "stdout",
     "output_type": "stream",
     "text": [
      "Intentando crear un set de tuples:\n",
      "A: {(1, 2, 3, 4), ('a', 'b', 'c')}\n"
     ]
    }
   ],
   "source": [
    "#Intentando crear un set de tuples\n",
    "print(\"Intentando crear un set de tuples:\")\n",
    "A = {(1, 2, 3, 4), ('a', 'b', 'c')}\n",
    "print('A:', A)"
   ]
  },
  {
   "cell_type": "code",
   "execution_count": 35,
   "metadata": {},
   "outputs": [
    {
     "name": "stdout",
     "output_type": "stream",
     "text": [
      "Verificando elementos\n",
      "(1, 7, 3, 4) in A?: True\n"
     ]
    }
   ],
   "source": [
    "print(\"Verificando elementos\")\n",
    "print('(1, 7, 3, 4) in A?:', (1, 2, 3, 4) in A)"
   ]
  },
  {
   "cell_type": "markdown",
   "metadata": {},
   "source": [
    "# Diccionarios"
   ]
  },
  {
   "cell_type": "markdown",
   "metadata": {},
   "source": [
    "Crear un diccionario"
   ]
  },
  {
   "cell_type": "code",
   "execution_count": 66,
   "metadata": {},
   "outputs": [],
   "source": [
    "ipaddress = dict() "
   ]
  },
  {
   "cell_type": "code",
   "execution_count": 67,
   "metadata": {},
   "outputs": [],
   "source": [
    "ipaddress['udd.cl'] = '201.221.123.142'\n",
    "ipaddress['ingenieria.udd.cl'] = '201.221.123.142'\n",
    "ipaddress['google.com'] = '64.233.190.101'\n",
    "ipaddress['pokemongo.com'] = '13.33.131.6'"
   ]
  },
  {
   "cell_type": "code",
   "execution_count": 71,
   "metadata": {},
   "outputs": [
    {
     "name": "stdout",
     "output_type": "stream",
     "text": [
      "ipaddress = {'udd.cl': '201.221.123.142', 'ingenieria.udd.cl': '201.221.123.142', 'google.com': '64.233.190.101', 'pokemongo.com': '13.33.131.6'}\n"
     ]
    }
   ],
   "source": [
    "print('ipaddress =', ipaddress)"
   ]
  },
  {
   "cell_type": "code",
   "execution_count": 72,
   "metadata": {},
   "outputs": [
    {
     "name": "stdout",
     "output_type": "stream",
     "text": [
      "Dirección IP de udd.cl: 64.233.190.101\n"
     ]
    }
   ],
   "source": [
    "print('Dirección IP de udd.cl:', ipaddress['google.com'])"
   ]
  },
  {
   "cell_type": "markdown",
   "metadata": {},
   "source": [
    "Otra forma"
   ]
  },
  {
   "cell_type": "code",
   "execution_count": 74,
   "metadata": {},
   "outputs": [],
   "source": [
    "ipaddress = {'udd.cl':'201.221.123.142',\n",
    "             'google.com':'64.233.190.101'}"
   ]
  },
  {
   "cell_type": "code",
   "execution_count": 75,
   "metadata": {},
   "outputs": [],
   "source": [
    "ipaddress['ingenieria.udd.cl'] = '201.221.123.142'\n",
    "ipaddress['www.pokemongo.com'] = '13.33.131.6'"
   ]
  },
  {
   "cell_type": "code",
   "execution_count": 76,
   "metadata": {},
   "outputs": [
    {
     "name": "stdout",
     "output_type": "stream",
     "text": [
      "Dirección IP de udd.cl: 201.221.123.142\n",
      "Dirección IP de ingenieria.udd.cl: 201.221.123.142\n"
     ]
    }
   ],
   "source": [
    "print('Dirección IP de udd.cl:', ipaddress['udd.cl'])\n",
    "\n",
    "print('Dirección IP de ingenieria.udd.cl:', ipaddress['ingenieria.udd.cl'])"
   ]
  },
  {
   "cell_type": "markdown",
   "metadata": {},
   "source": [
    "# Operaciones Con Diccionarios"
   ]
  },
  {
   "cell_type": "code",
   "execution_count": 2,
   "metadata": {},
   "outputs": [],
   "source": [
    "d = {\"Python\": 1991, \"C\": 1972, \"Java\": 1996}"
   ]
  },
  {
   "cell_type": "markdown",
   "metadata": {},
   "source": [
    "Llaves\n"
   ]
  },
  {
   "cell_type": "code",
   "execution_count": 3,
   "metadata": {},
   "outputs": [
    {
     "name": "stdout",
     "output_type": "stream",
     "text": [
      "Python\n",
      "C\n",
      "Java\n"
     ]
    }
   ],
   "source": [
    "for key in d:\n",
    "    print(key)"
   ]
  },
  {
   "cell_type": "markdown",
   "metadata": {},
   "source": [
    "Valores"
   ]
  },
  {
   "cell_type": "code",
   "execution_count": 5,
   "metadata": {},
   "outputs": [
    {
     "name": "stdout",
     "output_type": "stream",
     "text": [
      "1991\n",
      "1972\n",
      "1996\n"
     ]
    }
   ],
   "source": [
    "for value in d.values():\n",
    "    print(value)"
   ]
  },
  {
   "cell_type": "markdown",
   "metadata": {},
   "source": [
    "Llaves y valores"
   ]
  },
  {
   "cell_type": "code",
   "execution_count": 6,
   "metadata": {},
   "outputs": [
    {
     "name": "stdout",
     "output_type": "stream",
     "text": [
      "Python 1991\n",
      "C 1972\n",
      "Java 1996\n"
     ]
    }
   ],
   "source": [
    "for key,value in d.items():\n",
    "    print(key, value)"
   ]
  },
  {
   "cell_type": "code",
   "execution_count": 42,
   "metadata": {},
   "outputs": [
    {
     "name": "stdout",
     "output_type": "stream",
     "text": [
      "['Desde', 'lima', 'vengo', 'a', 'mi', 'machaguay', 'Desde', 'Lima', 'vengo', 'a', 'mi', 'machaguay', 'A', 'bailar', 'el', 'mambo', 'de', 'mi', 'machaguay', 'A', 'bailar', 'el', 'mambo', 'de', 'mi', 'machaguay']\n",
      "{'Desde': 2, 'lima': 1, 'vengo': 2, 'a': 2, 'mi': 4, 'machaguay': 4, 'Lima': 1, 'A': 2, 'bailar': 2, 'el': 2, 'mambo': 2, 'de': 2}\n"
     ]
    }
   ],
   "source": [
    "def word_count(message):\n",
    "    counts = dict()\n",
    "    words = message.split()#words es una lista\n",
    "    print(words)\n",
    "\n",
    "\n",
    "    for word in words:\n",
    "        if word in counts:\n",
    "            counts[word] += 1\n",
    "            \n",
    "        \n",
    "        else:\n",
    "            counts[word] = 1\n",
    "\n",
    "    return counts\n",
    "\n",
    "\n",
    "mambo = '''Desde lima vengo a mi machaguay\n",
    "Desde Lima vengo a mi machaguay\n",
    "A bailar el mambo de mi machaguay\n",
    "A bailar el mambo de mi machaguay'''\n",
    "\n",
    "print(word_count(mambo))\n"
   ]
  },
  {
   "cell_type": "code",
   "execution_count": 1,
   "metadata": {},
   "outputs": [
    {
     "name": "stdout",
     "output_type": "stream",
     "text": [
      "Loreto tiene un 7.0\n"
     ]
    }
   ],
   "source": [
    "def obtener_notas(estudiante, dict_notas):\n",
    "    nota = dict_notas[estudiante]\n",
    "    return nota\n",
    "\n"
   ]
  },
  {
   "cell_type": "code",
   "execution_count": 8,
   "metadata": {},
   "outputs": [],
   "source": [
    "notas = {'Diego'    : 4.1\n",
    "        ,'Francisca': 5.5\n",
    "        ,'Daniela'  : 6.8\n",
    "        ,'Leo'      : 3.9\n",
    "        ,'Loreto'   : 7.0}"
   ]
  },
  {
   "cell_type": "code",
   "execution_count": 9,
   "metadata": {},
   "outputs": [
    {
     "name": "stdout",
     "output_type": "stream",
     "text": [
      "Loreto tiene un 7.0\n"
     ]
    }
   ],
   "source": [
    "estudiante='Loreto'\n",
    "\n",
    "#Llamo a la funcion \n",
    "nota = obtener_notas(estudiante, notas)\n",
    "\n",
    "print(estudiante, 'tiene un', nota)"
   ]
  },
  {
   "cell_type": "code",
   "execution_count": null,
   "metadata": {},
   "outputs": [],
   "source": []
  }
 ],
 "metadata": {
  "kernelspec": {
   "display_name": "Python 3.8 (displacement)",
   "language": "python",
   "name": "python_3.8-displacement"
  },
  "language_info": {
   "codemirror_mode": {
    "name": "ipython",
    "version": 3
   },
   "file_extension": ".py",
   "mimetype": "text/x-python",
   "name": "python",
   "nbconvert_exporter": "python",
   "pygments_lexer": "ipython3",
   "version": "3.8.3"
  }
 },
 "nbformat": 4,
 "nbformat_minor": 4
}
