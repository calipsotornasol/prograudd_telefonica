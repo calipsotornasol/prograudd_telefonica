{
 "cells": [
  {
   "cell_type": "markdown",
   "metadata": {},
   "source": [
    "# Numpy"
   ]
  },
  {
   "cell_type": "code",
   "execution_count": 1,
   "metadata": {},
   "outputs": [],
   "source": [
    "#!conda install numpy"
   ]
  },
  {
   "cell_type": "code",
   "execution_count": 2,
   "metadata": {},
   "outputs": [],
   "source": [
    "import numpy as np"
   ]
  },
  {
   "cell_type": "markdown",
   "metadata": {},
   "source": [
    "Crear un arreglo de 2 elementos con zeros"
   ]
  },
  {
   "cell_type": "code",
   "execution_count": 3,
   "metadata": {},
   "outputs": [
    {
     "data": {
      "text/plain": [
       "array([0., 0.])"
      ]
     },
     "execution_count": 3,
     "metadata": {},
     "output_type": "execute_result"
    }
   ],
   "source": [
    "a=np.zeros(2)\n",
    "\n",
    "a"
   ]
  },
  {
   "cell_type": "markdown",
   "metadata": {},
   "source": [
    "Crear un arreglo de 2 elementos con unos"
   ]
  },
  {
   "cell_type": "code",
   "execution_count": 4,
   "metadata": {},
   "outputs": [
    {
     "data": {
      "text/plain": [
       "array([1., 1.])"
      ]
     },
     "execution_count": 4,
     "metadata": {},
     "output_type": "execute_result"
    }
   ],
   "source": [
    "b=np.ones(2)\n",
    "\n",
    "b"
   ]
  },
  {
   "cell_type": "markdown",
   "metadata": {},
   "source": [
    "Crear un arreglo de 4 elementos consecutivos del 0 al 3"
   ]
  },
  {
   "cell_type": "code",
   "execution_count": 5,
   "metadata": {},
   "outputs": [
    {
     "data": {
      "text/plain": [
       "array([0, 1, 2, 3])"
      ]
     },
     "execution_count": 5,
     "metadata": {},
     "output_type": "execute_result"
    }
   ],
   "source": [
    "c=np.arange(4)\n",
    "\n",
    "c"
   ]
  },
  {
   "cell_type": "markdown",
   "metadata": {},
   "source": [
    "Crear un arreglo elementos consecutivos del 2 al 8, saltandose 2"
   ]
  },
  {
   "cell_type": "code",
   "execution_count": 6,
   "metadata": {},
   "outputs": [
    {
     "data": {
      "text/plain": [
       "array([2, 4, 6, 8])"
      ]
     },
     "execution_count": 6,
     "metadata": {},
     "output_type": "execute_result"
    }
   ],
   "source": [
    "d=np.arange(2, 9, 2)\n",
    "\n",
    "d"
   ]
  },
  {
   "cell_type": "markdown",
   "metadata": {},
   "source": [
    "Crear un arreglo 0 al 10, espaciados"
   ]
  },
  {
   "cell_type": "code",
   "execution_count": 7,
   "metadata": {},
   "outputs": [
    {
     "name": "stdout",
     "output_type": "stream",
     "text": [
      "[ 0.  5. 10.]\n"
     ]
    }
   ],
   "source": [
    "e=np.linspace(0, 10, num=3)\n",
    "\n",
    "print(e)"
   ]
  },
  {
   "cell_type": "markdown",
   "metadata": {},
   "source": [
    "Ordenar un arreglo"
   ]
  },
  {
   "cell_type": "code",
   "execution_count": 8,
   "metadata": {},
   "outputs": [],
   "source": [
    "arr = np.array([2, 1, 5, 3, 7, 4, 6, 8])\n",
    "arr2= np.sort(arr)"
   ]
  },
  {
   "cell_type": "code",
   "execution_count": 9,
   "metadata": {},
   "outputs": [
    {
     "data": {
      "text/plain": [
       "array([1, 2, 3, 4, 5, 6, 7, 8])"
      ]
     },
     "execution_count": 9,
     "metadata": {},
     "output_type": "execute_result"
    }
   ],
   "source": [
    "arr2"
   ]
  },
  {
   "cell_type": "markdown",
   "metadata": {},
   "source": [
    "Concatenar"
   ]
  },
  {
   "cell_type": "code",
   "execution_count": 10,
   "metadata": {},
   "outputs": [
    {
     "data": {
      "text/plain": [
       "array([0., 0., 2., 1., 5., 3., 7., 4., 6., 8.])"
      ]
     },
     "execution_count": 10,
     "metadata": {},
     "output_type": "execute_result"
    }
   ],
   "source": [
    "z=np.concatenate((a, arr))\n",
    "z"
   ]
  },
  {
   "cell_type": "markdown",
   "metadata": {},
   "source": [
    "Crear un arreglo de 3 filas y cuatro columnas"
   ]
  },
  {
   "cell_type": "code",
   "execution_count": 11,
   "metadata": {},
   "outputs": [
    {
     "name": "stdout",
     "output_type": "stream",
     "text": [
      "[[ 1  2  3  4]\n",
      " [ 5  6  7  8]\n",
      " [ 9 10 11 12]]\n"
     ]
    }
   ],
   "source": [
    "f = np.array([[1, 2, 3, 4], [5, 6, 7, 8], [9, 10, 11, 12]])\n",
    "\n",
    "print(f)"
   ]
  },
  {
   "cell_type": "code",
   "execution_count": 12,
   "metadata": {},
   "outputs": [
    {
     "name": "stdout",
     "output_type": "stream",
     "text": [
      "/Users/danielaudd/Documents/udd/cursos/prograudd_telefonica/clase09\r\n"
     ]
    }
   ],
   "source": [
    "!pwd"
   ]
  },
  {
   "cell_type": "markdown",
   "metadata": {},
   "source": [
    "# Matplotlib"
   ]
  },
  {
   "cell_type": "code",
   "execution_count": 13,
   "metadata": {},
   "outputs": [],
   "source": [
    "import matplotlib.pyplot as plt"
   ]
  },
  {
   "cell_type": "markdown",
   "metadata": {},
   "source": [
    "## Grafico 1"
   ]
  },
  {
   "cell_type": "markdown",
   "metadata": {},
   "source": [
    "Creamos un arreglo"
   ]
  },
  {
   "cell_type": "code",
   "execution_count": 14,
   "metadata": {},
   "outputs": [
    {
     "name": "stdout",
     "output_type": "stream",
     "text": [
      "[0.  0.2 0.4 0.6 0.8 1.  1.2 1.4 1.6 1.8 2.  2.2 2.4 2.6 2.8 3.  3.2 3.4\n",
      " 3.6 3.8 4.  4.2 4.4 4.6 4.8]\n"
     ]
    }
   ],
   "source": [
    "t = np.arange(0., 5., 0.2)\n",
    "\n",
    "print(t)"
   ]
  },
  {
   "cell_type": "code",
   "execution_count": 15,
   "metadata": {},
   "outputs": [
    {
     "data": {
      "image/png": "[encoded data removed]",
      "text/plain": [
       "<Figure size 432x288 with 1 Axes>"
      ]
     },
     "metadata": {
      "needs_background": "light"
     },
     "output_type": "display_data"
    }
   ],
   "source": [
    "plt.plot(t,t**2, 'r--', label='t^2') #Rojo\n",
    "plt.plot(t,t**3, 'g*' , label='t^3') #Verde\n",
    "\n",
    "\n",
    "plt.ylabel('f(t)')\n",
    "plt.xlabel('t')\n",
    "\n",
    "plt.legend() #Leyenda\n",
    "plt.title('Graficos1')\n",
    "plt.savefig('Graficos1.png'); #Para guardar un grafico\n",
    "plt.show();\n",
    "\n"
   ]
  },
  {
   "cell_type": "markdown",
   "metadata": {},
   "source": [
    "## Grafico 2"
   ]
  },
  {
   "cell_type": "code",
   "execution_count": 16,
   "metadata": {},
   "outputs": [],
   "source": [
    "def f(t):\n",
    "    return np.exp(-t) * np.cos(2*np.pi*t)"
   ]
  },
  {
   "cell_type": "code",
   "execution_count": 17,
   "metadata": {},
   "outputs": [],
   "source": [
    "t1 = np.arange(0.0, 5.0, 0.1)\n",
    "t2 = np.arange(0.0, 5.0, 0.02)\n",
    "\n",
    "#print(t1)\n",
    "\n",
    "#print(t2)"
   ]
  },
  {
   "cell_type": "code",
   "execution_count": 18,
   "metadata": {},
   "outputs": [
    {
     "data": {
      "text/plain": [
       "50"
      ]
     },
     "execution_count": 18,
     "metadata": {},
     "output_type": "execute_result"
    }
   ],
   "source": [
    "len(t1)\n"
   ]
  },
  {
   "cell_type": "code",
   "execution_count": 19,
   "metadata": {},
   "outputs": [
    {
     "data": {
      "text/plain": [
       "250"
      ]
     },
     "execution_count": 19,
     "metadata": {},
     "output_type": "execute_result"
    }
   ],
   "source": [
    "len(t2)"
   ]
  },
  {
   "cell_type": "code",
   "execution_count": 20,
   "metadata": {},
   "outputs": [
    {
     "data": {
      "image/png": "[encoded data removed]",
      "text/plain": [
       "<Figure size 432x288 with 2 Axes>"
      ]
     },
     "metadata": {
      "needs_background": "light"
     },
     "output_type": "display_data"
    }
   ],
   "source": [
    "plt.figure()\n",
    "plt.subplot(211)\n",
    "plt.xlabel('t')\n",
    "plt.ylabel('Exp(-t)Cos(2\\u03C0t)')\n",
    "plt.plot(t2, f(t2), 'bo') #Azul\n",
    "\n",
    "plt.subplot(212)\n",
    "plt.ylabel('Cos2\\u03C0t')\n",
    "plt.plot(t1, np.cos(2*np.pi*t1), 'r--')#Rojo\n",
    "\n",
    "plt.suptitle('Grafico2')\n",
    "\n",
    "\n",
    "plt.savefig('Graficos2.png')\n",
    "plt.show()"
   ]
  },
  {
   "cell_type": "markdown",
   "metadata": {},
   "source": [
    "# Graficando Datos a Partir de Archivos con Numpy y Matplotlib"
   ]
  },
  {
   "cell_type": "code",
   "execution_count": 21,
   "metadata": {},
   "outputs": [
    {
     "name": "stdout",
     "output_type": "stream",
     "text": [
      "\u001b[31m01_numpy_basics.py\u001b[m\u001b[m              Graficos2.png\r\n",
      "\u001b[31m02_numpy_plot1.py\u001b[m\u001b[m               IndiceDeMovilidad-IM.csv\r\n",
      "\u001b[31m02_numpy_plot2.py\u001b[m\u001b[m               clase09.ipynb\r\n",
      "\u001b[31m03_movilidad.py\u001b[m\u001b[m                 \u001b[31mclase09.key\u001b[m\u001b[m\r\n",
      "2020-05-11-CasosConfirmados.csv clase09.pdf\r\n",
      "Graficos1.pdf                   clase09_alternativa_plot.ipynb\r\n",
      "Graficos1.png                   movilidad.png\r\n"
     ]
    }
   ],
   "source": [
    "!ls"
   ]
  },
  {
   "cell_type": "code",
   "execution_count": 22,
   "metadata": {},
   "outputs": [],
   "source": [
    "a=np.genfromtxt(\"IndiceDeMovilidad-IM.csv\", delimiter=\",\", dtype='str')  \n",
    "for i in range(len(a)):\n",
    "    if a[i][0]=='Metropolitana de Santiago' and a[i][2] == 'Las Condes':\n",
    "        las_condes=a[i][6::]\n",
    "    elif a[i][0]=='Metropolitana de Santiago' and a[i][2] == 'La Granja':\n",
    "        la_granja=a[i][6::]"
   ]
  },
  {
   "cell_type": "code",
   "execution_count": 23,
   "metadata": {},
   "outputs": [
    {
     "data": {
      "text/plain": [
       "array([['Region', 'Codigo region', 'Comuna', ..., '2020-04-10',\n",
       "        '2020-04-11', '2020-04-12'],\n",
       "       ['Antofagasta', '2', 'Antofagasta', ..., '4.511997802218623',\n",
       "        '4.551339983516639', '4.23425318062542'],\n",
       "       ['Antofagasta', '2', 'Calama', ..., '3.702226766643944',\n",
       "        '3.6923142467621', '3.4747500568052714'],\n",
       "       ...,\n",
       "       ['Ñuble', '16', 'Treguaco', ..., '4.377602297200287',\n",
       "        '4.53194544149318', '4.356783919597991'],\n",
       "       ['Ñuble', '16', 'Yungay', ..., '1.1839985353350422',\n",
       "        '1.2283046503112414', '1.2253753203954596'],\n",
       "       ['Ñuble', '16', 'Ñiquén', ..., '4.156609195402298',\n",
       "        '4.459770114942528', '4.522988505747127']], dtype='<U41')"
      ]
     },
     "execution_count": 23,
     "metadata": {},
     "output_type": "execute_result"
    }
   ],
   "source": [
    "a"
   ]
  },
  {
   "cell_type": "code",
   "execution_count": 24,
   "metadata": {},
   "outputs": [],
   "source": [
    "fechas=a[0][6::] #primera columna"
   ]
  },
  {
   "cell_type": "code",
   "execution_count": 25,
   "metadata": {},
   "outputs": [
    {
     "data": {
      "text/plain": [
       "array(['2020-02-26', '2020-02-27', '2020-02-28', '2020-02-29',\n",
       "       '2020-03-01', '2020-03-02', '2020-03-03', '2020-03-04',\n",
       "       '2020-03-05', '2020-03-06', '2020-03-07', '2020-03-08',\n",
       "       '2020-03-09', '2020-03-10', '2020-03-11', '2020-03-12',\n",
       "       '2020-03-13', '2020-03-14', '2020-03-15', '2020-03-16',\n",
       "       '2020-03-17', '2020-03-18', '2020-03-19', '2020-03-20',\n",
       "       '2020-03-21', '2020-03-22', '2020-03-23', '2020-03-24',\n",
       "       '2020-03-25', '2020-03-26', '2020-03-27', '2020-03-28',\n",
       "       '2020-03-29', '2020-03-30', '2020-03-31', '2020-04-01',\n",
       "       '2020-04-02', '2020-04-03', '2020-04-04', '2020-04-05',\n",
       "       '2020-04-06', '2020-04-07', '2020-04-08', '2020-04-09',\n",
       "       '2020-04-10', '2020-04-11', '2020-04-12'], dtype='<U41')"
      ]
     },
     "execution_count": 25,
     "metadata": {},
     "output_type": "execute_result"
    }
   ],
   "source": [
    "fechas"
   ]
  },
  {
   "cell_type": "code",
   "execution_count": 26,
   "metadata": {},
   "outputs": [
    {
     "data": {
      "text/plain": [
       "array(['18.317062238060018', '18.97740872722383', '18.727649655976148',\n",
       "       '13.058887469463679', '11.6912077814384', '20.33622447836124',\n",
       "       '21.23979694748874', '21.39702817185504', '21.57137094063067',\n",
       "       '21.756336986485575', '14.713451668571684', '12.06515161702414',\n",
       "       '21.639155964947673', '22.490542145722674', '21.96073421636523',\n",
       "       '24.318328514758285', '23.490508527757235', '15.162912660525784',\n",
       "       '12.447533561935494', '18.773414912929468', '15.923126919025528',\n",
       "       '15.069443510612073', '13.591687397745352', '13.256124072704456',\n",
       "       '10.146462269436787', '9.144221071740738', '12.327730339093213',\n",
       "       '11.881900087406711', '12.050236446356935', '13.112866715973015',\n",
       "       '9.256045630785092', '8.213249960779041', '7.766388758152356',\n",
       "       '9.43246150742957', '9.83509267352473', '9.797350904323268',\n",
       "       '9.540195880678636', '9.790089423788071', '8.619556691095719',\n",
       "       '7.961171249915955', '9.663517783903718', '9.921502050695892',\n",
       "       '9.443432170151725', '9.668762186512472', '8.03541092359757',\n",
       "       '8.055861852574015', '7.853952352136982'], dtype='<U41')"
      ]
     },
     "execution_count": 26,
     "metadata": {},
     "output_type": "execute_result"
    }
   ],
   "source": [
    "las_condes"
   ]
  },
  {
   "cell_type": "code",
   "execution_count": 27,
   "metadata": {},
   "outputs": [],
   "source": [
    "las_condes=las_condes.astype(float)"
   ]
  },
  {
   "cell_type": "code",
   "execution_count": 28,
   "metadata": {},
   "outputs": [],
   "source": [
    "la_granja=la_granja.astype(float)"
   ]
  },
  {
   "cell_type": "code",
   "execution_count": 29,
   "metadata": {},
   "outputs": [
    {
     "data": {
      "text/plain": [
       "[datetime.date(2020, 2, 26),\n",
       " datetime.date(2020, 2, 27),\n",
       " datetime.date(2020, 2, 28),\n",
       " datetime.date(2020, 2, 29),\n",
       " datetime.date(2020, 3, 1),\n",
       " datetime.date(2020, 3, 2),\n",
       " datetime.date(2020, 3, 3),\n",
       " datetime.date(2020, 3, 4),\n",
       " datetime.date(2020, 3, 5),\n",
       " datetime.date(2020, 3, 6),\n",
       " datetime.date(2020, 3, 7),\n",
       " datetime.date(2020, 3, 8),\n",
       " datetime.date(2020, 3, 9),\n",
       " datetime.date(2020, 3, 10),\n",
       " datetime.date(2020, 3, 11),\n",
       " datetime.date(2020, 3, 12),\n",
       " datetime.date(2020, 3, 13),\n",
       " datetime.date(2020, 3, 14),\n",
       " datetime.date(2020, 3, 15),\n",
       " datetime.date(2020, 3, 16),\n",
       " datetime.date(2020, 3, 17),\n",
       " datetime.date(2020, 3, 18),\n",
       " datetime.date(2020, 3, 19),\n",
       " datetime.date(2020, 3, 20),\n",
       " datetime.date(2020, 3, 21),\n",
       " datetime.date(2020, 3, 22),\n",
       " datetime.date(2020, 3, 23),\n",
       " datetime.date(2020, 3, 24),\n",
       " datetime.date(2020, 3, 25),\n",
       " datetime.date(2020, 3, 26),\n",
       " datetime.date(2020, 3, 27),\n",
       " datetime.date(2020, 3, 28),\n",
       " datetime.date(2020, 3, 29),\n",
       " datetime.date(2020, 3, 30),\n",
       " datetime.date(2020, 3, 31),\n",
       " datetime.date(2020, 4, 1),\n",
       " datetime.date(2020, 4, 2),\n",
       " datetime.date(2020, 4, 3),\n",
       " datetime.date(2020, 4, 4),\n",
       " datetime.date(2020, 4, 5),\n",
       " datetime.date(2020, 4, 6),\n",
       " datetime.date(2020, 4, 7),\n",
       " datetime.date(2020, 4, 8),\n",
       " datetime.date(2020, 4, 9),\n",
       " datetime.date(2020, 4, 10),\n",
       " datetime.date(2020, 4, 11),\n",
       " datetime.date(2020, 4, 12)]"
      ]
     },
     "execution_count": 29,
     "metadata": {},
     "output_type": "execute_result"
    }
   ],
   "source": [
    "from datetime import datetime\n",
    "dates=[datetime.strptime(d, '%Y-%m-%d').date() for d in fechas]\n",
    "\n",
    "dates"
   ]
  },
  {
   "cell_type": "code",
   "execution_count": 30,
   "metadata": {},
   "outputs": [
    {
     "data": {
      "image/png": "[encoded data removed]",
      "text/plain": [
       "<Figure size 432x288 with 1 Axes>"
      ]
     },
     "metadata": {
      "needs_background": "light"
     },
     "output_type": "display_data"
    }
   ],
   "source": [
    "plt.ylabel('Indice Movilidad')\n",
    "plt.xlabel('Fecha')\n",
    "plt.xticks(rotation=45)\n",
    "plt.title('Movilidad de Las Condes vs La Granja')\n",
    "plt.plot(dates,las_condes, label='Las Condes')\n",
    "plt.plot(dates,la_granja, label='La Granja')\n",
    "plt.legend()\n",
    "plt.savefig('movilidad.png', bbox_inches='tight', dpi=200)"
   ]
  },
  {
   "cell_type": "markdown",
   "metadata": {},
   "source": [
    "# Graficando Datos a Partir de Archivos con Pandas"
   ]
  },
  {
   "cell_type": "code",
   "execution_count": 31,
   "metadata": {},
   "outputs": [
    {
     "data": {
      "text/html": [
       "<div>\n",
       "<style scoped>\n",
       "    .dataframe tbody tr th:only-of-type {\n",
       "        vertical-align: middle;\n",
       "    }\n",
       "\n",
       "    .dataframe tbody tr th {\n",
       "        vertical-align: top;\n",
       "    }\n",
       "\n",
       "    .dataframe thead th {\n",
       "        text-align: right;\n",
       "    }\n",
       "</style>\n",
       "<table border=\"1\" class=\"dataframe\">\n",
       "  <thead>\n",
       "    <tr style=\"text-align: right;\">\n",
       "      <th></th>\n",
       "      <th>Region</th>\n",
       "      <th>Codigo region</th>\n",
       "      <th>Comuna</th>\n",
       "      <th>Codigo comuna</th>\n",
       "      <th>Superficie_km2</th>\n",
       "      <th>Poblacion</th>\n",
       "      <th>2020-02-26</th>\n",
       "      <th>2020-02-27</th>\n",
       "      <th>2020-02-28</th>\n",
       "      <th>2020-02-29</th>\n",
       "      <th>...</th>\n",
       "      <th>2020-04-03</th>\n",
       "      <th>2020-04-04</th>\n",
       "      <th>2020-04-05</th>\n",
       "      <th>2020-04-06</th>\n",
       "      <th>2020-04-07</th>\n",
       "      <th>2020-04-08</th>\n",
       "      <th>2020-04-09</th>\n",
       "      <th>2020-04-10</th>\n",
       "      <th>2020-04-11</th>\n",
       "      <th>2020-04-12</th>\n",
       "    </tr>\n",
       "  </thead>\n",
       "  <tbody>\n",
       "    <tr>\n",
       "      <th>0</th>\n",
       "      <td>Antofagasta</td>\n",
       "      <td>2</td>\n",
       "      <td>Antofagasta</td>\n",
       "      <td>2101</td>\n",
       "      <td>30718.1</td>\n",
       "      <td>425725.0</td>\n",
       "      <td>7.035543</td>\n",
       "      <td>6.956262</td>\n",
       "      <td>7.052197</td>\n",
       "      <td>6.417247</td>\n",
       "      <td>...</td>\n",
       "      <td>5.487917</td>\n",
       "      <td>4.971258</td>\n",
       "      <td>4.372448</td>\n",
       "      <td>5.610557</td>\n",
       "      <td>5.694622</td>\n",
       "      <td>5.433834</td>\n",
       "      <td>5.625733</td>\n",
       "      <td>4.511998</td>\n",
       "      <td>4.551340</td>\n",
       "      <td>4.234253</td>\n",
       "    </tr>\n",
       "    <tr>\n",
       "      <th>1</th>\n",
       "      <td>Antofagasta</td>\n",
       "      <td>2</td>\n",
       "      <td>Calama</td>\n",
       "      <td>2201</td>\n",
       "      <td>15596.9</td>\n",
       "      <td>190336.0</td>\n",
       "      <td>5.776329</td>\n",
       "      <td>5.743666</td>\n",
       "      <td>5.685611</td>\n",
       "      <td>5.159367</td>\n",
       "      <td>...</td>\n",
       "      <td>4.478954</td>\n",
       "      <td>4.065837</td>\n",
       "      <td>3.569473</td>\n",
       "      <td>4.534055</td>\n",
       "      <td>4.582282</td>\n",
       "      <td>4.388946</td>\n",
       "      <td>4.613099</td>\n",
       "      <td>3.702227</td>\n",
       "      <td>3.692314</td>\n",
       "      <td>3.474750</td>\n",
       "    </tr>\n",
       "    <tr>\n",
       "      <th>2</th>\n",
       "      <td>Antofagasta</td>\n",
       "      <td>2</td>\n",
       "      <td>María Elena</td>\n",
       "      <td>2302</td>\n",
       "      <td>12197.0</td>\n",
       "      <td>6814.0</td>\n",
       "      <td>3.604805</td>\n",
       "      <td>3.208667</td>\n",
       "      <td>3.225153</td>\n",
       "      <td>2.832784</td>\n",
       "      <td>...</td>\n",
       "      <td>2.382007</td>\n",
       "      <td>1.882713</td>\n",
       "      <td>1.633066</td>\n",
       "      <td>2.358455</td>\n",
       "      <td>2.832313</td>\n",
       "      <td>2.818182</td>\n",
       "      <td>2.552991</td>\n",
       "      <td>1.694301</td>\n",
       "      <td>1.692887</td>\n",
       "      <td>1.632595</td>\n",
       "    </tr>\n",
       "    <tr>\n",
       "      <th>3</th>\n",
       "      <td>Antofagasta</td>\n",
       "      <td>2</td>\n",
       "      <td>Mejillones</td>\n",
       "      <td>2102</td>\n",
       "      <td>3803.9</td>\n",
       "      <td>14776.0</td>\n",
       "      <td>6.902062</td>\n",
       "      <td>7.139588</td>\n",
       "      <td>7.169485</td>\n",
       "      <td>6.598144</td>\n",
       "      <td>...</td>\n",
       "      <td>4.628866</td>\n",
       "      <td>3.724948</td>\n",
       "      <td>3.326804</td>\n",
       "      <td>4.723918</td>\n",
       "      <td>4.675258</td>\n",
       "      <td>4.616907</td>\n",
       "      <td>4.717732</td>\n",
       "      <td>2.959381</td>\n",
       "      <td>2.734021</td>\n",
       "      <td>2.669691</td>\n",
       "    </tr>\n",
       "    <tr>\n",
       "      <th>4</th>\n",
       "      <td>Antofagasta</td>\n",
       "      <td>2</td>\n",
       "      <td>Ollagüe</td>\n",
       "      <td>2202</td>\n",
       "      <td>2964.0</td>\n",
       "      <td>287.0</td>\n",
       "      <td>0.470588</td>\n",
       "      <td>0.941176</td>\n",
       "      <td>0.647059</td>\n",
       "      <td>0.794118</td>\n",
       "      <td>...</td>\n",
       "      <td>0.382353</td>\n",
       "      <td>0.676471</td>\n",
       "      <td>0.647059</td>\n",
       "      <td>0.264706</td>\n",
       "      <td>0.911765</td>\n",
       "      <td>0.441176</td>\n",
       "      <td>0.352941</td>\n",
       "      <td>0.529412</td>\n",
       "      <td>0.323529</td>\n",
       "      <td>0.323529</td>\n",
       "    </tr>\n",
       "    <tr>\n",
       "      <th>...</th>\n",
       "      <td>...</td>\n",
       "      <td>...</td>\n",
       "      <td>...</td>\n",
       "      <td>...</td>\n",
       "      <td>...</td>\n",
       "      <td>...</td>\n",
       "      <td>...</td>\n",
       "      <td>...</td>\n",
       "      <td>...</td>\n",
       "      <td>...</td>\n",
       "      <td>...</td>\n",
       "      <td>...</td>\n",
       "      <td>...</td>\n",
       "      <td>...</td>\n",
       "      <td>...</td>\n",
       "      <td>...</td>\n",
       "      <td>...</td>\n",
       "      <td>...</td>\n",
       "      <td>...</td>\n",
       "      <td>...</td>\n",
       "      <td>...</td>\n",
       "    </tr>\n",
       "    <tr>\n",
       "      <th>338</th>\n",
       "      <td>Ñuble</td>\n",
       "      <td>16</td>\n",
       "      <td>San Ignacio</td>\n",
       "      <td>16108</td>\n",
       "      <td>363.6</td>\n",
       "      <td>16624.0</td>\n",
       "      <td>7.845411</td>\n",
       "      <td>7.708213</td>\n",
       "      <td>8.118841</td>\n",
       "      <td>8.115942</td>\n",
       "      <td>...</td>\n",
       "      <td>4.729469</td>\n",
       "      <td>4.422222</td>\n",
       "      <td>3.735266</td>\n",
       "      <td>4.849275</td>\n",
       "      <td>4.966184</td>\n",
       "      <td>5.853140</td>\n",
       "      <td>6.766184</td>\n",
       "      <td>3.653140</td>\n",
       "      <td>3.623188</td>\n",
       "      <td>3.593237</td>\n",
       "    </tr>\n",
       "    <tr>\n",
       "      <th>339</th>\n",
       "      <td>Ñuble</td>\n",
       "      <td>16</td>\n",
       "      <td>San Nicolás</td>\n",
       "      <td>16305</td>\n",
       "      <td>490.5</td>\n",
       "      <td>12172.0</td>\n",
       "      <td>7.284830</td>\n",
       "      <td>7.528638</td>\n",
       "      <td>7.263158</td>\n",
       "      <td>7.609907</td>\n",
       "      <td>...</td>\n",
       "      <td>5.746904</td>\n",
       "      <td>5.459752</td>\n",
       "      <td>4.744582</td>\n",
       "      <td>7.089009</td>\n",
       "      <td>5.795666</td>\n",
       "      <td>5.849845</td>\n",
       "      <td>5.963622</td>\n",
       "      <td>4.160991</td>\n",
       "      <td>4.500000</td>\n",
       "      <td>4.381579</td>\n",
       "    </tr>\n",
       "    <tr>\n",
       "      <th>340</th>\n",
       "      <td>Ñuble</td>\n",
       "      <td>16</td>\n",
       "      <td>Treguaco</td>\n",
       "      <td>16207</td>\n",
       "      <td>313.1</td>\n",
       "      <td>5696.0</td>\n",
       "      <td>7.342426</td>\n",
       "      <td>7.200287</td>\n",
       "      <td>7.671213</td>\n",
       "      <td>7.376167</td>\n",
       "      <td>...</td>\n",
       "      <td>5.737258</td>\n",
       "      <td>5.178033</td>\n",
       "      <td>4.507538</td>\n",
       "      <td>5.648959</td>\n",
       "      <td>5.727925</td>\n",
       "      <td>5.467337</td>\n",
       "      <td>5.956210</td>\n",
       "      <td>4.377602</td>\n",
       "      <td>4.531945</td>\n",
       "      <td>4.356784</td>\n",
       "    </tr>\n",
       "    <tr>\n",
       "      <th>341</th>\n",
       "      <td>Ñuble</td>\n",
       "      <td>16</td>\n",
       "      <td>Yungay</td>\n",
       "      <td>16109</td>\n",
       "      <td>823.5</td>\n",
       "      <td>18596.0</td>\n",
       "      <td>2.408275</td>\n",
       "      <td>2.438484</td>\n",
       "      <td>2.564079</td>\n",
       "      <td>2.377151</td>\n",
       "      <td>...</td>\n",
       "      <td>1.692237</td>\n",
       "      <td>1.606005</td>\n",
       "      <td>1.320212</td>\n",
       "      <td>1.688026</td>\n",
       "      <td>1.661113</td>\n",
       "      <td>1.626877</td>\n",
       "      <td>1.662944</td>\n",
       "      <td>1.183999</td>\n",
       "      <td>1.228305</td>\n",
       "      <td>1.225375</td>\n",
       "    </tr>\n",
       "    <tr>\n",
       "      <th>342</th>\n",
       "      <td>Ñuble</td>\n",
       "      <td>16</td>\n",
       "      <td>Ñiquén</td>\n",
       "      <td>16303</td>\n",
       "      <td>493.1</td>\n",
       "      <td>11567.0</td>\n",
       "      <td>14.481322</td>\n",
       "      <td>13.464080</td>\n",
       "      <td>15.070402</td>\n",
       "      <td>15.695402</td>\n",
       "      <td>...</td>\n",
       "      <td>6.609195</td>\n",
       "      <td>5.833333</td>\n",
       "      <td>5.189655</td>\n",
       "      <td>6.412356</td>\n",
       "      <td>6.479885</td>\n",
       "      <td>6.477011</td>\n",
       "      <td>6.685345</td>\n",
       "      <td>4.156609</td>\n",
       "      <td>4.459770</td>\n",
       "      <td>4.522989</td>\n",
       "    </tr>\n",
       "  </tbody>\n",
       "</table>\n",
       "<p>343 rows × 53 columns</p>\n",
       "</div>"
      ],
      "text/plain": [
       "          Region  Codigo region       Comuna  Codigo comuna  Superficie_km2  \\\n",
       "0    Antofagasta              2  Antofagasta           2101         30718.1   \n",
       "1    Antofagasta              2       Calama           2201         15596.9   \n",
       "2    Antofagasta              2  María Elena           2302         12197.0   \n",
       "3    Antofagasta              2   Mejillones           2102          3803.9   \n",
       "4    Antofagasta              2      Ollagüe           2202          2964.0   \n",
       "..           ...            ...          ...            ...             ...   \n",
       "338        Ñuble             16  San Ignacio          16108           363.6   \n",
       "339        Ñuble             16  San Nicolás          16305           490.5   \n",
       "340        Ñuble             16     Treguaco          16207           313.1   \n",
       "341        Ñuble             16       Yungay          16109           823.5   \n",
       "342        Ñuble             16       Ñiquén          16303           493.1   \n",
       "\n",
       "     Poblacion  2020-02-26  2020-02-27  2020-02-28  2020-02-29  ...  \\\n",
       "0     425725.0    7.035543    6.956262    7.052197    6.417247  ...   \n",
       "1     190336.0    5.776329    5.743666    5.685611    5.159367  ...   \n",
       "2       6814.0    3.604805    3.208667    3.225153    2.832784  ...   \n",
       "3      14776.0    6.902062    7.139588    7.169485    6.598144  ...   \n",
       "4        287.0    0.470588    0.941176    0.647059    0.794118  ...   \n",
       "..         ...         ...         ...         ...         ...  ...   \n",
       "338    16624.0    7.845411    7.708213    8.118841    8.115942  ...   \n",
       "339    12172.0    7.284830    7.528638    7.263158    7.609907  ...   \n",
       "340     5696.0    7.342426    7.200287    7.671213    7.376167  ...   \n",
       "341    18596.0    2.408275    2.438484    2.564079    2.377151  ...   \n",
       "342    11567.0   14.481322   13.464080   15.070402   15.695402  ...   \n",
       "\n",
       "     2020-04-03  2020-04-04  2020-04-05  2020-04-06  2020-04-07  2020-04-08  \\\n",
       "0      5.487917    4.971258    4.372448    5.610557    5.694622    5.433834   \n",
       "1      4.478954    4.065837    3.569473    4.534055    4.582282    4.388946   \n",
       "2      2.382007    1.882713    1.633066    2.358455    2.832313    2.818182   \n",
       "3      4.628866    3.724948    3.326804    4.723918    4.675258    4.616907   \n",
       "4      0.382353    0.676471    0.647059    0.264706    0.911765    0.441176   \n",
       "..          ...         ...         ...         ...         ...         ...   \n",
       "338    4.729469    4.422222    3.735266    4.849275    4.966184    5.853140   \n",
       "339    5.746904    5.459752    4.744582    7.089009    5.795666    5.849845   \n",
       "340    5.737258    5.178033    4.507538    5.648959    5.727925    5.467337   \n",
       "341    1.692237    1.606005    1.320212    1.688026    1.661113    1.626877   \n",
       "342    6.609195    5.833333    5.189655    6.412356    6.479885    6.477011   \n",
       "\n",
       "     2020-04-09  2020-04-10  2020-04-11  2020-04-12  \n",
       "0      5.625733    4.511998    4.551340    4.234253  \n",
       "1      4.613099    3.702227    3.692314    3.474750  \n",
       "2      2.552991    1.694301    1.692887    1.632595  \n",
       "3      4.717732    2.959381    2.734021    2.669691  \n",
       "4      0.352941    0.529412    0.323529    0.323529  \n",
       "..          ...         ...         ...         ...  \n",
       "338    6.766184    3.653140    3.623188    3.593237  \n",
       "339    5.963622    4.160991    4.500000    4.381579  \n",
       "340    5.956210    4.377602    4.531945    4.356784  \n",
       "341    1.662944    1.183999    1.228305    1.225375  \n",
       "342    6.685345    4.156609    4.459770    4.522989  \n",
       "\n",
       "[343 rows x 53 columns]"
      ]
     },
     "execution_count": 31,
     "metadata": {},
     "output_type": "execute_result"
    }
   ],
   "source": [
    "import pandas as pd\n",
    "\n",
    "df=pd.read_csv('IndiceDeMovilidad-IM.csv', sep=',')\n",
    "df"
   ]
  },
  {
   "cell_type": "code",
   "execution_count": 32,
   "metadata": {},
   "outputs": [
    {
     "data": {
      "text/plain": [
       "['2020-02-26',\n",
       " '2020-02-27',\n",
       " '2020-02-28',\n",
       " '2020-02-29',\n",
       " '2020-03-01',\n",
       " '2020-03-02',\n",
       " '2020-03-03',\n",
       " '2020-03-04',\n",
       " '2020-03-05',\n",
       " '2020-03-06',\n",
       " '2020-03-07',\n",
       " '2020-03-08',\n",
       " '2020-03-09',\n",
       " '2020-03-10',\n",
       " '2020-03-11',\n",
       " '2020-03-12',\n",
       " '2020-03-13',\n",
       " '2020-03-14',\n",
       " '2020-03-15',\n",
       " '2020-03-16',\n",
       " '2020-03-17',\n",
       " '2020-03-18',\n",
       " '2020-03-19',\n",
       " '2020-03-20',\n",
       " '2020-03-21',\n",
       " '2020-03-22',\n",
       " '2020-03-23',\n",
       " '2020-03-24',\n",
       " '2020-03-25',\n",
       " '2020-03-26',\n",
       " '2020-03-27',\n",
       " '2020-03-28',\n",
       " '2020-03-29',\n",
       " '2020-03-30',\n",
       " '2020-03-31',\n",
       " '2020-04-01',\n",
       " '2020-04-02',\n",
       " '2020-04-03',\n",
       " '2020-04-04',\n",
       " '2020-04-05',\n",
       " '2020-04-06',\n",
       " '2020-04-07',\n",
       " '2020-04-08',\n",
       " '2020-04-09',\n",
       " '2020-04-10',\n",
       " '2020-04-11',\n",
       " '2020-04-12']"
      ]
     },
     "execution_count": 32,
     "metadata": {},
     "output_type": "execute_result"
    }
   ],
   "source": [
    "#Selecciono las fechas\n",
    "fechas=df.columns.values[6::].tolist()\n",
    "fechas"
   ]
  },
  {
   "cell_type": "code",
   "execution_count": 33,
   "metadata": {},
   "outputs": [],
   "source": [
    "la_granja=df[(df['Region']=='Metropolitana de Santiago') & (df['Comuna']=='La Granja')]\n",
    "la_granja=la_granja[fechas].T\n",
    "la_granja.rename(columns={241:'IM_LG'}, inplace=True)"
   ]
  },
  {
   "cell_type": "code",
   "execution_count": 34,
   "metadata": {},
   "outputs": [
    {
     "data": {
      "image/png": "[encoded data removed]",
      "text/plain": [
       "<Figure size 432x288 with 1 Axes>"
      ]
     },
     "metadata": {
      "needs_background": "light"
     },
     "output_type": "display_data"
    }
   ],
   "source": [
    "la_granja.plot();"
   ]
  },
  {
   "cell_type": "code",
   "execution_count": 35,
   "metadata": {},
   "outputs": [],
   "source": [
    "las_condes=df[(df['Region']=='Metropolitana de Santiago') & (df['Comuna']=='Las Condes')]\n",
    "las_condes=las_condes[fechas].T\n",
    "las_condes.rename(columns={245:'IM_LC'}, inplace=True)"
   ]
  },
  {
   "cell_type": "code",
   "execution_count": 36,
   "metadata": {},
   "outputs": [
    {
     "data": {
      "image/png": "[encoded data removed]",
      "text/plain": [
       "<Figure size 432x288 with 1 Axes>"
      ]
     },
     "metadata": {
      "needs_background": "light"
     },
     "output_type": "display_data"
    }
   ],
   "source": [
    "las_condes.plot();"
   ]
  },
  {
   "cell_type": "code",
   "execution_count": 37,
   "metadata": {},
   "outputs": [
    {
     "data": {
      "image/png": "[encoded data removed]",
      "text/plain": [
       "<Figure size 432x288 with 1 Axes>"
      ]
     },
     "metadata": {
      "needs_background": "light"
     },
     "output_type": "display_data"
    }
   ],
   "source": [
    "ax = las_condes.plot()\n",
    "la_granja.plot(ax=ax);"
   ]
  },
  {
   "cell_type": "markdown",
   "metadata": {
    "colab_type": "text",
    "id": "OVPjRpxKMWot",
    "slideshow": {
     "slide_type": "slide"
    }
   },
   "source": [
    "# Pandas\n",
    "\n",
    "* Pandas es un módulo de Python para realizar análisis de datos http://pandas.pydata.org/\n",
    "\n",
    "\n",
    "* Esta presentación basada en el trabajo de Jake VanDerPlas https://github.com/jakevdp/PythonDataScienceHandbook. Bajo licencia CC0."
   ]
  },
  {
   "cell_type": "code",
   "execution_count": 38,
   "metadata": {
    "colab": {
     "autoexec": {
      "startup": false,
      "wait_interval": 0
     }
    },
    "colab_type": "code",
    "id": "D8VzqknbMWou"
   },
   "outputs": [],
   "source": [
    "import pandas as pd"
   ]
  },
  {
   "cell_type": "markdown",
   "metadata": {
    "colab_type": "text",
    "id": "a-zZuInGMWp_",
    "slideshow": {
     "slide_type": "slide"
    }
   },
   "source": [
    "# Data frames\n",
    "\n",
    "* Es una tabla (si, como las de Excel), compuesta por varias columnas. Las columnas también se llaman series."
   ]
  },
  {
   "cell_type": "code",
   "execution_count": 39,
   "metadata": {
    "colab": {
     "autoexec": {
      "startup": false,
      "wait_interval": 0
     },
     "base_uri": "https://localhost:8080/",
     "height": 204,
     "output_extras": [
      {
       "item_id": 1
      }
     ]
    },
    "colab_type": "code",
    "executionInfo": {
     "elapsed": 590,
     "status": "ok",
     "timestamp": 1522954158269,
     "user": {
      "displayName": "Diego Felipe Caro Alarcon",
      "photoUrl": "//lh5.googleusercontent.com/-K5lRoBE-ong/AAAAAAAAAAI/AAAAAAAAAA8/t6gy1bbvins/s50-c-k-no/photo.jpg",
      "userId": "108760031624692046565"
     },
     "user_tz": 180
    },
    "id": "n3hpmB_FMWp_",
    "outputId": "d774d1ab-16f6-4f73-dbf4-0e5fc4bef0ab"
   },
   "outputs": [
    {
     "data": {
      "text/html": [
       "<div>\n",
       "<style scoped>\n",
       "    .dataframe tbody tr th:only-of-type {\n",
       "        vertical-align: middle;\n",
       "    }\n",
       "\n",
       "    .dataframe tbody tr th {\n",
       "        vertical-align: top;\n",
       "    }\n",
       "\n",
       "    .dataframe thead th {\n",
       "        text-align: right;\n",
       "    }\n",
       "</style>\n",
       "<table border=\"1\" class=\"dataframe\">\n",
       "  <thead>\n",
       "    <tr style=\"text-align: right;\">\n",
       "      <th></th>\n",
       "      <th>city</th>\n",
       "      <th>area</th>\n",
       "      <th>pop</th>\n",
       "    </tr>\n",
       "  </thead>\n",
       "  <tbody>\n",
       "    <tr>\n",
       "      <th>0</th>\n",
       "      <td>California</td>\n",
       "      <td>423967</td>\n",
       "      <td>38332521</td>\n",
       "    </tr>\n",
       "    <tr>\n",
       "      <th>1</th>\n",
       "      <td>Texas</td>\n",
       "      <td>695662</td>\n",
       "      <td>26448193</td>\n",
       "    </tr>\n",
       "    <tr>\n",
       "      <th>2</th>\n",
       "      <td>New York</td>\n",
       "      <td>141297</td>\n",
       "      <td>19651127</td>\n",
       "    </tr>\n",
       "    <tr>\n",
       "      <th>3</th>\n",
       "      <td>Florida</td>\n",
       "      <td>170312</td>\n",
       "      <td>19552860</td>\n",
       "    </tr>\n",
       "    <tr>\n",
       "      <th>4</th>\n",
       "      <td>Alabama</td>\n",
       "      <td>149995</td>\n",
       "      <td>12882135</td>\n",
       "    </tr>\n",
       "  </tbody>\n",
       "</table>\n",
       "</div>"
      ],
      "text/plain": [
       "         city    area       pop\n",
       "0  California  423967  38332521\n",
       "1       Texas  695662  26448193\n",
       "2    New York  141297  19651127\n",
       "3     Florida  170312  19552860\n",
       "4     Alabama  149995  12882135"
      ]
     },
     "execution_count": 39,
     "metadata": {},
     "output_type": "execute_result"
    }
   ],
   "source": [
    "city = pd.Series(['California','Texas','New York', 'Florida','Alabama'])\n",
    "area = pd.Series([423967, 695662, 141297,170312, 149995])\n",
    "pop = pd.Series([38332521, 26448193, 19651127, 19552860, 12882135])\n",
    "\n",
    "df = pd.DataFrame({'city':city, 'area':area, 'pop':pop})\n",
    "df"
   ]
  },
  {
   "cell_type": "code",
   "execution_count": 40,
   "metadata": {},
   "outputs": [
    {
     "data": {
      "text/plain": [
       "0    423967\n",
       "1    695662\n",
       "2    141297\n",
       "3    170312\n",
       "4    149995\n",
       "Name: area, dtype: int64"
      ]
     },
     "execution_count": 40,
     "metadata": {},
     "output_type": "execute_result"
    }
   ],
   "source": [
    "df['area']"
   ]
  },
  {
   "cell_type": "markdown",
   "metadata": {
    "colab_type": "text",
    "id": "b04OCosHMWqB",
    "slideshow": {
     "slide_type": "subslide"
    }
   },
   "source": [
    "* Las columnas se pueden seleccionar con el operador corchete."
   ]
  },
  {
   "cell_type": "code",
   "execution_count": 41,
   "metadata": {
    "colab": {
     "autoexec": {
      "startup": false,
      "wait_interval": 0
     },
     "base_uri": "https://localhost:8080/",
     "height": 119,
     "output_extras": [
      {
       "item_id": 1
      }
     ]
    },
    "colab_type": "code",
    "executionInfo": {
     "elapsed": 586,
     "status": "ok",
     "timestamp": 1522943263426,
     "user": {
      "displayName": "Diego Felipe Caro Alarcon",
      "photoUrl": "//lh5.googleusercontent.com/-K5lRoBE-ong/AAAAAAAAAAI/AAAAAAAAAA8/t6gy1bbvins/s50-c-k-no/photo.jpg",
      "userId": "108760031624692046565"
     },
     "user_tz": 180
    },
    "id": "G9bEdE7HMWqE",
    "outputId": "196c0ba7-6280-4a25-d6b3-3e8be95d0abc"
   },
   "outputs": [
    {
     "data": {
      "text/plain": [
       "0    423967\n",
       "1    695662\n",
       "2    141297\n",
       "3    170312\n",
       "4    149995\n",
       "Name: area, dtype: int64"
      ]
     },
     "execution_count": 41,
     "metadata": {},
     "output_type": "execute_result"
    }
   ],
   "source": [
    "df.area "
   ]
  },
  {
   "cell_type": "markdown",
   "metadata": {
    "colab_type": "text",
    "id": "P5uD5H3vMWqH"
   },
   "source": [
    "* Y como cada columna es una Serie... podemos realizar operaciones de Series!"
   ]
  },
  {
   "cell_type": "code",
   "execution_count": 42,
   "metadata": {
    "colab": {
     "autoexec": {
      "startup": false,
      "wait_interval": 0
     },
     "base_uri": "https://localhost:8080/",
     "height": 119,
     "output_extras": [
      {
       "item_id": 1
      }
     ]
    },
    "colab_type": "code",
    "executionInfo": {
     "elapsed": 717,
     "status": "ok",
     "timestamp": 1522943265988,
     "user": {
      "displayName": "Diego Felipe Caro Alarcon",
      "photoUrl": "//lh5.googleusercontent.com/-K5lRoBE-ong/AAAAAAAAAAI/AAAAAAAAAA8/t6gy1bbvins/s50-c-k-no/photo.jpg",
      "userId": "108760031624692046565"
     },
     "user_tz": 180
    },
    "id": "6ggG8FjfMWqI",
    "outputId": "7b857d2c-dcfc-4ffb-a54d-ad5a276ea22b"
   },
   "outputs": [
    {
     "data": {
      "text/plain": [
       "0    423.967\n",
       "1    695.662\n",
       "2    141.297\n",
       "3    170.312\n",
       "4    149.995\n",
       "Name: area, dtype: float64"
      ]
     },
     "execution_count": 42,
     "metadata": {},
     "output_type": "execute_result"
    }
   ],
   "source": [
    "df['area'] / 1000"
   ]
  },
  {
   "cell_type": "markdown",
   "metadata": {
    "colab_type": "text",
    "id": "L6U7DrMSMWqM",
    "slideshow": {
     "slide_type": "slide"
    }
   },
   "source": [
    "# Consultando Datos en un Dataframe"
   ]
  },
  {
   "cell_type": "code",
   "execution_count": 43,
   "metadata": {
    "colab": {
     "autoexec": {
      "startup": false,
      "wait_interval": 0
     },
     "base_uri": "https://localhost:8080/",
     "height": 142,
     "output_extras": [
      {
       "item_id": 1
      }
     ]
    },
    "colab_type": "code",
    "executionInfo": {
     "elapsed": 590,
     "status": "ok",
     "timestamp": 1522954440859,
     "user": {
      "displayName": "Diego Felipe Caro Alarcon",
      "photoUrl": "//lh5.googleusercontent.com/-K5lRoBE-ong/AAAAAAAAAAI/AAAAAAAAAA8/t6gy1bbvins/s50-c-k-no/photo.jpg",
      "userId": "108760031624692046565"
     },
     "user_tz": 180
    },
    "id": "5cOmBts_MWqN",
    "outputId": "c5827bcf-825f-43b8-8690-4b463e926e36"
   },
   "outputs": [
    {
     "data": {
      "text/html": [
       "<div>\n",
       "<style scoped>\n",
       "    .dataframe tbody tr th:only-of-type {\n",
       "        vertical-align: middle;\n",
       "    }\n",
       "\n",
       "    .dataframe tbody tr th {\n",
       "        vertical-align: top;\n",
       "    }\n",
       "\n",
       "    .dataframe thead th {\n",
       "        text-align: right;\n",
       "    }\n",
       "</style>\n",
       "<table border=\"1\" class=\"dataframe\">\n",
       "  <thead>\n",
       "    <tr style=\"text-align: right;\">\n",
       "      <th></th>\n",
       "      <th>city</th>\n",
       "      <th>area</th>\n",
       "      <th>pop</th>\n",
       "    </tr>\n",
       "  </thead>\n",
       "  <tbody>\n",
       "    <tr>\n",
       "      <th>0</th>\n",
       "      <td>California</td>\n",
       "      <td>423967</td>\n",
       "      <td>38332521</td>\n",
       "    </tr>\n",
       "    <tr>\n",
       "      <th>1</th>\n",
       "      <td>Texas</td>\n",
       "      <td>695662</td>\n",
       "      <td>26448193</td>\n",
       "    </tr>\n",
       "    <tr>\n",
       "      <th>2</th>\n",
       "      <td>New York</td>\n",
       "      <td>141297</td>\n",
       "      <td>19651127</td>\n",
       "    </tr>\n",
       "  </tbody>\n",
       "</table>\n",
       "</div>"
      ],
      "text/plain": [
       "         city    area       pop\n",
       "0  California  423967  38332521\n",
       "1       Texas  695662  26448193\n",
       "2    New York  141297  19651127"
      ]
     },
     "execution_count": 43,
     "metadata": {},
     "output_type": "execute_result"
    }
   ],
   "source": [
    "df.head(3)"
   ]
  },
  {
   "cell_type": "code",
   "execution_count": 44,
   "metadata": {
    "colab": {
     "autoexec": {
      "startup": false,
      "wait_interval": 0
     },
     "base_uri": "https://localhost:8080/",
     "height": 142,
     "output_extras": [
      {
       "item_id": 1
      }
     ]
    },
    "colab_type": "code",
    "executionInfo": {
     "elapsed": 576,
     "status": "ok",
     "timestamp": 1522954448340,
     "user": {
      "displayName": "Diego Felipe Caro Alarcon",
      "photoUrl": "//lh5.googleusercontent.com/-K5lRoBE-ong/AAAAAAAAAAI/AAAAAAAAAA8/t6gy1bbvins/s50-c-k-no/photo.jpg",
      "userId": "108760031624692046565"
     },
     "user_tz": 180
    },
    "id": "tE9q8L7gMWqS",
    "outputId": "f078ae83-1852-40f1-c6f6-7915e770bd4b"
   },
   "outputs": [
    {
     "data": {
      "text/html": [
       "<div>\n",
       "<style scoped>\n",
       "    .dataframe tbody tr th:only-of-type {\n",
       "        vertical-align: middle;\n",
       "    }\n",
       "\n",
       "    .dataframe tbody tr th {\n",
       "        vertical-align: top;\n",
       "    }\n",
       "\n",
       "    .dataframe thead th {\n",
       "        text-align: right;\n",
       "    }\n",
       "</style>\n",
       "<table border=\"1\" class=\"dataframe\">\n",
       "  <thead>\n",
       "    <tr style=\"text-align: right;\">\n",
       "      <th></th>\n",
       "      <th>city</th>\n",
       "      <th>area</th>\n",
       "      <th>pop</th>\n",
       "    </tr>\n",
       "  </thead>\n",
       "  <tbody>\n",
       "    <tr>\n",
       "      <th>2</th>\n",
       "      <td>New York</td>\n",
       "      <td>141297</td>\n",
       "      <td>19651127</td>\n",
       "    </tr>\n",
       "    <tr>\n",
       "      <th>3</th>\n",
       "      <td>Florida</td>\n",
       "      <td>170312</td>\n",
       "      <td>19552860</td>\n",
       "    </tr>\n",
       "    <tr>\n",
       "      <th>4</th>\n",
       "      <td>Alabama</td>\n",
       "      <td>149995</td>\n",
       "      <td>12882135</td>\n",
       "    </tr>\n",
       "  </tbody>\n",
       "</table>\n",
       "</div>"
      ],
      "text/plain": [
       "       city    area       pop\n",
       "2  New York  141297  19651127\n",
       "3   Florida  170312  19552860\n",
       "4   Alabama  149995  12882135"
      ]
     },
     "execution_count": 44,
     "metadata": {},
     "output_type": "execute_result"
    }
   ],
   "source": [
    "df.tail(3)"
   ]
  },
  {
   "cell_type": "markdown",
   "metadata": {
    "colab_type": "text",
    "id": "NkZXNJJLMWqX",
    "slideshow": {
     "slide_type": "subslide"
    }
   },
   "source": [
    "* Podemos usar el operador loc[] para recuperar una fila:"
   ]
  },
  {
   "cell_type": "code",
   "execution_count": 45,
   "metadata": {
    "colab": {
     "autoexec": {
      "startup": false,
      "wait_interval": 0
     },
     "base_uri": "https://localhost:8080/",
     "height": 85,
     "output_extras": [
      {
       "item_id": 1
      }
     ]
    },
    "colab_type": "code",
    "executionInfo": {
     "elapsed": 571,
     "status": "ok",
     "timestamp": 1522954459335,
     "user": {
      "displayName": "Diego Felipe Caro Alarcon",
      "photoUrl": "//lh5.googleusercontent.com/-K5lRoBE-ong/AAAAAAAAAAI/AAAAAAAAAA8/t6gy1bbvins/s50-c-k-no/photo.jpg",
      "userId": "108760031624692046565"
     },
     "user_tz": 180
    },
    "id": "bqqUbnygMWqY",
    "outputId": "c8b9dd9a-e8f1-42c8-bec0-7d178919a11b",
    "slideshow": {
     "slide_type": "-"
    }
   },
   "outputs": [
    {
     "data": {
      "text/plain": [
       "city    New York\n",
       "area      141297\n",
       "pop     19651127\n",
       "Name: 2, dtype: object"
      ]
     },
     "execution_count": 45,
     "metadata": {},
     "output_type": "execute_result"
    }
   ],
   "source": [
    "df.loc[2]"
   ]
  },
  {
   "cell_type": "markdown",
   "metadata": {
    "colab_type": "text",
    "id": "yOUFLzR0MWqc",
    "slideshow": {
     "slide_type": "slide"
    }
   },
   "source": [
    "# Manipulando Columnas"
   ]
  },
  {
   "cell_type": "markdown",
   "metadata": {
    "colab_type": "text",
    "id": "G3_5_vDzMWqc"
   },
   "source": [
    "* Agregar una columna:"
   ]
  },
  {
   "cell_type": "code",
   "execution_count": 46,
   "metadata": {
    "colab": {
     "autoexec": {
      "startup": false,
      "wait_interval": 0
     },
     "base_uri": "https://localhost:8080/",
     "height": 204,
     "output_extras": [
      {
       "item_id": 1
      }
     ]
    },
    "colab_type": "code",
    "executionInfo": {
     "elapsed": 838,
     "status": "ok",
     "timestamp": 1522954504290,
     "user": {
      "displayName": "Diego Felipe Caro Alarcon",
      "photoUrl": "//lh5.googleusercontent.com/-K5lRoBE-ong/AAAAAAAAAAI/AAAAAAAAAA8/t6gy1bbvins/s50-c-k-no/photo.jpg",
      "userId": "108760031624692046565"
     },
     "user_tz": 180
    },
    "id": "PxbIHgl9MWqd",
    "outputId": "521abba0-a150-4875-edd4-607a74597687"
   },
   "outputs": [
    {
     "data": {
      "text/html": [
       "<div>\n",
       "<style scoped>\n",
       "    .dataframe tbody tr th:only-of-type {\n",
       "        vertical-align: middle;\n",
       "    }\n",
       "\n",
       "    .dataframe tbody tr th {\n",
       "        vertical-align: top;\n",
       "    }\n",
       "\n",
       "    .dataframe thead th {\n",
       "        text-align: right;\n",
       "    }\n",
       "</style>\n",
       "<table border=\"1\" class=\"dataframe\">\n",
       "  <thead>\n",
       "    <tr style=\"text-align: right;\">\n",
       "      <th></th>\n",
       "      <th>city</th>\n",
       "      <th>area</th>\n",
       "      <th>pop</th>\n",
       "      <th>density</th>\n",
       "    </tr>\n",
       "  </thead>\n",
       "  <tbody>\n",
       "    <tr>\n",
       "      <th>0</th>\n",
       "      <td>California</td>\n",
       "      <td>423967</td>\n",
       "      <td>38332521</td>\n",
       "      <td>90.413926</td>\n",
       "    </tr>\n",
       "    <tr>\n",
       "      <th>1</th>\n",
       "      <td>Texas</td>\n",
       "      <td>695662</td>\n",
       "      <td>26448193</td>\n",
       "      <td>38.018740</td>\n",
       "    </tr>\n",
       "    <tr>\n",
       "      <th>2</th>\n",
       "      <td>New York</td>\n",
       "      <td>141297</td>\n",
       "      <td>19651127</td>\n",
       "      <td>139.076746</td>\n",
       "    </tr>\n",
       "    <tr>\n",
       "      <th>3</th>\n",
       "      <td>Florida</td>\n",
       "      <td>170312</td>\n",
       "      <td>19552860</td>\n",
       "      <td>114.806121</td>\n",
       "    </tr>\n",
       "    <tr>\n",
       "      <th>4</th>\n",
       "      <td>Alabama</td>\n",
       "      <td>149995</td>\n",
       "      <td>12882135</td>\n",
       "      <td>85.883763</td>\n",
       "    </tr>\n",
       "  </tbody>\n",
       "</table>\n",
       "</div>"
      ],
      "text/plain": [
       "         city    area       pop     density\n",
       "0  California  423967  38332521   90.413926\n",
       "1       Texas  695662  26448193   38.018740\n",
       "2    New York  141297  19651127  139.076746\n",
       "3     Florida  170312  19552860  114.806121\n",
       "4     Alabama  149995  12882135   85.883763"
      ]
     },
     "execution_count": 46,
     "metadata": {},
     "output_type": "execute_result"
    }
   ],
   "source": [
    "# Puedes asignar nuevas columnas\n",
    "df['density'] = df['pop'] / df['area'] # osom, no?\n",
    "df"
   ]
  },
  {
   "cell_type": "markdown",
   "metadata": {
    "colab_type": "text",
    "id": "K5e2ZKhlMWqg",
    "slideshow": {
     "slide_type": "subslide"
    }
   },
   "source": [
    "* Y borrar columnas:"
   ]
  },
  {
   "cell_type": "code",
   "execution_count": 47,
   "metadata": {
    "colab": {
     "autoexec": {
      "startup": false,
      "wait_interval": 0
     },
     "base_uri": "https://localhost:8080/",
     "height": 204,
     "output_extras": [
      {
       "item_id": 1
      }
     ]
    },
    "colab_type": "code",
    "executionInfo": {
     "elapsed": 613,
     "status": "ok",
     "timestamp": 1522943281282,
     "user": {
      "displayName": "Diego Felipe Caro Alarcon",
      "photoUrl": "//lh5.googleusercontent.com/-K5lRoBE-ong/AAAAAAAAAAI/AAAAAAAAAA8/t6gy1bbvins/s50-c-k-no/photo.jpg",
      "userId": "108760031624692046565"
     },
     "user_tz": 180
    },
    "id": "f42bg86lMWqg",
    "outputId": "e0fe6630-ff79-4a08-cfe0-d0f6a83c8ac5"
   },
   "outputs": [
    {
     "data": {
      "text/html": [
       "<div>\n",
       "<style scoped>\n",
       "    .dataframe tbody tr th:only-of-type {\n",
       "        vertical-align: middle;\n",
       "    }\n",
       "\n",
       "    .dataframe tbody tr th {\n",
       "        vertical-align: top;\n",
       "    }\n",
       "\n",
       "    .dataframe thead th {\n",
       "        text-align: right;\n",
       "    }\n",
       "</style>\n",
       "<table border=\"1\" class=\"dataframe\">\n",
       "  <thead>\n",
       "    <tr style=\"text-align: right;\">\n",
       "      <th></th>\n",
       "      <th>city</th>\n",
       "      <th>pop</th>\n",
       "      <th>density</th>\n",
       "    </tr>\n",
       "  </thead>\n",
       "  <tbody>\n",
       "    <tr>\n",
       "      <th>0</th>\n",
       "      <td>California</td>\n",
       "      <td>38332521</td>\n",
       "      <td>90.413926</td>\n",
       "    </tr>\n",
       "    <tr>\n",
       "      <th>1</th>\n",
       "      <td>Texas</td>\n",
       "      <td>26448193</td>\n",
       "      <td>38.018740</td>\n",
       "    </tr>\n",
       "    <tr>\n",
       "      <th>2</th>\n",
       "      <td>New York</td>\n",
       "      <td>19651127</td>\n",
       "      <td>139.076746</td>\n",
       "    </tr>\n",
       "    <tr>\n",
       "      <th>3</th>\n",
       "      <td>Florida</td>\n",
       "      <td>19552860</td>\n",
       "      <td>114.806121</td>\n",
       "    </tr>\n",
       "    <tr>\n",
       "      <th>4</th>\n",
       "      <td>Alabama</td>\n",
       "      <td>12882135</td>\n",
       "      <td>85.883763</td>\n",
       "    </tr>\n",
       "  </tbody>\n",
       "</table>\n",
       "</div>"
      ],
      "text/plain": [
       "         city       pop     density\n",
       "0  California  38332521   90.413926\n",
       "1       Texas  26448193   38.018740\n",
       "2    New York  19651127  139.076746\n",
       "3     Florida  19552860  114.806121\n",
       "4     Alabama  12882135   85.883763"
      ]
     },
     "execution_count": 47,
     "metadata": {},
     "output_type": "execute_result"
    }
   ],
   "source": [
    "copy_data = df.drop(['area'], axis='columns')\n",
    "copy_data"
   ]
  },
  {
   "cell_type": "markdown",
   "metadata": {
    "colab_type": "text",
    "id": "_7w14Y1zMWqi",
    "slideshow": {
     "slide_type": "slide"
    }
   },
   "source": [
    "## Cargando y filtrando datos"
   ]
  },
  {
   "cell_type": "markdown",
   "metadata": {
    "colab_type": "text",
    "id": "U-7uht4YMWqj"
   },
   "source": [
    "* Pandas también puede abrir varios tipos de archivo, nosotros usaremos CSV.\n",
    "* Más info sobre otro formatos (excel, json, xml...) https://pandas.pydata.org/pandas-docs/stable/io.html "
   ]
  },
  {
   "cell_type": "code",
   "execution_count": 48,
   "metadata": {
    "colab": {
     "autoexec": {
      "startup": false,
      "wait_interval": 0
     },
     "base_uri": "https://localhost:8080/",
     "height": 204,
     "output_extras": [
      {
       "item_id": 1
      }
     ]
    },
    "colab_type": "code",
    "executionInfo": {
     "elapsed": 791,
     "status": "ok",
     "timestamp": 1522954714039,
     "user": {
      "displayName": "Diego Felipe Caro Alarcon",
      "photoUrl": "//lh5.googleusercontent.com/-K5lRoBE-ong/AAAAAAAAAAI/AAAAAAAAAA8/t6gy1bbvins/s50-c-k-no/photo.jpg",
      "userId": "108760031624692046565"
     },
     "user_tz": 180
    },
    "id": "Hc_U4KHOMWqj",
    "outputId": "b2de9e2d-434f-45e7-a63e-a98726b06177",
    "slideshow": {
     "slide_type": "-"
    }
   },
   "outputs": [
    {
     "data": {
      "text/html": [
       "<div>\n",
       "<style scoped>\n",
       "    .dataframe tbody tr th:only-of-type {\n",
       "        vertical-align: middle;\n",
       "    }\n",
       "\n",
       "    .dataframe tbody tr th {\n",
       "        vertical-align: top;\n",
       "    }\n",
       "\n",
       "    .dataframe thead th {\n",
       "        text-align: right;\n",
       "    }\n",
       "</style>\n",
       "<table border=\"1\" class=\"dataframe\">\n",
       "  <thead>\n",
       "    <tr style=\"text-align: right;\">\n",
       "      <th></th>\n",
       "      <th>Region</th>\n",
       "      <th>Codigo region</th>\n",
       "      <th>Comuna</th>\n",
       "      <th>Codigo comuna</th>\n",
       "      <th>Poblacion</th>\n",
       "      <th>Casos Confirmados</th>\n",
       "    </tr>\n",
       "  </thead>\n",
       "  <tbody>\n",
       "    <tr>\n",
       "      <th>0</th>\n",
       "      <td>Arica y Parinacota</td>\n",
       "      <td>15</td>\n",
       "      <td>Arica</td>\n",
       "      <td>15101</td>\n",
       "      <td>247552.0</td>\n",
       "      <td>353.0</td>\n",
       "    </tr>\n",
       "    <tr>\n",
       "      <th>1</th>\n",
       "      <td>Arica y Parinacota</td>\n",
       "      <td>15</td>\n",
       "      <td>Camarones</td>\n",
       "      <td>15102</td>\n",
       "      <td>1233.0</td>\n",
       "      <td>0.0</td>\n",
       "    </tr>\n",
       "    <tr>\n",
       "      <th>2</th>\n",
       "      <td>Arica y Parinacota</td>\n",
       "      <td>15</td>\n",
       "      <td>General Lagos</td>\n",
       "      <td>15202</td>\n",
       "      <td>810.0</td>\n",
       "      <td>0.0</td>\n",
       "    </tr>\n",
       "    <tr>\n",
       "      <th>3</th>\n",
       "      <td>Arica y Parinacota</td>\n",
       "      <td>15</td>\n",
       "      <td>Putre</td>\n",
       "      <td>15201</td>\n",
       "      <td>2515.0</td>\n",
       "      <td>0.0</td>\n",
       "    </tr>\n",
       "    <tr>\n",
       "      <th>4</th>\n",
       "      <td>Tarapacá</td>\n",
       "      <td>1</td>\n",
       "      <td>Alto Hospicio</td>\n",
       "      <td>1107</td>\n",
       "      <td>129999.0</td>\n",
       "      <td>188.0</td>\n",
       "    </tr>\n",
       "  </tbody>\n",
       "</table>\n",
       "</div>"
      ],
      "text/plain": [
       "               Region  Codigo region         Comuna  Codigo comuna  Poblacion  \\\n",
       "0  Arica y Parinacota             15          Arica          15101   247552.0   \n",
       "1  Arica y Parinacota             15      Camarones          15102     1233.0   \n",
       "2  Arica y Parinacota             15  General Lagos          15202      810.0   \n",
       "3  Arica y Parinacota             15          Putre          15201     2515.0   \n",
       "4            Tarapacá              1  Alto Hospicio           1107   129999.0   \n",
       "\n",
       "   Casos Confirmados  \n",
       "0              353.0  \n",
       "1                0.0  \n",
       "2                0.0  \n",
       "3                0.0  \n",
       "4              188.0  "
      ]
     },
     "execution_count": 48,
     "metadata": {},
     "output_type": "execute_result"
    }
   ],
   "source": [
    "df = pd.read_csv('2020-05-11-CasosConfirmados.csv')\n",
    "df.head()"
   ]
  },
  {
   "cell_type": "code",
   "execution_count": 49,
   "metadata": {},
   "outputs": [
    {
     "data": {
      "text/plain": [
       "Index(['Region', 'Codigo region', 'Comuna', 'Codigo comuna', 'Poblacion',\n",
       "       'Casos Confirmados'],\n",
       "      dtype='object')"
      ]
     },
     "execution_count": 49,
     "metadata": {},
     "output_type": "execute_result"
    }
   ],
   "source": [
    "df.columns"
   ]
  },
  {
   "cell_type": "markdown",
   "metadata": {
    "colab_type": "text",
    "id": "1XT5OmHoMWqm",
    "slideshow": {
     "slide_type": "subslide"
    }
   },
   "source": [
    "* Se pueden recuperar filas que cumple condiciones sobre las columnas:\n",
    "* Ejemplo: ¿Cuáles son los paises con gini menor a 0.25?"
   ]
  },
  {
   "cell_type": "code",
   "execution_count": 50,
   "metadata": {
    "colab": {
     "autoexec": {
      "startup": false,
      "wait_interval": 0
     },
     "base_uri": "https://localhost:8080/",
     "height": 111,
     "output_extras": [
      {
       "item_id": 1
      }
     ]
    },
    "colab_type": "code",
    "executionInfo": {
     "elapsed": 596,
     "status": "ok",
     "timestamp": 1522954790972,
     "user": {
      "displayName": "Diego Felipe Caro Alarcon",
      "photoUrl": "//lh5.googleusercontent.com/-K5lRoBE-ong/AAAAAAAAAAI/AAAAAAAAAA8/t6gy1bbvins/s50-c-k-no/photo.jpg",
      "userId": "108760031624692046565"
     },
     "user_tz": 180
    },
    "id": "qFLGXxULMWqn",
    "outputId": "c2e1d512-ea7f-44cd-c1ec-a574633fd837"
   },
   "outputs": [
    {
     "data": {
      "text/html": [
       "<div>\n",
       "<style scoped>\n",
       "    .dataframe tbody tr th:only-of-type {\n",
       "        vertical-align: middle;\n",
       "    }\n",
       "\n",
       "    .dataframe tbody tr th {\n",
       "        vertical-align: top;\n",
       "    }\n",
       "\n",
       "    .dataframe thead th {\n",
       "        text-align: right;\n",
       "    }\n",
       "</style>\n",
       "<table border=\"1\" class=\"dataframe\">\n",
       "  <thead>\n",
       "    <tr style=\"text-align: right;\">\n",
       "      <th></th>\n",
       "      <th>Region</th>\n",
       "      <th>Codigo region</th>\n",
       "      <th>Comuna</th>\n",
       "      <th>Codigo comuna</th>\n",
       "      <th>Poblacion</th>\n",
       "      <th>Casos Confirmados</th>\n",
       "    </tr>\n",
       "  </thead>\n",
       "  <tbody>\n",
       "    <tr>\n",
       "      <th>1</th>\n",
       "      <td>Arica y Parinacota</td>\n",
       "      <td>15</td>\n",
       "      <td>Camarones</td>\n",
       "      <td>15102</td>\n",
       "      <td>1233.0</td>\n",
       "      <td>0.0</td>\n",
       "    </tr>\n",
       "    <tr>\n",
       "      <th>2</th>\n",
       "      <td>Arica y Parinacota</td>\n",
       "      <td>15</td>\n",
       "      <td>General Lagos</td>\n",
       "      <td>15202</td>\n",
       "      <td>810.0</td>\n",
       "      <td>0.0</td>\n",
       "    </tr>\n",
       "    <tr>\n",
       "      <th>3</th>\n",
       "      <td>Arica y Parinacota</td>\n",
       "      <td>15</td>\n",
       "      <td>Putre</td>\n",
       "      <td>15201</td>\n",
       "      <td>2515.0</td>\n",
       "      <td>0.0</td>\n",
       "    </tr>\n",
       "    <tr>\n",
       "      <th>5</th>\n",
       "      <td>Tarapacá</td>\n",
       "      <td>1</td>\n",
       "      <td>Camina</td>\n",
       "      <td>1402</td>\n",
       "      <td>1375.0</td>\n",
       "      <td>0.0</td>\n",
       "    </tr>\n",
       "    <tr>\n",
       "      <th>6</th>\n",
       "      <td>Tarapacá</td>\n",
       "      <td>1</td>\n",
       "      <td>Colchane</td>\n",
       "      <td>1403</td>\n",
       "      <td>1583.0</td>\n",
       "      <td>0.0</td>\n",
       "    </tr>\n",
       "    <tr>\n",
       "      <th>...</th>\n",
       "      <td>...</td>\n",
       "      <td>...</td>\n",
       "      <td>...</td>\n",
       "      <td>...</td>\n",
       "      <td>...</td>\n",
       "      <td>...</td>\n",
       "    </tr>\n",
       "    <tr>\n",
       "      <th>340</th>\n",
       "      <td>Magallanes</td>\n",
       "      <td>12</td>\n",
       "      <td>Primavera</td>\n",
       "      <td>12302</td>\n",
       "      <td>694.0</td>\n",
       "      <td>1.0</td>\n",
       "    </tr>\n",
       "    <tr>\n",
       "      <th>342</th>\n",
       "      <td>Magallanes</td>\n",
       "      <td>12</td>\n",
       "      <td>Rio Verde</td>\n",
       "      <td>12103</td>\n",
       "      <td>211.0</td>\n",
       "      <td>0.0</td>\n",
       "    </tr>\n",
       "    <tr>\n",
       "      <th>343</th>\n",
       "      <td>Magallanes</td>\n",
       "      <td>12</td>\n",
       "      <td>San Gregorio</td>\n",
       "      <td>12104</td>\n",
       "      <td>681.0</td>\n",
       "      <td>1.0</td>\n",
       "    </tr>\n",
       "    <tr>\n",
       "      <th>344</th>\n",
       "      <td>Magallanes</td>\n",
       "      <td>12</td>\n",
       "      <td>Timaukel</td>\n",
       "      <td>12303</td>\n",
       "      <td>282.0</td>\n",
       "      <td>0.0</td>\n",
       "    </tr>\n",
       "    <tr>\n",
       "      <th>345</th>\n",
       "      <td>Magallanes</td>\n",
       "      <td>12</td>\n",
       "      <td>Torres del Paine</td>\n",
       "      <td>12402</td>\n",
       "      <td>1021.0</td>\n",
       "      <td>0.0</td>\n",
       "    </tr>\n",
       "  </tbody>\n",
       "</table>\n",
       "<p>268 rows × 6 columns</p>\n",
       "</div>"
      ],
      "text/plain": [
       "                 Region  Codigo region            Comuna  Codigo comuna  \\\n",
       "1    Arica y Parinacota             15         Camarones          15102   \n",
       "2    Arica y Parinacota             15     General Lagos          15202   \n",
       "3    Arica y Parinacota             15             Putre          15201   \n",
       "5              Tarapacá              1            Camina           1402   \n",
       "6              Tarapacá              1          Colchane           1403   \n",
       "..                  ...            ...               ...            ...   \n",
       "340          Magallanes             12         Primavera          12302   \n",
       "342          Magallanes             12         Rio Verde          12103   \n",
       "343          Magallanes             12      San Gregorio          12104   \n",
       "344          Magallanes             12          Timaukel          12303   \n",
       "345          Magallanes             12  Torres del Paine          12402   \n",
       "\n",
       "     Poblacion  Casos Confirmados  \n",
       "1       1233.0                0.0  \n",
       "2        810.0                0.0  \n",
       "3       2515.0                0.0  \n",
       "5       1375.0                0.0  \n",
       "6       1583.0                0.0  \n",
       "..         ...                ...  \n",
       "340      694.0                1.0  \n",
       "342      211.0                0.0  \n",
       "343      681.0                1.0  \n",
       "344      282.0                0.0  \n",
       "345     1021.0                0.0  \n",
       "\n",
       "[268 rows x 6 columns]"
      ]
     },
     "execution_count": 50,
     "metadata": {},
     "output_type": "execute_result"
    }
   ],
   "source": [
    "df[df['Casos Confirmados'] < 50] # comunas con menos de 50 confirmados"
   ]
  },
  {
   "cell_type": "code",
   "execution_count": 51,
   "metadata": {
    "colab": {
     "autoexec": {
      "startup": false,
      "wait_interval": 0
     },
     "base_uri": "https://localhost:8080/",
     "height": 111,
     "output_extras": [
      {
       "item_id": 1
      }
     ]
    },
    "colab_type": "code",
    "executionInfo": {
     "elapsed": 564,
     "status": "ok",
     "timestamp": 1522954837742,
     "user": {
      "displayName": "Diego Felipe Caro Alarcon",
      "photoUrl": "//lh5.googleusercontent.com/-K5lRoBE-ong/AAAAAAAAAAI/AAAAAAAAAA8/t6gy1bbvins/s50-c-k-no/photo.jpg",
      "userId": "108760031624692046565"
     },
     "user_tz": 180
    },
    "id": "89QpkOBZMWqp",
    "outputId": "489fdb91-e9d9-4483-ea78-671706e20f6c"
   },
   "outputs": [
    {
     "data": {
      "text/html": [
       "<div>\n",
       "<style scoped>\n",
       "    .dataframe tbody tr th:only-of-type {\n",
       "        vertical-align: middle;\n",
       "    }\n",
       "\n",
       "    .dataframe tbody tr th {\n",
       "        vertical-align: top;\n",
       "    }\n",
       "\n",
       "    .dataframe thead th {\n",
       "        text-align: right;\n",
       "    }\n",
       "</style>\n",
       "<table border=\"1\" class=\"dataframe\">\n",
       "  <thead>\n",
       "    <tr style=\"text-align: right;\">\n",
       "      <th></th>\n",
       "      <th>Region</th>\n",
       "      <th>Codigo region</th>\n",
       "      <th>Comuna</th>\n",
       "      <th>Codigo comuna</th>\n",
       "      <th>Poblacion</th>\n",
       "      <th>Casos Confirmados</th>\n",
       "    </tr>\n",
       "  </thead>\n",
       "  <tbody>\n",
       "    <tr>\n",
       "      <th>1</th>\n",
       "      <td>Arica y Parinacota</td>\n",
       "      <td>15</td>\n",
       "      <td>Camarones</td>\n",
       "      <td>15102</td>\n",
       "      <td>1233.0</td>\n",
       "      <td>0.0</td>\n",
       "    </tr>\n",
       "    <tr>\n",
       "      <th>2</th>\n",
       "      <td>Arica y Parinacota</td>\n",
       "      <td>15</td>\n",
       "      <td>General Lagos</td>\n",
       "      <td>15202</td>\n",
       "      <td>810.0</td>\n",
       "      <td>0.0</td>\n",
       "    </tr>\n",
       "    <tr>\n",
       "      <th>3</th>\n",
       "      <td>Arica y Parinacota</td>\n",
       "      <td>15</td>\n",
       "      <td>Putre</td>\n",
       "      <td>15201</td>\n",
       "      <td>2515.0</td>\n",
       "      <td>0.0</td>\n",
       "    </tr>\n",
       "    <tr>\n",
       "      <th>5</th>\n",
       "      <td>Tarapacá</td>\n",
       "      <td>1</td>\n",
       "      <td>Camina</td>\n",
       "      <td>1402</td>\n",
       "      <td>1375.0</td>\n",
       "      <td>0.0</td>\n",
       "    </tr>\n",
       "    <tr>\n",
       "      <th>6</th>\n",
       "      <td>Tarapacá</td>\n",
       "      <td>1</td>\n",
       "      <td>Colchane</td>\n",
       "      <td>1403</td>\n",
       "      <td>1583.0</td>\n",
       "      <td>0.0</td>\n",
       "    </tr>\n",
       "    <tr>\n",
       "      <th>...</th>\n",
       "      <td>...</td>\n",
       "      <td>...</td>\n",
       "      <td>...</td>\n",
       "      <td>...</td>\n",
       "      <td>...</td>\n",
       "      <td>...</td>\n",
       "    </tr>\n",
       "    <tr>\n",
       "      <th>340</th>\n",
       "      <td>Magallanes</td>\n",
       "      <td>12</td>\n",
       "      <td>Primavera</td>\n",
       "      <td>12302</td>\n",
       "      <td>694.0</td>\n",
       "      <td>1.0</td>\n",
       "    </tr>\n",
       "    <tr>\n",
       "      <th>342</th>\n",
       "      <td>Magallanes</td>\n",
       "      <td>12</td>\n",
       "      <td>Rio Verde</td>\n",
       "      <td>12103</td>\n",
       "      <td>211.0</td>\n",
       "      <td>0.0</td>\n",
       "    </tr>\n",
       "    <tr>\n",
       "      <th>343</th>\n",
       "      <td>Magallanes</td>\n",
       "      <td>12</td>\n",
       "      <td>San Gregorio</td>\n",
       "      <td>12104</td>\n",
       "      <td>681.0</td>\n",
       "      <td>1.0</td>\n",
       "    </tr>\n",
       "    <tr>\n",
       "      <th>344</th>\n",
       "      <td>Magallanes</td>\n",
       "      <td>12</td>\n",
       "      <td>Timaukel</td>\n",
       "      <td>12303</td>\n",
       "      <td>282.0</td>\n",
       "      <td>0.0</td>\n",
       "    </tr>\n",
       "    <tr>\n",
       "      <th>345</th>\n",
       "      <td>Magallanes</td>\n",
       "      <td>12</td>\n",
       "      <td>Torres del Paine</td>\n",
       "      <td>12402</td>\n",
       "      <td>1021.0</td>\n",
       "      <td>0.0</td>\n",
       "    </tr>\n",
       "  </tbody>\n",
       "</table>\n",
       "<p>139 rows × 6 columns</p>\n",
       "</div>"
      ],
      "text/plain": [
       "                 Region  Codigo region            Comuna  Codigo comuna  \\\n",
       "1    Arica y Parinacota             15         Camarones          15102   \n",
       "2    Arica y Parinacota             15     General Lagos          15202   \n",
       "3    Arica y Parinacota             15             Putre          15201   \n",
       "5              Tarapacá              1            Camina           1402   \n",
       "6              Tarapacá              1          Colchane           1403   \n",
       "..                  ...            ...               ...            ...   \n",
       "340          Magallanes             12         Primavera          12302   \n",
       "342          Magallanes             12         Rio Verde          12103   \n",
       "343          Magallanes             12      San Gregorio          12104   \n",
       "344          Magallanes             12          Timaukel          12303   \n",
       "345          Magallanes             12  Torres del Paine          12402   \n",
       "\n",
       "     Poblacion  Casos Confirmados  \n",
       "1       1233.0                0.0  \n",
       "2        810.0                0.0  \n",
       "3       2515.0                0.0  \n",
       "5       1375.0                0.0  \n",
       "6       1583.0                0.0  \n",
       "..         ...                ...  \n",
       "340      694.0                1.0  \n",
       "342      211.0                0.0  \n",
       "343      681.0                1.0  \n",
       "344      282.0                0.0  \n",
       "345     1021.0                0.0  \n",
       "\n",
       "[139 rows x 6 columns]"
      ]
     },
     "execution_count": 51,
     "metadata": {},
     "output_type": "execute_result"
    }
   ],
   "source": [
    "menos_casos = df[df['Casos Confirmados'] < 5]\n",
    "menos_casos"
   ]
  },
  {
   "cell_type": "markdown",
   "metadata": {
    "colab_type": "text",
    "id": "GAPFoYSlMWqs",
    "slideshow": {
     "slide_type": "subslide"
    }
   },
   "source": [
    "Las condiciones se pueden mezclar con el operador or, and y not. Siempre debes **usar paréntesis para agrupar las condiciones!**\n",
    "\n",
    "| Operación | Python (`if`) | Pandas |\n",
    "|-----------|--------------|-----------|\n",
    "| Disyunción | or | &#124; |\n",
    "| Conjunción | and | & |\n",
    "| Negación | not | ~ |"
   ]
  },
  {
   "cell_type": "markdown",
   "metadata": {
    "colab_type": "text",
    "id": "CqCQDYy6MWqs"
   },
   "source": [
    "Pregunta: ¿ Cuáles son las comunas con casos conformados menores a 50 y mayores a 500?"
   ]
  },
  {
   "cell_type": "code",
   "execution_count": 52,
   "metadata": {
    "colab": {
     "autoexec": {
      "startup": false,
      "wait_interval": 0
     },
     "base_uri": "https://localhost:8080/",
     "height": 173,
     "output_extras": [
      {
       "item_id": 1
      }
     ]
    },
    "colab_type": "code",
    "executionInfo": {
     "elapsed": 594,
     "status": "ok",
     "timestamp": 1522954946935,
     "user": {
      "displayName": "Diego Felipe Caro Alarcon",
      "photoUrl": "//lh5.googleusercontent.com/-K5lRoBE-ong/AAAAAAAAAAI/AAAAAAAAAA8/t6gy1bbvins/s50-c-k-no/photo.jpg",
      "userId": "108760031624692046565"
     },
     "user_tz": 180
    },
    "id": "kGnLMVCVMWqt",
    "outputId": "025e0921-1488-46ca-e9a5-de58f44b3096"
   },
   "outputs": [
    {
     "data": {
      "text/html": [
       "<div>\n",
       "<style scoped>\n",
       "    .dataframe tbody tr th:only-of-type {\n",
       "        vertical-align: middle;\n",
       "    }\n",
       "\n",
       "    .dataframe tbody tr th {\n",
       "        vertical-align: top;\n",
       "    }\n",
       "\n",
       "    .dataframe thead th {\n",
       "        text-align: right;\n",
       "    }\n",
       "</style>\n",
       "<table border=\"1\" class=\"dataframe\">\n",
       "  <thead>\n",
       "    <tr style=\"text-align: right;\">\n",
       "      <th></th>\n",
       "      <th>Region</th>\n",
       "      <th>Codigo region</th>\n",
       "      <th>Comuna</th>\n",
       "      <th>Codigo comuna</th>\n",
       "      <th>Poblacion</th>\n",
       "      <th>Casos Confirmados</th>\n",
       "    </tr>\n",
       "  </thead>\n",
       "  <tbody>\n",
       "    <tr>\n",
       "      <th>1</th>\n",
       "      <td>Arica y Parinacota</td>\n",
       "      <td>15</td>\n",
       "      <td>Camarones</td>\n",
       "      <td>15102</td>\n",
       "      <td>1233.0</td>\n",
       "      <td>0.0</td>\n",
       "    </tr>\n",
       "    <tr>\n",
       "      <th>2</th>\n",
       "      <td>Arica y Parinacota</td>\n",
       "      <td>15</td>\n",
       "      <td>General Lagos</td>\n",
       "      <td>15202</td>\n",
       "      <td>810.0</td>\n",
       "      <td>0.0</td>\n",
       "    </tr>\n",
       "    <tr>\n",
       "      <th>3</th>\n",
       "      <td>Arica y Parinacota</td>\n",
       "      <td>15</td>\n",
       "      <td>Putre</td>\n",
       "      <td>15201</td>\n",
       "      <td>2515.0</td>\n",
       "      <td>0.0</td>\n",
       "    </tr>\n",
       "    <tr>\n",
       "      <th>5</th>\n",
       "      <td>Tarapacá</td>\n",
       "      <td>1</td>\n",
       "      <td>Camina</td>\n",
       "      <td>1402</td>\n",
       "      <td>1375.0</td>\n",
       "      <td>0.0</td>\n",
       "    </tr>\n",
       "    <tr>\n",
       "      <th>6</th>\n",
       "      <td>Tarapacá</td>\n",
       "      <td>1</td>\n",
       "      <td>Colchane</td>\n",
       "      <td>1403</td>\n",
       "      <td>1583.0</td>\n",
       "      <td>0.0</td>\n",
       "    </tr>\n",
       "    <tr>\n",
       "      <th>...</th>\n",
       "      <td>...</td>\n",
       "      <td>...</td>\n",
       "      <td>...</td>\n",
       "      <td>...</td>\n",
       "      <td>...</td>\n",
       "      <td>...</td>\n",
       "    </tr>\n",
       "    <tr>\n",
       "      <th>341</th>\n",
       "      <td>Magallanes</td>\n",
       "      <td>12</td>\n",
       "      <td>Punta Arenas</td>\n",
       "      <td>12101</td>\n",
       "      <td>141984.0</td>\n",
       "      <td>858.0</td>\n",
       "    </tr>\n",
       "    <tr>\n",
       "      <th>342</th>\n",
       "      <td>Magallanes</td>\n",
       "      <td>12</td>\n",
       "      <td>Rio Verde</td>\n",
       "      <td>12103</td>\n",
       "      <td>211.0</td>\n",
       "      <td>0.0</td>\n",
       "    </tr>\n",
       "    <tr>\n",
       "      <th>343</th>\n",
       "      <td>Magallanes</td>\n",
       "      <td>12</td>\n",
       "      <td>San Gregorio</td>\n",
       "      <td>12104</td>\n",
       "      <td>681.0</td>\n",
       "      <td>1.0</td>\n",
       "    </tr>\n",
       "    <tr>\n",
       "      <th>344</th>\n",
       "      <td>Magallanes</td>\n",
       "      <td>12</td>\n",
       "      <td>Timaukel</td>\n",
       "      <td>12303</td>\n",
       "      <td>282.0</td>\n",
       "      <td>0.0</td>\n",
       "    </tr>\n",
       "    <tr>\n",
       "      <th>345</th>\n",
       "      <td>Magallanes</td>\n",
       "      <td>12</td>\n",
       "      <td>Torres del Paine</td>\n",
       "      <td>12402</td>\n",
       "      <td>1021.0</td>\n",
       "      <td>0.0</td>\n",
       "    </tr>\n",
       "  </tbody>\n",
       "</table>\n",
       "<p>283 rows × 6 columns</p>\n",
       "</div>"
      ],
      "text/plain": [
       "                 Region  Codigo region            Comuna  Codigo comuna  \\\n",
       "1    Arica y Parinacota             15         Camarones          15102   \n",
       "2    Arica y Parinacota             15     General Lagos          15202   \n",
       "3    Arica y Parinacota             15             Putre          15201   \n",
       "5              Tarapacá              1            Camina           1402   \n",
       "6              Tarapacá              1          Colchane           1403   \n",
       "..                  ...            ...               ...            ...   \n",
       "341          Magallanes             12      Punta Arenas          12101   \n",
       "342          Magallanes             12         Rio Verde          12103   \n",
       "343          Magallanes             12      San Gregorio          12104   \n",
       "344          Magallanes             12          Timaukel          12303   \n",
       "345          Magallanes             12  Torres del Paine          12402   \n",
       "\n",
       "     Poblacion  Casos Confirmados  \n",
       "1       1233.0                0.0  \n",
       "2        810.0                0.0  \n",
       "3       2515.0                0.0  \n",
       "5       1375.0                0.0  \n",
       "6       1583.0                0.0  \n",
       "..         ...                ...  \n",
       "341   141984.0              858.0  \n",
       "342      211.0                0.0  \n",
       "343      681.0                1.0  \n",
       "344      282.0                0.0  \n",
       "345     1021.0                0.0  \n",
       "\n",
       "[283 rows x 6 columns]"
      ]
     },
     "execution_count": 52,
     "metadata": {},
     "output_type": "execute_result"
    }
   ],
   "source": [
    "casos_extremos = df[(df['Casos Confirmados'] < 50) | (df['Casos Confirmados'] > 500)] # debes agrupar condiciones con paréntesis\n",
    "casos_extremos"
   ]
  },
  {
   "cell_type": "markdown",
   "metadata": {
    "colab_type": "text",
    "id": "l8o5hOPaMWqx",
    "slideshow": {
     "slide_type": "subslide"
    }
   },
   "source": [
    "¿Y cuales están entre 50 y 500?"
   ]
  },
  {
   "cell_type": "code",
   "execution_count": 53,
   "metadata": {
    "colab": {
     "autoexec": {
      "startup": false,
      "wait_interval": 0
     },
     "base_uri": "https://localhost:8080/",
     "height": 204,
     "output_extras": [
      {
       "item_id": 1
      }
     ]
    },
    "colab_type": "code",
    "executionInfo": {
     "elapsed": 602,
     "status": "ok",
     "timestamp": 1522955051839,
     "user": {
      "displayName": "Diego Felipe Caro Alarcon",
      "photoUrl": "//lh5.googleusercontent.com/-K5lRoBE-ong/AAAAAAAAAAI/AAAAAAAAAA8/t6gy1bbvins/s50-c-k-no/photo.jpg",
      "userId": "108760031624692046565"
     },
     "user_tz": 180
    },
    "id": "R_EOISRCMWqy",
    "outputId": "cb017655-a772-45fd-cb6f-b6d5b5184cf0"
   },
   "outputs": [
    {
     "data": {
      "text/html": [
       "<div>\n",
       "<style scoped>\n",
       "    .dataframe tbody tr th:only-of-type {\n",
       "        vertical-align: middle;\n",
       "    }\n",
       "\n",
       "    .dataframe tbody tr th {\n",
       "        vertical-align: top;\n",
       "    }\n",
       "\n",
       "    .dataframe thead th {\n",
       "        text-align: right;\n",
       "    }\n",
       "</style>\n",
       "<table border=\"1\" class=\"dataframe\">\n",
       "  <thead>\n",
       "    <tr style=\"text-align: right;\">\n",
       "      <th></th>\n",
       "      <th>Region</th>\n",
       "      <th>Codigo region</th>\n",
       "      <th>Comuna</th>\n",
       "      <th>Codigo comuna</th>\n",
       "      <th>Poblacion</th>\n",
       "      <th>Casos Confirmados</th>\n",
       "    </tr>\n",
       "  </thead>\n",
       "  <tbody>\n",
       "    <tr>\n",
       "      <th>0</th>\n",
       "      <td>Arica y Parinacota</td>\n",
       "      <td>15</td>\n",
       "      <td>Arica</td>\n",
       "      <td>15101</td>\n",
       "      <td>247552.0</td>\n",
       "      <td>353.0</td>\n",
       "    </tr>\n",
       "    <tr>\n",
       "      <th>4</th>\n",
       "      <td>Tarapacá</td>\n",
       "      <td>1</td>\n",
       "      <td>Alto Hospicio</td>\n",
       "      <td>1107</td>\n",
       "      <td>129999.0</td>\n",
       "      <td>188.0</td>\n",
       "    </tr>\n",
       "    <tr>\n",
       "      <th>8</th>\n",
       "      <td>Tarapacá</td>\n",
       "      <td>1</td>\n",
       "      <td>Iquique</td>\n",
       "      <td>1101</td>\n",
       "      <td>223463.0</td>\n",
       "      <td>308.0</td>\n",
       "    </tr>\n",
       "    <tr>\n",
       "      <th>12</th>\n",
       "      <td>Antofagasta</td>\n",
       "      <td>2</td>\n",
       "      <td>Calama</td>\n",
       "      <td>2201</td>\n",
       "      <td>190336.0</td>\n",
       "      <td>114.0</td>\n",
       "    </tr>\n",
       "    <tr>\n",
       "      <th>14</th>\n",
       "      <td>Antofagasta</td>\n",
       "      <td>2</td>\n",
       "      <td>Mejillones</td>\n",
       "      <td>2102</td>\n",
       "      <td>14776.0</td>\n",
       "      <td>150.0</td>\n",
       "    </tr>\n",
       "  </tbody>\n",
       "</table>\n",
       "</div>"
      ],
      "text/plain": [
       "                Region  Codigo region         Comuna  Codigo comuna  \\\n",
       "0   Arica y Parinacota             15          Arica          15101   \n",
       "4             Tarapacá              1  Alto Hospicio           1107   \n",
       "8             Tarapacá              1        Iquique           1101   \n",
       "12         Antofagasta              2         Calama           2201   \n",
       "14         Antofagasta              2     Mejillones           2102   \n",
       "\n",
       "    Poblacion  Casos Confirmados  \n",
       "0    247552.0              353.0  \n",
       "4    129999.0              188.0  \n",
       "8    223463.0              308.0  \n",
       "12   190336.0              114.0  \n",
       "14    14776.0              150.0  "
      ]
     },
     "execution_count": 53,
     "metadata": {},
     "output_type": "execute_result"
    }
   ],
   "source": [
    "casos_noextremos = df[(df['Casos Confirmados'] > 50) & (df['Casos Confirmados'] < 500)]\n",
    "casos_noextremos.head()"
   ]
  },
  {
   "cell_type": "markdown",
   "metadata": {
    "colab_type": "text",
    "id": "XNX9rVm8MWq4"
   },
   "source": [
    "* Pregunta: ¿Cuántas comunas están en los extremos?"
   ]
  },
  {
   "cell_type": "code",
   "execution_count": 54,
   "metadata": {
    "colab": {
     "autoexec": {
      "startup": false,
      "wait_interval": 0
     },
     "base_uri": "https://localhost:8080/",
     "height": 34,
     "output_extras": [
      {
       "item_id": 1
      }
     ]
    },
    "colab_type": "code",
    "executionInfo": {
     "elapsed": 611,
     "status": "ok",
     "timestamp": 1522955077751,
     "user": {
      "displayName": "Diego Felipe Caro Alarcon",
      "photoUrl": "//lh5.googleusercontent.com/-K5lRoBE-ong/AAAAAAAAAAI/AAAAAAAAAA8/t6gy1bbvins/s50-c-k-no/photo.jpg",
      "userId": "108760031624692046565"
     },
     "user_tz": 180
    },
    "id": "PS9svGerMWq5",
    "outputId": "bde67534-f9aa-4aba-9a4f-5b61038568f2"
   },
   "outputs": [
    {
     "data": {
      "text/plain": [
       "(62, 6)"
      ]
     },
     "execution_count": 54,
     "metadata": {},
     "output_type": "execute_result"
    }
   ],
   "source": [
    "casos_noextremos.shape # (num. filas, num. columnas)"
   ]
  },
  {
   "cell_type": "code",
   "execution_count": 55,
   "metadata": {
    "colab": {
     "autoexec": {
      "startup": false,
      "wait_interval": 0
     },
     "base_uri": "https://localhost:8080/",
     "height": 1227,
     "output_extras": [
      {
       "item_id": 1
      }
     ]
    },
    "colab_type": "code",
    "executionInfo": {
     "elapsed": 665,
     "status": "ok",
     "timestamp": 1522943316064,
     "user": {
      "displayName": "Diego Felipe Caro Alarcon",
      "photoUrl": "//lh5.googleusercontent.com/-K5lRoBE-ong/AAAAAAAAAAI/AAAAAAAAAA8/t6gy1bbvins/s50-c-k-no/photo.jpg",
      "userId": "108760031624692046565"
     },
     "user_tz": 180
    },
    "id": "VYmLBVzBMWq8",
    "outputId": "0f413b81-2730-427d-9131-a3871bcbd5a6",
    "slideshow": {
     "slide_type": "subslide"
    }
   },
   "outputs": [
    {
     "data": {
      "text/html": [
       "<div>\n",
       "<style scoped>\n",
       "    .dataframe tbody tr th:only-of-type {\n",
       "        vertical-align: middle;\n",
       "    }\n",
       "\n",
       "    .dataframe tbody tr th {\n",
       "        vertical-align: top;\n",
       "    }\n",
       "\n",
       "    .dataframe thead th {\n",
       "        text-align: right;\n",
       "    }\n",
       "</style>\n",
       "<table border=\"1\" class=\"dataframe\">\n",
       "  <thead>\n",
       "    <tr style=\"text-align: right;\">\n",
       "      <th></th>\n",
       "      <th>Region</th>\n",
       "      <th>Codigo region</th>\n",
       "      <th>Comuna</th>\n",
       "      <th>Codigo comuna</th>\n",
       "      <th>Poblacion</th>\n",
       "      <th>Casos Confirmados</th>\n",
       "    </tr>\n",
       "  </thead>\n",
       "  <tbody>\n",
       "    <tr>\n",
       "      <th>0</th>\n",
       "      <td>Arica y Parinacota</td>\n",
       "      <td>15</td>\n",
       "      <td>Arica</td>\n",
       "      <td>15101</td>\n",
       "      <td>247552.0</td>\n",
       "      <td>353.0</td>\n",
       "    </tr>\n",
       "    <tr>\n",
       "      <th>4</th>\n",
       "      <td>Tarapacá</td>\n",
       "      <td>1</td>\n",
       "      <td>Alto Hospicio</td>\n",
       "      <td>1107</td>\n",
       "      <td>129999.0</td>\n",
       "      <td>188.0</td>\n",
       "    </tr>\n",
       "    <tr>\n",
       "      <th>8</th>\n",
       "      <td>Tarapacá</td>\n",
       "      <td>1</td>\n",
       "      <td>Iquique</td>\n",
       "      <td>1101</td>\n",
       "      <td>223463.0</td>\n",
       "      <td>308.0</td>\n",
       "    </tr>\n",
       "    <tr>\n",
       "      <th>12</th>\n",
       "      <td>Antofagasta</td>\n",
       "      <td>2</td>\n",
       "      <td>Calama</td>\n",
       "      <td>2201</td>\n",
       "      <td>190336.0</td>\n",
       "      <td>114.0</td>\n",
       "    </tr>\n",
       "    <tr>\n",
       "      <th>14</th>\n",
       "      <td>Antofagasta</td>\n",
       "      <td>2</td>\n",
       "      <td>Mejillones</td>\n",
       "      <td>2102</td>\n",
       "      <td>14776.0</td>\n",
       "      <td>150.0</td>\n",
       "    </tr>\n",
       "    <tr>\n",
       "      <th>...</th>\n",
       "      <td>...</td>\n",
       "      <td>...</td>\n",
       "      <td>...</td>\n",
       "      <td>...</td>\n",
       "      <td>...</td>\n",
       "      <td>...</td>\n",
       "    </tr>\n",
       "    <tr>\n",
       "      <th>275</th>\n",
       "      <td>Araucanía</td>\n",
       "      <td>9</td>\n",
       "      <td>Saavedra</td>\n",
       "      <td>9116</td>\n",
       "      <td>12793.0</td>\n",
       "      <td>52.0</td>\n",
       "    </tr>\n",
       "    <tr>\n",
       "      <th>280</th>\n",
       "      <td>Araucanía</td>\n",
       "      <td>9</td>\n",
       "      <td>Victoria</td>\n",
       "      <td>9211</td>\n",
       "      <td>35467.0</td>\n",
       "      <td>78.0</td>\n",
       "    </tr>\n",
       "    <tr>\n",
       "      <th>294</th>\n",
       "      <td>Los Ríos</td>\n",
       "      <td>14</td>\n",
       "      <td>Valdivia</td>\n",
       "      <td>14101</td>\n",
       "      <td>176774.0</td>\n",
       "      <td>122.0</td>\n",
       "    </tr>\n",
       "    <tr>\n",
       "      <th>310</th>\n",
       "      <td>Los Lagos</td>\n",
       "      <td>10</td>\n",
       "      <td>Osorno</td>\n",
       "      <td>10301</td>\n",
       "      <td>173410.0</td>\n",
       "      <td>324.0</td>\n",
       "    </tr>\n",
       "    <tr>\n",
       "      <th>312</th>\n",
       "      <td>Los Lagos</td>\n",
       "      <td>10</td>\n",
       "      <td>Puerto Montt</td>\n",
       "      <td>10101</td>\n",
       "      <td>269398.0</td>\n",
       "      <td>54.0</td>\n",
       "    </tr>\n",
       "  </tbody>\n",
       "</table>\n",
       "<p>62 rows × 6 columns</p>\n",
       "</div>"
      ],
      "text/plain": [
       "                 Region  Codigo region         Comuna  Codigo comuna  \\\n",
       "0    Arica y Parinacota             15          Arica          15101   \n",
       "4              Tarapacá              1  Alto Hospicio           1107   \n",
       "8              Tarapacá              1        Iquique           1101   \n",
       "12          Antofagasta              2         Calama           2201   \n",
       "14          Antofagasta              2     Mejillones           2102   \n",
       "..                  ...            ...            ...            ...   \n",
       "275           Araucanía              9       Saavedra           9116   \n",
       "280           Araucanía              9       Victoria           9211   \n",
       "294            Los Ríos             14       Valdivia          14101   \n",
       "310           Los Lagos             10         Osorno          10301   \n",
       "312           Los Lagos             10   Puerto Montt          10101   \n",
       "\n",
       "     Poblacion  Casos Confirmados  \n",
       "0     247552.0              353.0  \n",
       "4     129999.0              188.0  \n",
       "8     223463.0              308.0  \n",
       "12    190336.0              114.0  \n",
       "14     14776.0              150.0  \n",
       "..         ...                ...  \n",
       "275    12793.0               52.0  \n",
       "280    35467.0               78.0  \n",
       "294   176774.0              122.0  \n",
       "310   173410.0              324.0  \n",
       "312   269398.0               54.0  \n",
       "\n",
       "[62 rows x 6 columns]"
      ]
     },
     "execution_count": 55,
     "metadata": {},
     "output_type": "execute_result"
    }
   ],
   "source": [
    "casos_noextremos"
   ]
  },
  {
   "cell_type": "markdown",
   "metadata": {
    "colab_type": "text",
    "id": "9M_Cw_ZXMWq-",
    "slideshow": {
     "slide_type": "slide"
    }
   },
   "source": [
    "# Operaciones sobre Dataframes\n",
    "Pandas incorpora operaciones estadísticas básicas. Ver vás en https://pandas.pydata.org/pandas-docs/stable/basics.html#descriptive-statistics "
   ]
  },
  {
   "cell_type": "code",
   "execution_count": 56,
   "metadata": {
    "colab": {
     "autoexec": {
      "startup": false,
      "wait_interval": 0
     },
     "base_uri": "https://localhost:8080/",
     "height": 297,
     "output_extras": [
      {
       "item_id": 1
      }
     ]
    },
    "colab_type": "code",
    "executionInfo": {
     "elapsed": 437,
     "status": "ok",
     "timestamp": 1522943350023,
     "user": {
      "displayName": "Diego Felipe Caro Alarcon",
      "photoUrl": "//lh5.googleusercontent.com/-K5lRoBE-ong/AAAAAAAAAAI/AAAAAAAAAA8/t6gy1bbvins/s50-c-k-no/photo.jpg",
      "userId": "108760031624692046565"
     },
     "user_tz": 180
    },
    "id": "z5f8gqgyMWrD",
    "outputId": "1e1febaf-6476-4251-f933-0dd728d8ab5c"
   },
   "outputs": [
    {
     "data": {
      "text/html": [
       "<div>\n",
       "<style scoped>\n",
       "    .dataframe tbody tr th:only-of-type {\n",
       "        vertical-align: middle;\n",
       "    }\n",
       "\n",
       "    .dataframe tbody tr th {\n",
       "        vertical-align: top;\n",
       "    }\n",
       "\n",
       "    .dataframe thead th {\n",
       "        text-align: right;\n",
       "    }\n",
       "</style>\n",
       "<table border=\"1\" class=\"dataframe\">\n",
       "  <thead>\n",
       "    <tr style=\"text-align: right;\">\n",
       "      <th></th>\n",
       "      <th>Codigo region</th>\n",
       "      <th>Codigo comuna</th>\n",
       "      <th>Poblacion</th>\n",
       "      <th>Casos Confirmados</th>\n",
       "    </tr>\n",
       "  </thead>\n",
       "  <tbody>\n",
       "    <tr>\n",
       "      <th>count</th>\n",
       "      <td>346.000000</td>\n",
       "      <td>346.000000</td>\n",
       "      <td>346.000000</td>\n",
       "      <td>346.000000</td>\n",
       "    </tr>\n",
       "    <tr>\n",
       "      <th>mean</th>\n",
       "      <td>8.797688</td>\n",
       "      <td>9034.997110</td>\n",
       "      <td>56237.890173</td>\n",
       "      <td>86.777457</td>\n",
       "    </tr>\n",
       "    <tr>\n",
       "      <th>std</th>\n",
       "      <td>3.847016</td>\n",
       "      <td>3818.147431</td>\n",
       "      <td>88945.967089</td>\n",
       "      <td>220.231669</td>\n",
       "    </tr>\n",
       "    <tr>\n",
       "      <th>min</th>\n",
       "      <td>1.000000</td>\n",
       "      <td>1101.000000</td>\n",
       "      <td>137.000000</td>\n",
       "      <td>0.000000</td>\n",
       "    </tr>\n",
       "    <tr>\n",
       "      <th>25%</th>\n",
       "      <td>6.000000</td>\n",
       "      <td>6109.250000</td>\n",
       "      <td>9649.250000</td>\n",
       "      <td>2.000000</td>\n",
       "    </tr>\n",
       "    <tr>\n",
       "      <th>50%</th>\n",
       "      <td>8.000000</td>\n",
       "      <td>8313.500000</td>\n",
       "      <td>19770.000000</td>\n",
       "      <td>8.000000</td>\n",
       "    </tr>\n",
       "    <tr>\n",
       "      <th>75%</th>\n",
       "      <td>13.000000</td>\n",
       "      <td>13102.750000</td>\n",
       "      <td>55441.250000</td>\n",
       "      <td>40.750000</td>\n",
       "    </tr>\n",
       "    <tr>\n",
       "      <th>max</th>\n",
       "      <td>16.000000</td>\n",
       "      <td>16305.000000</td>\n",
       "      <td>645909.000000</td>\n",
       "      <td>1873.000000</td>\n",
       "    </tr>\n",
       "  </tbody>\n",
       "</table>\n",
       "</div>"
      ],
      "text/plain": [
       "       Codigo region  Codigo comuna      Poblacion  Casos Confirmados\n",
       "count     346.000000     346.000000     346.000000         346.000000\n",
       "mean        8.797688    9034.997110   56237.890173          86.777457\n",
       "std         3.847016    3818.147431   88945.967089         220.231669\n",
       "min         1.000000    1101.000000     137.000000           0.000000\n",
       "25%         6.000000    6109.250000    9649.250000           2.000000\n",
       "50%         8.000000    8313.500000   19770.000000           8.000000\n",
       "75%        13.000000   13102.750000   55441.250000          40.750000\n",
       "max        16.000000   16305.000000  645909.000000        1873.000000"
      ]
     },
     "execution_count": 56,
     "metadata": {},
     "output_type": "execute_result"
    }
   ],
   "source": [
    "df.describe()"
   ]
  },
  {
   "cell_type": "code",
   "execution_count": 57,
   "metadata": {
    "colab": {
     "autoexec": {
      "startup": false,
      "wait_interval": 0
     },
     "base_uri": "https://localhost:8080/",
     "height": 421,
     "output_extras": [
      {
       "item_id": 1
      }
     ]
    },
    "colab_type": "code",
    "executionInfo": {
     "elapsed": 791,
     "status": "ok",
     "timestamp": 1522955380374,
     "user": {
      "displayName": "Diego Felipe Caro Alarcon",
      "photoUrl": "//lh5.googleusercontent.com/-K5lRoBE-ong/AAAAAAAAAAI/AAAAAAAAAA8/t6gy1bbvins/s50-c-k-no/photo.jpg",
      "userId": "108760031624692046565"
     },
     "user_tz": 180
    },
    "id": "-tbh4WimNlI7",
    "outputId": "99c9adc9-ba86-4386-c6a6-c5315e4d96e3"
   },
   "outputs": [
    {
     "data": {
      "text/html": [
       "<div>\n",
       "<style scoped>\n",
       "    .dataframe tbody tr th:only-of-type {\n",
       "        vertical-align: middle;\n",
       "    }\n",
       "\n",
       "    .dataframe tbody tr th {\n",
       "        vertical-align: top;\n",
       "    }\n",
       "\n",
       "    .dataframe thead th {\n",
       "        text-align: right;\n",
       "    }\n",
       "</style>\n",
       "<table border=\"1\" class=\"dataframe\">\n",
       "  <thead>\n",
       "    <tr style=\"text-align: right;\">\n",
       "      <th></th>\n",
       "      <th>Region</th>\n",
       "      <th>Codigo region</th>\n",
       "      <th>Comuna</th>\n",
       "      <th>Codigo comuna</th>\n",
       "      <th>Poblacion</th>\n",
       "      <th>Casos Confirmados</th>\n",
       "    </tr>\n",
       "  </thead>\n",
       "  <tbody>\n",
       "    <tr>\n",
       "      <th>82</th>\n",
       "      <td>Metropolitana</td>\n",
       "      <td>13</td>\n",
       "      <td>Alhue</td>\n",
       "      <td>13502</td>\n",
       "      <td>7405.0</td>\n",
       "      <td>0.0</td>\n",
       "    </tr>\n",
       "    <tr>\n",
       "      <th>83</th>\n",
       "      <td>Metropolitana</td>\n",
       "      <td>13</td>\n",
       "      <td>Buin</td>\n",
       "      <td>13402</td>\n",
       "      <td>109641.0</td>\n",
       "      <td>152.0</td>\n",
       "    </tr>\n",
       "    <tr>\n",
       "      <th>84</th>\n",
       "      <td>Metropolitana</td>\n",
       "      <td>13</td>\n",
       "      <td>Calera de Tango</td>\n",
       "      <td>13403</td>\n",
       "      <td>28525.0</td>\n",
       "      <td>23.0</td>\n",
       "    </tr>\n",
       "    <tr>\n",
       "      <th>85</th>\n",
       "      <td>Metropolitana</td>\n",
       "      <td>13</td>\n",
       "      <td>Cerrillos</td>\n",
       "      <td>13102</td>\n",
       "      <td>88956.0</td>\n",
       "      <td>329.0</td>\n",
       "    </tr>\n",
       "    <tr>\n",
       "      <th>86</th>\n",
       "      <td>Metropolitana</td>\n",
       "      <td>13</td>\n",
       "      <td>Cerro Navia</td>\n",
       "      <td>13103</td>\n",
       "      <td>142465.0</td>\n",
       "      <td>387.0</td>\n",
       "    </tr>\n",
       "    <tr>\n",
       "      <th>87</th>\n",
       "      <td>Metropolitana</td>\n",
       "      <td>13</td>\n",
       "      <td>Colina</td>\n",
       "      <td>13301</td>\n",
       "      <td>180353.0</td>\n",
       "      <td>289.0</td>\n",
       "    </tr>\n",
       "    <tr>\n",
       "      <th>88</th>\n",
       "      <td>Metropolitana</td>\n",
       "      <td>13</td>\n",
       "      <td>Conchali</td>\n",
       "      <td>13104</td>\n",
       "      <td>139195.0</td>\n",
       "      <td>470.0</td>\n",
       "    </tr>\n",
       "    <tr>\n",
       "      <th>89</th>\n",
       "      <td>Metropolitana</td>\n",
       "      <td>13</td>\n",
       "      <td>Curacavi</td>\n",
       "      <td>13503</td>\n",
       "      <td>36430.0</td>\n",
       "      <td>35.0</td>\n",
       "    </tr>\n",
       "    <tr>\n",
       "      <th>90</th>\n",
       "      <td>Metropolitana</td>\n",
       "      <td>13</td>\n",
       "      <td>El Bosque</td>\n",
       "      <td>13105</td>\n",
       "      <td>172000.0</td>\n",
       "      <td>439.0</td>\n",
       "    </tr>\n",
       "    <tr>\n",
       "      <th>91</th>\n",
       "      <td>Metropolitana</td>\n",
       "      <td>13</td>\n",
       "      <td>El Monte</td>\n",
       "      <td>13602</td>\n",
       "      <td>40014.0</td>\n",
       "      <td>29.0</td>\n",
       "    </tr>\n",
       "    <tr>\n",
       "      <th>92</th>\n",
       "      <td>Metropolitana</td>\n",
       "      <td>13</td>\n",
       "      <td>Estacion Central</td>\n",
       "      <td>13106</td>\n",
       "      <td>206792.0</td>\n",
       "      <td>679.0</td>\n",
       "    </tr>\n",
       "    <tr>\n",
       "      <th>93</th>\n",
       "      <td>Metropolitana</td>\n",
       "      <td>13</td>\n",
       "      <td>Huechuraba</td>\n",
       "      <td>13107</td>\n",
       "      <td>112528.0</td>\n",
       "      <td>263.0</td>\n",
       "    </tr>\n",
       "    <tr>\n",
       "      <th>94</th>\n",
       "      <td>Metropolitana</td>\n",
       "      <td>13</td>\n",
       "      <td>Independencia</td>\n",
       "      <td>13108</td>\n",
       "      <td>142065.0</td>\n",
       "      <td>992.0</td>\n",
       "    </tr>\n",
       "    <tr>\n",
       "      <th>95</th>\n",
       "      <td>Metropolitana</td>\n",
       "      <td>13</td>\n",
       "      <td>Isla de Maipo</td>\n",
       "      <td>13603</td>\n",
       "      <td>40171.0</td>\n",
       "      <td>20.0</td>\n",
       "    </tr>\n",
       "    <tr>\n",
       "      <th>96</th>\n",
       "      <td>Metropolitana</td>\n",
       "      <td>13</td>\n",
       "      <td>La Cisterna</td>\n",
       "      <td>13109</td>\n",
       "      <td>100434.0</td>\n",
       "      <td>251.0</td>\n",
       "    </tr>\n",
       "    <tr>\n",
       "      <th>97</th>\n",
       "      <td>Metropolitana</td>\n",
       "      <td>13</td>\n",
       "      <td>La Florida</td>\n",
       "      <td>13110</td>\n",
       "      <td>402433.0</td>\n",
       "      <td>1071.0</td>\n",
       "    </tr>\n",
       "    <tr>\n",
       "      <th>98</th>\n",
       "      <td>Metropolitana</td>\n",
       "      <td>13</td>\n",
       "      <td>La Granja</td>\n",
       "      <td>13111</td>\n",
       "      <td>122557.0</td>\n",
       "      <td>348.0</td>\n",
       "    </tr>\n",
       "    <tr>\n",
       "      <th>99</th>\n",
       "      <td>Metropolitana</td>\n",
       "      <td>13</td>\n",
       "      <td>La Pintana</td>\n",
       "      <td>13112</td>\n",
       "      <td>189335.0</td>\n",
       "      <td>561.0</td>\n",
       "    </tr>\n",
       "    <tr>\n",
       "      <th>100</th>\n",
       "      <td>Metropolitana</td>\n",
       "      <td>13</td>\n",
       "      <td>La Reina</td>\n",
       "      <td>13113</td>\n",
       "      <td>100252.0</td>\n",
       "      <td>195.0</td>\n",
       "    </tr>\n",
       "    <tr>\n",
       "      <th>101</th>\n",
       "      <td>Metropolitana</td>\n",
       "      <td>13</td>\n",
       "      <td>Lampa</td>\n",
       "      <td>13302</td>\n",
       "      <td>126898.0</td>\n",
       "      <td>197.0</td>\n",
       "    </tr>\n",
       "    <tr>\n",
       "      <th>102</th>\n",
       "      <td>Metropolitana</td>\n",
       "      <td>13</td>\n",
       "      <td>Las Condes</td>\n",
       "      <td>13114</td>\n",
       "      <td>330759.0</td>\n",
       "      <td>738.0</td>\n",
       "    </tr>\n",
       "    <tr>\n",
       "      <th>103</th>\n",
       "      <td>Metropolitana</td>\n",
       "      <td>13</td>\n",
       "      <td>Lo Barnechea</td>\n",
       "      <td>13115</td>\n",
       "      <td>124076.0</td>\n",
       "      <td>422.0</td>\n",
       "    </tr>\n",
       "    <tr>\n",
       "      <th>104</th>\n",
       "      <td>Metropolitana</td>\n",
       "      <td>13</td>\n",
       "      <td>Lo Espejo</td>\n",
       "      <td>13116</td>\n",
       "      <td>103865.0</td>\n",
       "      <td>258.0</td>\n",
       "    </tr>\n",
       "    <tr>\n",
       "      <th>105</th>\n",
       "      <td>Metropolitana</td>\n",
       "      <td>13</td>\n",
       "      <td>Lo Prado</td>\n",
       "      <td>13117</td>\n",
       "      <td>104403.0</td>\n",
       "      <td>329.0</td>\n",
       "    </tr>\n",
       "    <tr>\n",
       "      <th>106</th>\n",
       "      <td>Metropolitana</td>\n",
       "      <td>13</td>\n",
       "      <td>Macul</td>\n",
       "      <td>13118</td>\n",
       "      <td>134635.0</td>\n",
       "      <td>336.0</td>\n",
       "    </tr>\n",
       "    <tr>\n",
       "      <th>107</th>\n",
       "      <td>Metropolitana</td>\n",
       "      <td>13</td>\n",
       "      <td>Maipu</td>\n",
       "      <td>13119</td>\n",
       "      <td>578605.0</td>\n",
       "      <td>844.0</td>\n",
       "    </tr>\n",
       "    <tr>\n",
       "      <th>108</th>\n",
       "      <td>Metropolitana</td>\n",
       "      <td>13</td>\n",
       "      <td>Maria Pinto</td>\n",
       "      <td>13504</td>\n",
       "      <td>14926.0</td>\n",
       "      <td>3.0</td>\n",
       "    </tr>\n",
       "    <tr>\n",
       "      <th>109</th>\n",
       "      <td>Metropolitana</td>\n",
       "      <td>13</td>\n",
       "      <td>Melipilla</td>\n",
       "      <td>13501</td>\n",
       "      <td>141612.0</td>\n",
       "      <td>136.0</td>\n",
       "    </tr>\n",
       "    <tr>\n",
       "      <th>110</th>\n",
       "      <td>Metropolitana</td>\n",
       "      <td>13</td>\n",
       "      <td>Nunoa</td>\n",
       "      <td>13120</td>\n",
       "      <td>250192.0</td>\n",
       "      <td>480.0</td>\n",
       "    </tr>\n",
       "    <tr>\n",
       "      <th>111</th>\n",
       "      <td>Metropolitana</td>\n",
       "      <td>13</td>\n",
       "      <td>Padre Hurtado</td>\n",
       "      <td>13604</td>\n",
       "      <td>74188.0</td>\n",
       "      <td>96.0</td>\n",
       "    </tr>\n",
       "    <tr>\n",
       "      <th>112</th>\n",
       "      <td>Metropolitana</td>\n",
       "      <td>13</td>\n",
       "      <td>Paine</td>\n",
       "      <td>13404</td>\n",
       "      <td>82766.0</td>\n",
       "      <td>56.0</td>\n",
       "    </tr>\n",
       "    <tr>\n",
       "      <th>113</th>\n",
       "      <td>Metropolitana</td>\n",
       "      <td>13</td>\n",
       "      <td>Pedro Aguirre Cerda</td>\n",
       "      <td>13121</td>\n",
       "      <td>107803.0</td>\n",
       "      <td>349.0</td>\n",
       "    </tr>\n",
       "    <tr>\n",
       "      <th>114</th>\n",
       "      <td>Metropolitana</td>\n",
       "      <td>13</td>\n",
       "      <td>Penaflor</td>\n",
       "      <td>13605</td>\n",
       "      <td>101058.0</td>\n",
       "      <td>102.0</td>\n",
       "    </tr>\n",
       "    <tr>\n",
       "      <th>115</th>\n",
       "      <td>Metropolitana</td>\n",
       "      <td>13</td>\n",
       "      <td>Penalolen</td>\n",
       "      <td>13122</td>\n",
       "      <td>266798.0</td>\n",
       "      <td>779.0</td>\n",
       "    </tr>\n",
       "    <tr>\n",
       "      <th>116</th>\n",
       "      <td>Metropolitana</td>\n",
       "      <td>13</td>\n",
       "      <td>Pirque</td>\n",
       "      <td>13202</td>\n",
       "      <td>30433.0</td>\n",
       "      <td>58.0</td>\n",
       "    </tr>\n",
       "    <tr>\n",
       "      <th>117</th>\n",
       "      <td>Metropolitana</td>\n",
       "      <td>13</td>\n",
       "      <td>Providencia</td>\n",
       "      <td>13123</td>\n",
       "      <td>157749.0</td>\n",
       "      <td>372.0</td>\n",
       "    </tr>\n",
       "    <tr>\n",
       "      <th>118</th>\n",
       "      <td>Metropolitana</td>\n",
       "      <td>13</td>\n",
       "      <td>Pudahuel</td>\n",
       "      <td>13124</td>\n",
       "      <td>253139.0</td>\n",
       "      <td>491.0</td>\n",
       "    </tr>\n",
       "    <tr>\n",
       "      <th>119</th>\n",
       "      <td>Metropolitana</td>\n",
       "      <td>13</td>\n",
       "      <td>Puente Alto</td>\n",
       "      <td>13201</td>\n",
       "      <td>645909.0</td>\n",
       "      <td>1658.0</td>\n",
       "    </tr>\n",
       "    <tr>\n",
       "      <th>120</th>\n",
       "      <td>Metropolitana</td>\n",
       "      <td>13</td>\n",
       "      <td>Quilicura</td>\n",
       "      <td>13125</td>\n",
       "      <td>254694.0</td>\n",
       "      <td>826.0</td>\n",
       "    </tr>\n",
       "    <tr>\n",
       "      <th>121</th>\n",
       "      <td>Metropolitana</td>\n",
       "      <td>13</td>\n",
       "      <td>Quinta Normal</td>\n",
       "      <td>13126</td>\n",
       "      <td>136368.0</td>\n",
       "      <td>459.0</td>\n",
       "    </tr>\n",
       "    <tr>\n",
       "      <th>122</th>\n",
       "      <td>Metropolitana</td>\n",
       "      <td>13</td>\n",
       "      <td>Recoleta</td>\n",
       "      <td>13127</td>\n",
       "      <td>190075.0</td>\n",
       "      <td>1028.0</td>\n",
       "    </tr>\n",
       "    <tr>\n",
       "      <th>123</th>\n",
       "      <td>Metropolitana</td>\n",
       "      <td>13</td>\n",
       "      <td>Renca</td>\n",
       "      <td>13128</td>\n",
       "      <td>160847.0</td>\n",
       "      <td>418.0</td>\n",
       "    </tr>\n",
       "    <tr>\n",
       "      <th>124</th>\n",
       "      <td>Metropolitana</td>\n",
       "      <td>13</td>\n",
       "      <td>San Bernardo</td>\n",
       "      <td>13401</td>\n",
       "      <td>334836.0</td>\n",
       "      <td>773.0</td>\n",
       "    </tr>\n",
       "    <tr>\n",
       "      <th>125</th>\n",
       "      <td>Metropolitana</td>\n",
       "      <td>13</td>\n",
       "      <td>San Joaquin</td>\n",
       "      <td>13129</td>\n",
       "      <td>103485.0</td>\n",
       "      <td>475.0</td>\n",
       "    </tr>\n",
       "    <tr>\n",
       "      <th>126</th>\n",
       "      <td>Metropolitana</td>\n",
       "      <td>13</td>\n",
       "      <td>San Jose de Maipo</td>\n",
       "      <td>13203</td>\n",
       "      <td>18644.0</td>\n",
       "      <td>42.0</td>\n",
       "    </tr>\n",
       "    <tr>\n",
       "      <th>127</th>\n",
       "      <td>Metropolitana</td>\n",
       "      <td>13</td>\n",
       "      <td>San Miguel</td>\n",
       "      <td>13130</td>\n",
       "      <td>133059.0</td>\n",
       "      <td>405.0</td>\n",
       "    </tr>\n",
       "    <tr>\n",
       "      <th>128</th>\n",
       "      <td>Metropolitana</td>\n",
       "      <td>13</td>\n",
       "      <td>San Pedro</td>\n",
       "      <td>13505</td>\n",
       "      <td>11953.0</td>\n",
       "      <td>15.0</td>\n",
       "    </tr>\n",
       "    <tr>\n",
       "      <th>129</th>\n",
       "      <td>Metropolitana</td>\n",
       "      <td>13</td>\n",
       "      <td>San Ramon</td>\n",
       "      <td>13131</td>\n",
       "      <td>86510.0</td>\n",
       "      <td>381.0</td>\n",
       "    </tr>\n",
       "    <tr>\n",
       "      <th>130</th>\n",
       "      <td>Metropolitana</td>\n",
       "      <td>13</td>\n",
       "      <td>Santiago</td>\n",
       "      <td>13101</td>\n",
       "      <td>503147.0</td>\n",
       "      <td>1873.0</td>\n",
       "    </tr>\n",
       "    <tr>\n",
       "      <th>131</th>\n",
       "      <td>Metropolitana</td>\n",
       "      <td>13</td>\n",
       "      <td>Talagante</td>\n",
       "      <td>13601</td>\n",
       "      <td>81838.0</td>\n",
       "      <td>68.0</td>\n",
       "    </tr>\n",
       "    <tr>\n",
       "      <th>132</th>\n",
       "      <td>Metropolitana</td>\n",
       "      <td>13</td>\n",
       "      <td>Tiltil</td>\n",
       "      <td>13303</td>\n",
       "      <td>21477.0</td>\n",
       "      <td>13.0</td>\n",
       "    </tr>\n",
       "    <tr>\n",
       "      <th>133</th>\n",
       "      <td>Metropolitana</td>\n",
       "      <td>13</td>\n",
       "      <td>Vitacura</td>\n",
       "      <td>13132</td>\n",
       "      <td>96774.0</td>\n",
       "      <td>251.0</td>\n",
       "    </tr>\n",
       "  </tbody>\n",
       "</table>\n",
       "</div>"
      ],
      "text/plain": [
       "            Region  Codigo region               Comuna  Codigo comuna  \\\n",
       "82   Metropolitana             13                Alhue          13502   \n",
       "83   Metropolitana             13                 Buin          13402   \n",
       "84   Metropolitana             13      Calera de Tango          13403   \n",
       "85   Metropolitana             13            Cerrillos          13102   \n",
       "86   Metropolitana             13          Cerro Navia          13103   \n",
       "87   Metropolitana             13               Colina          13301   \n",
       "88   Metropolitana             13             Conchali          13104   \n",
       "89   Metropolitana             13             Curacavi          13503   \n",
       "90   Metropolitana             13            El Bosque          13105   \n",
       "91   Metropolitana             13             El Monte          13602   \n",
       "92   Metropolitana             13     Estacion Central          13106   \n",
       "93   Metropolitana             13           Huechuraba          13107   \n",
       "94   Metropolitana             13        Independencia          13108   \n",
       "95   Metropolitana             13        Isla de Maipo          13603   \n",
       "96   Metropolitana             13          La Cisterna          13109   \n",
       "97   Metropolitana             13           La Florida          13110   \n",
       "98   Metropolitana             13            La Granja          13111   \n",
       "99   Metropolitana             13           La Pintana          13112   \n",
       "100  Metropolitana             13             La Reina          13113   \n",
       "101  Metropolitana             13                Lampa          13302   \n",
       "102  Metropolitana             13           Las Condes          13114   \n",
       "103  Metropolitana             13         Lo Barnechea          13115   \n",
       "104  Metropolitana             13            Lo Espejo          13116   \n",
       "105  Metropolitana             13             Lo Prado          13117   \n",
       "106  Metropolitana             13                Macul          13118   \n",
       "107  Metropolitana             13                Maipu          13119   \n",
       "108  Metropolitana             13          Maria Pinto          13504   \n",
       "109  Metropolitana             13            Melipilla          13501   \n",
       "110  Metropolitana             13                Nunoa          13120   \n",
       "111  Metropolitana             13        Padre Hurtado          13604   \n",
       "112  Metropolitana             13                Paine          13404   \n",
       "113  Metropolitana             13  Pedro Aguirre Cerda          13121   \n",
       "114  Metropolitana             13             Penaflor          13605   \n",
       "115  Metropolitana             13            Penalolen          13122   \n",
       "116  Metropolitana             13               Pirque          13202   \n",
       "117  Metropolitana             13          Providencia          13123   \n",
       "118  Metropolitana             13             Pudahuel          13124   \n",
       "119  Metropolitana             13          Puente Alto          13201   \n",
       "120  Metropolitana             13            Quilicura          13125   \n",
       "121  Metropolitana             13        Quinta Normal          13126   \n",
       "122  Metropolitana             13             Recoleta          13127   \n",
       "123  Metropolitana             13                Renca          13128   \n",
       "124  Metropolitana             13         San Bernardo          13401   \n",
       "125  Metropolitana             13          San Joaquin          13129   \n",
       "126  Metropolitana             13    San Jose de Maipo          13203   \n",
       "127  Metropolitana             13           San Miguel          13130   \n",
       "128  Metropolitana             13            San Pedro          13505   \n",
       "129  Metropolitana             13            San Ramon          13131   \n",
       "130  Metropolitana             13             Santiago          13101   \n",
       "131  Metropolitana             13            Talagante          13601   \n",
       "132  Metropolitana             13               Tiltil          13303   \n",
       "133  Metropolitana             13             Vitacura          13132   \n",
       "\n",
       "     Poblacion  Casos Confirmados  \n",
       "82      7405.0                0.0  \n",
       "83    109641.0              152.0  \n",
       "84     28525.0               23.0  \n",
       "85     88956.0              329.0  \n",
       "86    142465.0              387.0  \n",
       "87    180353.0              289.0  \n",
       "88    139195.0              470.0  \n",
       "89     36430.0               35.0  \n",
       "90    172000.0              439.0  \n",
       "91     40014.0               29.0  \n",
       "92    206792.0              679.0  \n",
       "93    112528.0              263.0  \n",
       "94    142065.0              992.0  \n",
       "95     40171.0               20.0  \n",
       "96    100434.0              251.0  \n",
       "97    402433.0             1071.0  \n",
       "98    122557.0              348.0  \n",
       "99    189335.0              561.0  \n",
       "100   100252.0              195.0  \n",
       "101   126898.0              197.0  \n",
       "102   330759.0              738.0  \n",
       "103   124076.0              422.0  \n",
       "104   103865.0              258.0  \n",
       "105   104403.0              329.0  \n",
       "106   134635.0              336.0  \n",
       "107   578605.0              844.0  \n",
       "108    14926.0                3.0  \n",
       "109   141612.0              136.0  \n",
       "110   250192.0              480.0  \n",
       "111    74188.0               96.0  \n",
       "112    82766.0               56.0  \n",
       "113   107803.0              349.0  \n",
       "114   101058.0              102.0  \n",
       "115   266798.0              779.0  \n",
       "116    30433.0               58.0  \n",
       "117   157749.0              372.0  \n",
       "118   253139.0              491.0  \n",
       "119   645909.0             1658.0  \n",
       "120   254694.0              826.0  \n",
       "121   136368.0              459.0  \n",
       "122   190075.0             1028.0  \n",
       "123   160847.0              418.0  \n",
       "124   334836.0              773.0  \n",
       "125   103485.0              475.0  \n",
       "126    18644.0               42.0  \n",
       "127   133059.0              405.0  \n",
       "128    11953.0               15.0  \n",
       "129    86510.0              381.0  \n",
       "130   503147.0             1873.0  \n",
       "131    81838.0               68.0  \n",
       "132    21477.0               13.0  \n",
       "133    96774.0              251.0  "
      ]
     },
     "execution_count": 57,
     "metadata": {},
     "output_type": "execute_result"
    }
   ],
   "source": [
    "df_met=df[df['Region'] == \"Metropolitana\"]\n",
    "df_met"
   ]
  },
  {
   "cell_type": "markdown",
   "metadata": {
    "colab_type": "text",
    "id": "hOzTRMHwMWrF",
    "slideshow": {
     "slide_type": "subslide"
    }
   },
   "source": [
    "## Ordenar"
   ]
  },
  {
   "cell_type": "code",
   "execution_count": 58,
   "metadata": {
    "colab": {
     "autoexec": {
      "startup": false,
      "wait_interval": 0
     },
     "base_uri": "https://localhost:8080/",
     "height": 204,
     "output_extras": [
      {
       "item_id": 1
      }
     ]
    },
    "colab_type": "code",
    "executionInfo": {
     "elapsed": 618,
     "status": "ok",
     "timestamp": 1522955215101,
     "user": {
      "displayName": "Diego Felipe Caro Alarcon",
      "photoUrl": "//lh5.googleusercontent.com/-K5lRoBE-ong/AAAAAAAAAAI/AAAAAAAAAA8/t6gy1bbvins/s50-c-k-no/photo.jpg",
      "userId": "108760031624692046565"
     },
     "user_tz": 180
    },
    "id": "asRATlNlMWrH",
    "outputId": "f76322e7-da68-4471-e607-7851f83ef2fc"
   },
   "outputs": [
    {
     "data": {
      "text/html": [
       "<div>\n",
       "<style scoped>\n",
       "    .dataframe tbody tr th:only-of-type {\n",
       "        vertical-align: middle;\n",
       "    }\n",
       "\n",
       "    .dataframe tbody tr th {\n",
       "        vertical-align: top;\n",
       "    }\n",
       "\n",
       "    .dataframe thead th {\n",
       "        text-align: right;\n",
       "    }\n",
       "</style>\n",
       "<table border=\"1\" class=\"dataframe\">\n",
       "  <thead>\n",
       "    <tr style=\"text-align: right;\">\n",
       "      <th></th>\n",
       "      <th>Region</th>\n",
       "      <th>Codigo region</th>\n",
       "      <th>Comuna</th>\n",
       "      <th>Codigo comuna</th>\n",
       "      <th>Poblacion</th>\n",
       "      <th>Casos Confirmados</th>\n",
       "    </tr>\n",
       "  </thead>\n",
       "  <tbody>\n",
       "    <tr>\n",
       "      <th>130</th>\n",
       "      <td>Metropolitana</td>\n",
       "      <td>13</td>\n",
       "      <td>Santiago</td>\n",
       "      <td>13101</td>\n",
       "      <td>503147.0</td>\n",
       "      <td>1873.0</td>\n",
       "    </tr>\n",
       "    <tr>\n",
       "      <th>119</th>\n",
       "      <td>Metropolitana</td>\n",
       "      <td>13</td>\n",
       "      <td>Puente Alto</td>\n",
       "      <td>13201</td>\n",
       "      <td>645909.0</td>\n",
       "      <td>1658.0</td>\n",
       "    </tr>\n",
       "    <tr>\n",
       "      <th>97</th>\n",
       "      <td>Metropolitana</td>\n",
       "      <td>13</td>\n",
       "      <td>La Florida</td>\n",
       "      <td>13110</td>\n",
       "      <td>402433.0</td>\n",
       "      <td>1071.0</td>\n",
       "    </tr>\n",
       "    <tr>\n",
       "      <th>122</th>\n",
       "      <td>Metropolitana</td>\n",
       "      <td>13</td>\n",
       "      <td>Recoleta</td>\n",
       "      <td>13127</td>\n",
       "      <td>190075.0</td>\n",
       "      <td>1028.0</td>\n",
       "    </tr>\n",
       "    <tr>\n",
       "      <th>94</th>\n",
       "      <td>Metropolitana</td>\n",
       "      <td>13</td>\n",
       "      <td>Independencia</td>\n",
       "      <td>13108</td>\n",
       "      <td>142065.0</td>\n",
       "      <td>992.0</td>\n",
       "    </tr>\n",
       "  </tbody>\n",
       "</table>\n",
       "</div>"
      ],
      "text/plain": [
       "            Region  Codigo region         Comuna  Codigo comuna  Poblacion  \\\n",
       "130  Metropolitana             13       Santiago          13101   503147.0   \n",
       "119  Metropolitana             13    Puente Alto          13201   645909.0   \n",
       "97   Metropolitana             13     La Florida          13110   402433.0   \n",
       "122  Metropolitana             13       Recoleta          13127   190075.0   \n",
       "94   Metropolitana             13  Independencia          13108   142065.0   \n",
       "\n",
       "     Casos Confirmados  \n",
       "130             1873.0  \n",
       "119             1658.0  \n",
       "97              1071.0  \n",
       "122             1028.0  \n",
       "94               992.0  "
      ]
     },
     "execution_count": 58,
     "metadata": {},
     "output_type": "execute_result"
    }
   ],
   "source": [
    "df_sorted = df_met.sort_values('Casos Confirmados',ascending=False) # o puede ser ascending=True\n",
    "df_sorted.head(5)"
   ]
  },
  {
   "cell_type": "markdown",
   "metadata": {
    "colab_type": "text",
    "id": "_IXw78sNMWrK"
   },
   "source": [
    "## Contar"
   ]
  },
  {
   "cell_type": "markdown",
   "metadata": {},
   "source": [
    "¿Cuántas comunas hay por Region"
   ]
  },
  {
   "cell_type": "code",
   "execution_count": 59,
   "metadata": {
    "colab": {
     "autoexec": {
      "startup": false,
      "wait_interval": 0
     },
     "base_uri": "https://localhost:8080/",
     "height": 1071,
     "output_extras": [
      {
       "item_id": 1
      }
     ]
    },
    "colab_type": "code",
    "executionInfo": {
     "elapsed": 597,
     "status": "ok",
     "timestamp": 1522955293439,
     "user": {
      "displayName": "Diego Felipe Caro Alarcon",
      "photoUrl": "//lh5.googleusercontent.com/-K5lRoBE-ong/AAAAAAAAAAI/AAAAAAAAAA8/t6gy1bbvins/s50-c-k-no/photo.jpg",
      "userId": "108760031624692046565"
     },
     "user_tz": 180
    },
    "id": "TH5SAkoEMWrK",
    "outputId": "b2cef676-c93b-4da0-f5ed-fae4879fae38"
   },
   "outputs": [
    {
     "data": {
      "text/plain": [
       "Metropolitana         52\n",
       "Valparaíso            38\n",
       "O’Higgins             33\n",
       "Biobío                33\n",
       "Araucanía             32\n",
       "Maule                 30\n",
       "Los Lagos             30\n",
       "Ñuble                 21\n",
       "Coquimbo              15\n",
       "Los Ríos              12\n",
       "Magallanes            11\n",
       "Aysén                 10\n",
       "Atacama                9\n",
       "Antofagasta            9\n",
       "Tarapacá               7\n",
       "Arica y Parinacota     4\n",
       "Name: Region, dtype: int64"
      ]
     },
     "execution_count": 59,
     "metadata": {},
     "output_type": "execute_result"
    }
   ],
   "source": [
    "df['Region'].value_counts() #retorna el numero de filas (comunas) por 'Region'"
   ]
  },
  {
   "cell_type": "markdown",
   "metadata": {
    "colab_type": "text",
    "id": "o86uofN1MWrP",
    "slideshow": {
     "slide_type": "slide"
    }
   },
   "source": [
    "## Visualizar datos"
   ]
  },
  {
   "cell_type": "code",
   "execution_count": 60,
   "metadata": {
    "colab": {
     "autoexec": {
      "startup": false,
      "wait_interval": 0
     }
    },
    "colab_type": "code",
    "id": "R7DXtus2MWrQ",
    "slideshow": {
     "slide_type": "skip"
    }
   },
   "outputs": [],
   "source": [
    "%matplotlib inline\n",
    "import matplotlib.pyplot as plt"
   ]
  },
  {
   "cell_type": "code",
   "execution_count": 61,
   "metadata": {
    "colab": {
     "autoexec": {
      "startup": false,
      "wait_interval": 0
     },
     "base_uri": "https://localhost:8080/",
     "height": 119,
     "output_extras": [
      {
       "item_id": 1
      }
     ]
    },
    "colab_type": "code",
    "executionInfo": {
     "elapsed": 584,
     "status": "ok",
     "timestamp": 1522955528640,
     "user": {
      "displayName": "Diego Felipe Caro Alarcon",
      "photoUrl": "//lh5.googleusercontent.com/-K5lRoBE-ong/AAAAAAAAAAI/AAAAAAAAAA8/t6gy1bbvins/s50-c-k-no/photo.jpg",
      "userId": "108760031624692046565"
     },
     "user_tz": 180
    },
    "id": "AQ-Zi_FsfWw9",
    "outputId": "2e7bd541-b281-49f6-e145-851bb2feda69"
   },
   "outputs": [
    {
     "data": {
      "text/plain": [
       "Metropolitana    52\n",
       "Valparaíso       38\n",
       "O’Higgins        33\n",
       "Biobío           33\n",
       "Araucanía        32\n",
       "Name: Region, dtype: int64"
      ]
     },
     "execution_count": 61,
     "metadata": {},
     "output_type": "execute_result"
    }
   ],
   "source": [
    "comunas_count = df['Region'].value_counts()\n",
    "\n",
    "comunas_count.head()"
   ]
  },
  {
   "cell_type": "code",
   "execution_count": 62,
   "metadata": {
    "colab": {
     "autoexec": {
      "startup": false,
      "wait_interval": 0
     },
     "base_uri": "https://localhost:8080/",
     "height": 278,
     "output_extras": [
      {
       "item_id": 1
      }
     ]
    },
    "colab_type": "code",
    "executionInfo": {
     "elapsed": 924,
     "status": "ok",
     "timestamp": 1522955546267,
     "user": {
      "displayName": "Diego Felipe Caro Alarcon",
      "photoUrl": "//lh5.googleusercontent.com/-K5lRoBE-ong/AAAAAAAAAAI/AAAAAAAAAA8/t6gy1bbvins/s50-c-k-no/photo.jpg",
      "userId": "108760031624692046565"
     },
     "user_tz": 180
    },
    "id": "pRn_-TzyMWrS",
    "outputId": "cd5bb351-8865-4d41-b758-2576132270a3"
   },
   "outputs": [
    {
     "data": {
      "image/png": "[encoded data removed]",
      "text/plain": [
       "<Figure size 432x288 with 1 Axes>"
      ]
     },
     "metadata": {
      "needs_background": "light"
     },
     "output_type": "display_data"
    }
   ],
   "source": [
    "comunas_count.plot(kind='bar');"
   ]
  },
  {
   "cell_type": "markdown",
   "metadata": {},
   "source": [
    "# Agrupar"
   ]
  },
  {
   "cell_type": "code",
   "execution_count": 63,
   "metadata": {},
   "outputs": [
    {
     "data": {
      "text/html": [
       "<div>\n",
       "<style scoped>\n",
       "    .dataframe tbody tr th:only-of-type {\n",
       "        vertical-align: middle;\n",
       "    }\n",
       "\n",
       "    .dataframe tbody tr th {\n",
       "        vertical-align: top;\n",
       "    }\n",
       "\n",
       "    .dataframe thead th {\n",
       "        text-align: right;\n",
       "    }\n",
       "</style>\n",
       "<table border=\"1\" class=\"dataframe\">\n",
       "  <thead>\n",
       "    <tr style=\"text-align: right;\">\n",
       "      <th></th>\n",
       "      <th>Region</th>\n",
       "      <th>Casos Confirmados</th>\n",
       "    </tr>\n",
       "  </thead>\n",
       "  <tbody>\n",
       "    <tr>\n",
       "      <th>0</th>\n",
       "      <td>Arica y Parinacota</td>\n",
       "      <td>353.0</td>\n",
       "    </tr>\n",
       "    <tr>\n",
       "      <th>1</th>\n",
       "      <td>Arica y Parinacota</td>\n",
       "      <td>0.0</td>\n",
       "    </tr>\n",
       "    <tr>\n",
       "      <th>2</th>\n",
       "      <td>Arica y Parinacota</td>\n",
       "      <td>0.0</td>\n",
       "    </tr>\n",
       "    <tr>\n",
       "      <th>3</th>\n",
       "      <td>Arica y Parinacota</td>\n",
       "      <td>0.0</td>\n",
       "    </tr>\n",
       "    <tr>\n",
       "      <th>4</th>\n",
       "      <td>Tarapacá</td>\n",
       "      <td>188.0</td>\n",
       "    </tr>\n",
       "    <tr>\n",
       "      <th>...</th>\n",
       "      <td>...</td>\n",
       "      <td>...</td>\n",
       "    </tr>\n",
       "    <tr>\n",
       "      <th>341</th>\n",
       "      <td>Magallanes</td>\n",
       "      <td>858.0</td>\n",
       "    </tr>\n",
       "    <tr>\n",
       "      <th>342</th>\n",
       "      <td>Magallanes</td>\n",
       "      <td>0.0</td>\n",
       "    </tr>\n",
       "    <tr>\n",
       "      <th>343</th>\n",
       "      <td>Magallanes</td>\n",
       "      <td>1.0</td>\n",
       "    </tr>\n",
       "    <tr>\n",
       "      <th>344</th>\n",
       "      <td>Magallanes</td>\n",
       "      <td>0.0</td>\n",
       "    </tr>\n",
       "    <tr>\n",
       "      <th>345</th>\n",
       "      <td>Magallanes</td>\n",
       "      <td>0.0</td>\n",
       "    </tr>\n",
       "  </tbody>\n",
       "</table>\n",
       "<p>346 rows × 2 columns</p>\n",
       "</div>"
      ],
      "text/plain": [
       "                 Region  Casos Confirmados\n",
       "0    Arica y Parinacota              353.0\n",
       "1    Arica y Parinacota                0.0\n",
       "2    Arica y Parinacota                0.0\n",
       "3    Arica y Parinacota                0.0\n",
       "4              Tarapacá              188.0\n",
       "..                  ...                ...\n",
       "341          Magallanes              858.0\n",
       "342          Magallanes                0.0\n",
       "343          Magallanes                1.0\n",
       "344          Magallanes                0.0\n",
       "345          Magallanes                0.0\n",
       "\n",
       "[346 rows x 2 columns]"
      ]
     },
     "execution_count": 63,
     "metadata": {},
     "output_type": "execute_result"
    }
   ],
   "source": [
    "df[['Region', 'Casos Confirmados']]"
   ]
  },
  {
   "cell_type": "code",
   "execution_count": 64,
   "metadata": {},
   "outputs": [
    {
     "data": {
      "text/html": [
       "<div>\n",
       "<style scoped>\n",
       "    .dataframe tbody tr th:only-of-type {\n",
       "        vertical-align: middle;\n",
       "    }\n",
       "\n",
       "    .dataframe tbody tr th {\n",
       "        vertical-align: top;\n",
       "    }\n",
       "\n",
       "    .dataframe thead th {\n",
       "        text-align: right;\n",
       "    }\n",
       "</style>\n",
       "<table border=\"1\" class=\"dataframe\">\n",
       "  <thead>\n",
       "    <tr style=\"text-align: right;\">\n",
       "      <th></th>\n",
       "      <th>Casos Confirmados</th>\n",
       "    </tr>\n",
       "    <tr>\n",
       "      <th>Region</th>\n",
       "      <th></th>\n",
       "    </tr>\n",
       "  </thead>\n",
       "  <tbody>\n",
       "    <tr>\n",
       "      <th>Antofagasta</th>\n",
       "      <td>1001.0</td>\n",
       "    </tr>\n",
       "    <tr>\n",
       "      <th>Araucanía</th>\n",
       "      <td>1462.0</td>\n",
       "    </tr>\n",
       "    <tr>\n",
       "      <th>Arica y Parinacota</th>\n",
       "      <td>353.0</td>\n",
       "    </tr>\n",
       "    <tr>\n",
       "      <th>Atacama</th>\n",
       "      <td>135.0</td>\n",
       "    </tr>\n",
       "    <tr>\n",
       "      <th>Aysén</th>\n",
       "      <td>5.0</td>\n",
       "    </tr>\n",
       "    <tr>\n",
       "      <th>Biobío</th>\n",
       "      <td>930.0</td>\n",
       "    </tr>\n",
       "    <tr>\n",
       "      <th>Coquimbo</th>\n",
       "      <td>149.0</td>\n",
       "    </tr>\n",
       "    <tr>\n",
       "      <th>Los Lagos</th>\n",
       "      <td>569.0</td>\n",
       "    </tr>\n",
       "    <tr>\n",
       "      <th>Los Ríos</th>\n",
       "      <td>207.0</td>\n",
       "    </tr>\n",
       "    <tr>\n",
       "      <th>Magallanes</th>\n",
       "      <td>898.0</td>\n",
       "    </tr>\n",
       "    <tr>\n",
       "      <th>Maule</th>\n",
       "      <td>468.0</td>\n",
       "    </tr>\n",
       "    <tr>\n",
       "      <th>Metropolitana</th>\n",
       "      <td>21264.0</td>\n",
       "    </tr>\n",
       "    <tr>\n",
       "      <th>O’Higgins</th>\n",
       "      <td>215.0</td>\n",
       "    </tr>\n",
       "    <tr>\n",
       "      <th>Tarapacá</th>\n",
       "      <td>547.0</td>\n",
       "    </tr>\n",
       "    <tr>\n",
       "      <th>Valparaíso</th>\n",
       "      <td>998.0</td>\n",
       "    </tr>\n",
       "    <tr>\n",
       "      <th>Ñuble</th>\n",
       "      <td>824.0</td>\n",
       "    </tr>\n",
       "  </tbody>\n",
       "</table>\n",
       "</div>"
      ],
      "text/plain": [
       "                    Casos Confirmados\n",
       "Region                               \n",
       "Antofagasta                    1001.0\n",
       "Araucanía                      1462.0\n",
       "Arica y Parinacota              353.0\n",
       "Atacama                         135.0\n",
       "Aysén                             5.0\n",
       "Biobío                          930.0\n",
       "Coquimbo                        149.0\n",
       "Los Lagos                       569.0\n",
       "Los Ríos                        207.0\n",
       "Magallanes                      898.0\n",
       "Maule                           468.0\n",
       "Metropolitana                 21264.0\n",
       "O’Higgins                       215.0\n",
       "Tarapacá                        547.0\n",
       "Valparaíso                      998.0\n",
       "Ñuble                           824.0"
      ]
     },
     "execution_count": 64,
     "metadata": {},
     "output_type": "execute_result"
    }
   ],
   "source": [
    "df[['Region', 'Casos Confirmados']].groupby('Region').sum()"
   ]
  },
  {
   "cell_type": "code",
   "execution_count": 65,
   "metadata": {},
   "outputs": [
    {
     "data": {
      "text/html": [
       "<div>\n",
       "<style scoped>\n",
       "    .dataframe tbody tr th:only-of-type {\n",
       "        vertical-align: middle;\n",
       "    }\n",
       "\n",
       "    .dataframe tbody tr th {\n",
       "        vertical-align: top;\n",
       "    }\n",
       "\n",
       "    .dataframe thead th {\n",
       "        text-align: right;\n",
       "    }\n",
       "</style>\n",
       "<table border=\"1\" class=\"dataframe\">\n",
       "  <thead>\n",
       "    <tr style=\"text-align: right;\">\n",
       "      <th></th>\n",
       "      <th>Casos Confirmados</th>\n",
       "    </tr>\n",
       "    <tr>\n",
       "      <th>Region</th>\n",
       "      <th></th>\n",
       "    </tr>\n",
       "  </thead>\n",
       "  <tbody>\n",
       "    <tr>\n",
       "      <th>Antofagasta</th>\n",
       "      <td>1001.0</td>\n",
       "    </tr>\n",
       "    <tr>\n",
       "      <th>Araucanía</th>\n",
       "      <td>1462.0</td>\n",
       "    </tr>\n",
       "    <tr>\n",
       "      <th>Arica y Parinacota</th>\n",
       "      <td>353.0</td>\n",
       "    </tr>\n",
       "    <tr>\n",
       "      <th>Atacama</th>\n",
       "      <td>135.0</td>\n",
       "    </tr>\n",
       "    <tr>\n",
       "      <th>Aysén</th>\n",
       "      <td>5.0</td>\n",
       "    </tr>\n",
       "    <tr>\n",
       "      <th>Biobío</th>\n",
       "      <td>930.0</td>\n",
       "    </tr>\n",
       "    <tr>\n",
       "      <th>Coquimbo</th>\n",
       "      <td>149.0</td>\n",
       "    </tr>\n",
       "    <tr>\n",
       "      <th>Los Lagos</th>\n",
       "      <td>569.0</td>\n",
       "    </tr>\n",
       "    <tr>\n",
       "      <th>Los Ríos</th>\n",
       "      <td>207.0</td>\n",
       "    </tr>\n",
       "    <tr>\n",
       "      <th>Magallanes</th>\n",
       "      <td>898.0</td>\n",
       "    </tr>\n",
       "    <tr>\n",
       "      <th>Maule</th>\n",
       "      <td>468.0</td>\n",
       "    </tr>\n",
       "    <tr>\n",
       "      <th>Metropolitana</th>\n",
       "      <td>21264.0</td>\n",
       "    </tr>\n",
       "    <tr>\n",
       "      <th>O’Higgins</th>\n",
       "      <td>215.0</td>\n",
       "    </tr>\n",
       "    <tr>\n",
       "      <th>Tarapacá</th>\n",
       "      <td>547.0</td>\n",
       "    </tr>\n",
       "    <tr>\n",
       "      <th>Valparaíso</th>\n",
       "      <td>998.0</td>\n",
       "    </tr>\n",
       "    <tr>\n",
       "      <th>Ñuble</th>\n",
       "      <td>824.0</td>\n",
       "    </tr>\n",
       "  </tbody>\n",
       "</table>\n",
       "</div>"
      ],
      "text/plain": [
       "                    Casos Confirmados\n",
       "Region                               \n",
       "Antofagasta                    1001.0\n",
       "Araucanía                      1462.0\n",
       "Arica y Parinacota              353.0\n",
       "Atacama                         135.0\n",
       "Aysén                             5.0\n",
       "Biobío                          930.0\n",
       "Coquimbo                        149.0\n",
       "Los Lagos                       569.0\n",
       "Los Ríos                        207.0\n",
       "Magallanes                      898.0\n",
       "Maule                           468.0\n",
       "Metropolitana                 21264.0\n",
       "O’Higgins                       215.0\n",
       "Tarapacá                        547.0\n",
       "Valparaíso                      998.0\n",
       "Ñuble                           824.0"
      ]
     },
     "execution_count": 65,
     "metadata": {},
     "output_type": "execute_result"
    }
   ],
   "source": [
    "df_sum=df[['Region', 'Casos Confirmados']].groupby('Region').sum()\n",
    "df_sum"
   ]
  },
  {
   "cell_type": "code",
   "execution_count": 66,
   "metadata": {},
   "outputs": [
    {
     "data": {
      "text/plain": [
       "<matplotlib.axes._subplots.AxesSubplot at 0x7fcaf3548250>"
      ]
     },
     "execution_count": 66,
     "metadata": {},
     "output_type": "execute_result"
    },
    {
     "data": {
      "image/png": "[encoded data removed]",
      "text/plain": [
       "<Figure size 432x288 with 1 Axes>"
      ]
     },
     "metadata": {
      "needs_background": "light"
     },
     "output_type": "display_data"
    }
   ],
   "source": [
    "df_sum.plot(kind='bar')"
   ]
  },
  {
   "cell_type": "markdown",
   "metadata": {
    "colab_type": "text",
    "id": "8f_gh3OPMWox",
    "slideshow": {
     "slide_type": "slide"
    }
   },
   "source": [
    "# Extra\n",
    "## Series\n",
    "\n",
    "* Una serie es una colección de valores."
   ]
  },
  {
   "cell_type": "code",
   "execution_count": 67,
   "metadata": {
    "colab": {
     "autoexec": {
      "startup": false,
      "wait_interval": 0
     },
     "output_extras": [
      {}
     ]
    },
    "colab_type": "code",
    "id": "iPBmNQAaMWoz",
    "outputId": "a8428504-f270-401b-adbc-ecae9bb2b86a"
   },
   "outputs": [
    {
     "data": {
      "text/plain": [
       "0      Santiago\n",
       "1    Concepción\n",
       "2    Valparaíso\n",
       "dtype: object"
      ]
     },
     "execution_count": 67,
     "metadata": {},
     "output_type": "execute_result"
    }
   ],
   "source": [
    "pd.Series(['Santiago', 'Concepción', 'Valparaíso'])"
   ]
  },
  {
   "cell_type": "markdown",
   "metadata": {
    "colab_type": "text",
    "id": "f7zqtcBSMWo5",
    "slideshow": {
     "slide_type": "subslide"
    }
   },
   "source": [
    "* Están compuestos por un índice y valores"
   ]
  },
  {
   "cell_type": "code",
   "execution_count": 68,
   "metadata": {
    "colab": {
     "autoexec": {
      "startup": false,
      "wait_interval": 0
     },
     "output_extras": [
      {}
     ]
    },
    "colab_type": "code",
    "id": "u048_R-5MWo5",
    "outputId": "e0abe878-172e-4c9d-fb1a-8fa6e3af541f"
   },
   "outputs": [
    {
     "data": {
      "text/plain": [
       "0    0.25\n",
       "1    0.50\n",
       "2    0.75\n",
       "3    1.00\n",
       "dtype: float64"
      ]
     },
     "execution_count": 68,
     "metadata": {},
     "output_type": "execute_result"
    }
   ],
   "source": [
    "s = pd.Series([0.25, 0.5, 0.75, 1.0])\n",
    "s"
   ]
  },
  {
   "cell_type": "code",
   "execution_count": 69,
   "metadata": {
    "colab": {
     "autoexec": {
      "startup": false,
      "wait_interval": 0
     },
     "output_extras": [
      {}
     ]
    },
    "colab_type": "code",
    "id": "4sTte3mVMWo9",
    "outputId": "1837ac21-76d0-4a3b-c0ae-11441ca23b64"
   },
   "outputs": [
    {
     "data": {
      "text/plain": [
       "RangeIndex(start=0, stop=4, step=1)"
      ]
     },
     "execution_count": 69,
     "metadata": {},
     "output_type": "execute_result"
    }
   ],
   "source": [
    "s.index"
   ]
  },
  {
   "cell_type": "code",
   "execution_count": 70,
   "metadata": {
    "colab": {
     "autoexec": {
      "startup": false,
      "wait_interval": 0
     },
     "output_extras": [
      {}
     ]
    },
    "colab_type": "code",
    "id": "8qjyEtUtMWpA",
    "outputId": "864cda9c-9ce6-4522-f85e-372d69c9e07e"
   },
   "outputs": [
    {
     "data": {
      "text/plain": [
       "array([0.25, 0.5 , 0.75, 1.  ])"
      ]
     },
     "execution_count": 70,
     "metadata": {},
     "output_type": "execute_result"
    }
   ],
   "source": [
    "s.values"
   ]
  },
  {
   "cell_type": "markdown",
   "metadata": {
    "colab_type": "text",
    "id": "tRFkItAbMWpE",
    "slideshow": {
     "slide_type": "slide"
    }
   },
   "source": [
    "# Operaciones sobre Series\n",
    "\n",
    "* Operaciones aritméticas a cada elemento de la serie (como un vector de matlab)\n",
    "    * Suma, resta, división, etc... \n",
    "    * Más info en https://pandas.pydata.org/pandas-docs/stable/dsintro.html"
   ]
  },
  {
   "cell_type": "code",
   "execution_count": 71,
   "metadata": {
    "colab": {
     "autoexec": {
      "startup": false,
      "wait_interval": 0
     },
     "output_extras": [
      {}
     ]
    },
    "colab_type": "code",
    "id": "R_kSf9jZMWpF",
    "outputId": "a3e95911-a2e1-4896-ff33-a05400eca147"
   },
   "outputs": [
    {
     "data": {
      "text/plain": [
       "0    50.25\n",
       "1    50.50\n",
       "2    50.75\n",
       "3    51.00\n",
       "dtype: float64"
      ]
     },
     "execution_count": 71,
     "metadata": {},
     "output_type": "execute_result"
    }
   ],
   "source": [
    "s + 50 # suma 50 a cada valor de la serie"
   ]
  },
  {
   "cell_type": "code",
   "execution_count": 72,
   "metadata": {
    "colab": {
     "autoexec": {
      "startup": false,
      "wait_interval": 0
     },
     "output_extras": [
      {}
     ]
    },
    "colab_type": "code",
    "id": "Np-TP2p9MWpK",
    "outputId": "2a073f84-3f15-46d3-f83b-515e31fc1731"
   },
   "outputs": [
    {
     "data": {
      "text/plain": [
       "0    0.7854\n",
       "1    1.5708\n",
       "2    2.3562\n",
       "3    3.1416\n",
       "dtype: float64"
      ]
     },
     "execution_count": 72,
     "metadata": {},
     "output_type": "execute_result"
    }
   ],
   "source": [
    "s * 3.1416"
   ]
  },
  {
   "cell_type": "markdown",
   "metadata": {
    "colab_type": "text",
    "id": "5Z0qbzP-MWpP",
    "slideshow": {
     "slide_type": "subslide"
    }
   },
   "source": [
    "* También podemos realizar operaciones entre dos series (deben ser del mismo tamaño)"
   ]
  },
  {
   "cell_type": "code",
   "execution_count": 73,
   "metadata": {
    "colab": {
     "autoexec": {
      "startup": false,
      "wait_interval": 0
     },
     "output_extras": [
      {}
     ]
    },
    "colab_type": "code",
    "id": "oruYrqMMMWpR",
    "outputId": "fbf969b3-106b-4470-bf64-d91cbd267f4f"
   },
   "outputs": [
    {
     "data": {
      "text/plain": [
       "0   -100\n",
       "1    -99\n",
       "2    -98\n",
       "3    -97\n",
       "dtype: int64"
      ]
     },
     "execution_count": 73,
     "metadata": {},
     "output_type": "execute_result"
    }
   ],
   "source": [
    "h = pd.Series([-100, -99, -98, -97])\n",
    "h"
   ]
  },
  {
   "cell_type": "code",
   "execution_count": 74,
   "metadata": {
    "colab": {
     "autoexec": {
      "startup": false,
      "wait_interval": 0
     },
     "output_extras": [
      {}
     ]
    },
    "colab_type": "code",
    "id": "cdxS0r6YMWpV",
    "outputId": "e746f060-b1c6-42b5-8aa2-8b9f88023409"
   },
   "outputs": [
    {
     "data": {
      "text/plain": [
       "0   -99.75\n",
       "1   -98.50\n",
       "2   -97.25\n",
       "3   -96.00\n",
       "dtype: float64"
      ]
     },
     "execution_count": 74,
     "metadata": {},
     "output_type": "execute_result"
    }
   ],
   "source": [
    "s + h"
   ]
  },
  {
   "cell_type": "markdown",
   "metadata": {
    "colab_type": "text",
    "id": "4VrToESKMWpa",
    "slideshow": {
     "slide_type": "subslide"
    }
   },
   "source": [
    "* Y también se pueden realizar operaciones sobre todos los valores"
   ]
  },
  {
   "cell_type": "code",
   "execution_count": 75,
   "metadata": {
    "colab": {
     "autoexec": {
      "startup": false,
      "wait_interval": 0
     },
     "output_extras": [
      {}
     ]
    },
    "colab_type": "code",
    "id": "JUCcdIVpMWpb",
    "outputId": "52d42948-bbb9-4591-8613-9968f23578d7"
   },
   "outputs": [
    {
     "data": {
      "text/plain": [
       "2.5"
      ]
     },
     "execution_count": 75,
     "metadata": {},
     "output_type": "execute_result"
    }
   ],
   "source": [
    "s.sum() "
   ]
  },
  {
   "cell_type": "code",
   "execution_count": 76,
   "metadata": {
    "colab": {
     "autoexec": {
      "startup": false,
      "wait_interval": 0
     },
     "output_extras": [
      {}
     ]
    },
    "colab_type": "code",
    "id": "971p6ZUCMWpi",
    "outputId": "a4f5e64b-9a20-45d8-d068-7f980dd9d711"
   },
   "outputs": [
    {
     "data": {
      "text/plain": [
       "0.625"
      ]
     },
     "execution_count": 76,
     "metadata": {},
     "output_type": "execute_result"
    }
   ],
   "source": [
    "s.mean() "
   ]
  },
  {
   "cell_type": "code",
   "execution_count": 77,
   "metadata": {
    "colab": {
     "autoexec": {
      "startup": false,
      "wait_interval": 0
     },
     "output_extras": [
      {}
     ]
    },
    "colab_type": "code",
    "id": "CNMCRnt2MWpm",
    "outputId": "8c4727c3-431e-418e-e7ef-d9b61d90933c"
   },
   "outputs": [
    {
     "data": {
      "text/plain": [
       "0.3227486121839514"
      ]
     },
     "execution_count": 77,
     "metadata": {},
     "output_type": "execute_result"
    }
   ],
   "source": [
    "s.std() "
   ]
  },
  {
   "cell_type": "markdown",
   "metadata": {
    "colab_type": "text",
    "id": "XNTlggegMWpp",
    "slideshow": {
     "slide_type": "slide"
    }
   },
   "source": [
    "# Consultando series\n",
    "\n",
    "* Podemos recuperar elementos de la serie indicando su posición (recuperar el i-ésimo elemento)"
   ]
  },
  {
   "cell_type": "code",
   "execution_count": 78,
   "metadata": {
    "colab": {
     "autoexec": {
      "startup": false,
      "wait_interval": 0
     }
    },
    "colab_type": "code",
    "id": "U0Lii6ZXMWpr"
   },
   "outputs": [],
   "source": [
    "s = pd.Series([0.25, 0.5, 0.75, 1.0])"
   ]
  },
  {
   "cell_type": "code",
   "execution_count": 79,
   "metadata": {
    "colab": {
     "autoexec": {
      "startup": false,
      "wait_interval": 0
     },
     "output_extras": [
      {}
     ]
    },
    "colab_type": "code",
    "id": "sFEjarjDMWpt",
    "outputId": "5069e2fa-912c-4028-afee-54c05af7e4b6"
   },
   "outputs": [
    {
     "data": {
      "text/plain": [
       "0.75"
      ]
     },
     "execution_count": 79,
     "metadata": {},
     "output_type": "execute_result"
    }
   ],
   "source": [
    "s.loc[2] #recupera el segundo elemento de s"
   ]
  },
  {
   "cell_type": "code",
   "execution_count": 80,
   "metadata": {
    "colab": {
     "autoexec": {
      "startup": false,
      "wait_interval": 0
     },
     "output_extras": [
      {}
     ]
    },
    "colab_type": "code",
    "id": "gFaAGsq1MWpx",
    "outputId": "d5ccb8f3-1606-4045-8192-e6920f08e0fd"
   },
   "outputs": [
    {
     "data": {
      "text/plain": [
       "2    0.75\n",
       "3    1.00\n",
       "dtype: float64"
      ]
     },
     "execution_count": 80,
     "metadata": {},
     "output_type": "execute_result"
    }
   ],
   "source": [
    "s.loc[2:3] # recupera un rango de elementos"
   ]
  },
  {
   "cell_type": "markdown",
   "metadata": {
    "colab_type": "text",
    "id": "l6osPv2wMWpz",
    "slideshow": {
     "slide_type": "subslide"
    }
   },
   "source": [
    "* Y también podemos seleccionar por alguna condición sobre los valores"
   ]
  },
  {
   "cell_type": "code",
   "execution_count": 81,
   "metadata": {
    "colab": {
     "autoexec": {
      "startup": false,
      "wait_interval": 0
     },
     "output_extras": [
      {}
     ]
    },
    "colab_type": "code",
    "id": "7z00FpNiMWp1",
    "outputId": "f405c464-29cf-4ded-b514-d409489f78b3"
   },
   "outputs": [
    {
     "data": {
      "text/plain": [
       "1    0.50\n",
       "2    0.75\n",
       "3    1.00\n",
       "dtype: float64"
      ]
     },
     "execution_count": 81,
     "metadata": {},
     "output_type": "execute_result"
    }
   ],
   "source": [
    "s[s > 0.4] # puede usar cualquier operador de comparación"
   ]
  },
  {
   "cell_type": "markdown",
   "metadata": {
    "colab_type": "text",
    "id": "YcGHcmsEMWp3"
   },
   "source": [
    "* El operador de comparación devuelve una serie de True/False\n",
    "    * Todas las posiciones que son True se seleccionan"
   ]
  },
  {
   "cell_type": "code",
   "execution_count": 82,
   "metadata": {
    "colab": {
     "autoexec": {
      "startup": false,
      "wait_interval": 0
     },
     "output_extras": [
      {}
     ]
    },
    "colab_type": "code",
    "id": "phlWQUH0MWp4",
    "outputId": "ba97b87a-7b80-4ba4-fd76-c8b5797dcca3"
   },
   "outputs": [
    {
     "data": {
      "text/plain": [
       "0    False\n",
       "1     True\n",
       "2     True\n",
       "3     True\n",
       "dtype: bool"
      ]
     },
     "execution_count": 82,
     "metadata": {},
     "output_type": "execute_result"
    }
   ],
   "source": [
    "s > 0.4"
   ]
  },
  {
   "cell_type": "code",
   "execution_count": null,
   "metadata": {},
   "outputs": [],
   "source": []
  },
  {
   "cell_type": "code",
   "execution_count": null,
   "metadata": {},
   "outputs": [],
   "source": []
  }
 ],
 "metadata": {
  "colab": {
   "default_view": {},
   "name": "04 Pandas y Dataframes.ipynb",
   "provenance": [],
   "version": "0.3.2",
   "views": {}
  },
  "kernelspec": {
   "display_name": "Python 3",
   "language": "python",
   "name": "python3"
  },
  "language_info": {
   "codemirror_mode": {
    "name": "ipython",
    "version": 3
   },
   "file_extension": ".py",
   "mimetype": "text/x-python",
   "name": "python",
   "nbconvert_exporter": "python",
   "pygments_lexer": "ipython3",
   "version": "3.7.6"
  }
 },
 "nbformat": 4,
 "nbformat_minor": 1
}
