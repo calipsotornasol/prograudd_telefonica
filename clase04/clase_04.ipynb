{
 "cells": [
  {
   "cell_type": "markdown",
   "metadata": {},
   "source": [
    "# Acumuladores y Contadores"
   ]
  },
  {
   "cell_type": "markdown",
   "metadata": {},
   "source": [
    "Sume los primeros n números y contar cuántos números hay entre 1 y n"
   ]
  },
  {
   "cell_type": "code",
   "execution_count": 13,
   "metadata": {},
   "outputs": [
    {
     "name": "stdout",
     "output_type": "stream",
     "text": [
      "Ingrese un numero n: 3\n",
      "Suma 6\n",
      "Contador 3\n"
     ]
    }
   ],
   "source": [
    "#Sumo numeros desde 1 a n\n",
    "#Cuento numeros desde 1 a n\n",
    "\n",
    "n = int(input(\"Ingrese un numero n: \"))\n",
    "\n",
    "suma = 0 #acumulador\n",
    "\n",
    "contador = 0 #contador\n",
    "\n",
    "while contador <= n:\n",
    "    suma = suma + contador\n",
    "    contador =  contador + 1\n",
    "\n",
    "print('Suma', suma)\n",
    "print('Contador', contador-1) #Si no cuento uno más\n"
   ]
  },
  {
   "cell_type": "markdown",
   "metadata": {},
   "source": [
    "Sume los primeros n números y contar cuántos números hay entre 1 y n"
   ]
  },
  {
   "cell_type": "code",
   "execution_count": 14,
   "metadata": {},
   "outputs": [
    {
     "name": "stdout",
     "output_type": "stream",
     "text": [
      "Ingrese un numero: 3\n",
      "Suma 6\n",
      "Contador 3\n"
     ]
    }
   ],
   "source": [
    "#Sumo numeros desde 1 a 3\n",
    "#Cuento numeros desde 1 a 3\n",
    "n = int(input(\"Ingrese un numero: \"))\n",
    "suma = 0 #acumulador\n",
    "contador = 1 #contador\n",
    "\n",
    "while contador <= n:\n",
    "    suma += contador\n",
    "    contador += 1\n",
    "\n",
    "print('Suma', suma)\n",
    "print('Contador', contador-1) #Si no cuento uno más"
   ]
  },
  {
   "cell_type": "markdown",
   "metadata": {},
   "source": [
    "Imprimir los números pares entre 1 y n y contarlos"
   ]
  },
  {
   "cell_type": "code",
   "execution_count": 15,
   "metadata": {},
   "outputs": [
    {
     "name": "stdout",
     "output_type": "stream",
     "text": [
      "Ingrese un numero: 3\n",
      "2 es par\n",
      "Numeros de pares entre 1 y 3: 1\n"
     ]
    }
   ],
   "source": [
    "numero = int(input(\"Ingrese un numero: \"))\n",
    "i=1\n",
    "contador = 0\n",
    "\n",
    "while i <= numero:\n",
    "    if i % 2 == 0:\n",
    "        print(i, 'es par')\n",
    "        contador += 1\n",
    "    i += 1\n",
    "print('Numeros de pares entre 1 y', str(numero) + ':', contador)"
   ]
  },
  {
   "cell_type": "markdown",
   "metadata": {},
   "source": [
    "# Ciclo for"
   ]
  },
  {
   "cell_type": "code",
   "execution_count": 16,
   "metadata": {},
   "outputs": [
    {
     "name": "stdout",
     "output_type": "stream",
     "text": [
      "Hola número 0\n",
      "Hola número 1\n",
      "Hola número 2\n",
      "Hola número 3\n",
      "Hola número 4\n",
      "Hola número 5\n",
      "Hola número 6\n",
      "Hola número 7\n",
      "Hola número 8\n",
      "Hola número 9\n",
      "Hola número 10\n",
      "Hola número 11\n",
      "Hola número 12\n",
      "Hola número 13\n",
      "Hola número 14\n",
      "Hola número 15\n",
      "Hola número 16\n",
      "Hola número 17\n",
      "Hola número 18\n",
      "Hola número 19\n",
      "Hola número 20\n",
      "Hola número 21\n",
      "Hola número 22\n",
      "Hola número 23\n",
      "Hola número 24\n",
      "Hola número 25\n",
      "Hola número 26\n",
      "Hola número 27\n",
      "Hola número 28\n",
      "Hola número 29\n",
      "Hola número 30\n",
      "Hola número 31\n",
      "Hola número 32\n",
      "Hola número 33\n",
      "Hola número 34\n",
      "Hola número 35\n",
      "Hola número 36\n",
      "Hola número 37\n",
      "Hola número 38\n",
      "Hola número 39\n",
      "Hola número 40\n",
      "Hola número 41\n",
      "Hola número 42\n",
      "Hola número 43\n",
      "Hola número 44\n",
      "Hola número 45\n",
      "Hola número 46\n",
      "Hola número 47\n",
      "Hola número 48\n",
      "Hola número 49\n",
      "Hola número 50\n",
      "Hola número 51\n",
      "Hola número 52\n",
      "Hola número 53\n",
      "Hola número 54\n",
      "Hola número 55\n",
      "Hola número 56\n",
      "Hola número 57\n",
      "Hola número 58\n",
      "Hola número 59\n",
      "Hola número 60\n",
      "Hola número 61\n",
      "Hola número 62\n",
      "Hola número 63\n",
      "Hola número 64\n",
      "Hola número 65\n",
      "Hola número 66\n",
      "Hola número 67\n",
      "Hola número 68\n",
      "Hola número 69\n",
      "Hola número 70\n",
      "Hola número 71\n",
      "Hola número 72\n",
      "Hola número 73\n",
      "Hola número 74\n",
      "Hola número 75\n",
      "Hola número 76\n",
      "Hola número 77\n",
      "Hola número 78\n",
      "Hola número 79\n",
      "Hola número 80\n",
      "Hola número 81\n",
      "Hola número 82\n",
      "Hola número 83\n",
      "Hola número 84\n",
      "Hola número 85\n",
      "Hola número 86\n",
      "Hola número 87\n",
      "Hola número 88\n",
      "Hola número 89\n",
      "Hola número 90\n",
      "Hola número 91\n",
      "Hola número 92\n",
      "Hola número 93\n",
      "Hola número 94\n",
      "Hola número 95\n",
      "Hola número 96\n",
      "Hola número 97\n",
      "Hola número 98\n",
      "Hola número 99\n"
     ]
    }
   ],
   "source": [
    "for i in range(100):#Desde el 0 al 99\n",
    "    print('Hola número', i)"
   ]
  },
  {
   "cell_type": "markdown",
   "metadata": {},
   "source": [
    "# Comparacion while vs for"
   ]
  },
  {
   "cell_type": "markdown",
   "metadata": {},
   "source": [
    "## Imprimir numeros impares"
   ]
  },
  {
   "cell_type": "code",
   "execution_count": 17,
   "metadata": {},
   "outputs": [
    {
     "name": "stdout",
     "output_type": "stream",
     "text": [
      "ingrese n: 3\n",
      "1\n"
     ]
    }
   ],
   "source": [
    "n = int(input('ingrese n: '))\n",
    "if n <= 0: \n",
    "    print('Debe ingresar un número mayor a cero')\n",
    "i = 0\n",
    "while i < n:\n",
    "    if i % 2 == 1:\n",
    "        print(i)\n",
    "    i = i+1"
   ]
  },
  {
   "cell_type": "code",
   "execution_count": 18,
   "metadata": {},
   "outputs": [
    {
     "name": "stdout",
     "output_type": "stream",
     "text": [
      "1\n"
     ]
    }
   ],
   "source": [
    "for i in range(n):\n",
    "    if i % 2 == 1:\n",
    "        print(i)"
   ]
  },
  {
   "cell_type": "code",
   "execution_count": 19,
   "metadata": {},
   "outputs": [
    {
     "name": "stdout",
     "output_type": "stream",
     "text": [
      "ingrese n: 3\n",
      "1\n"
     ]
    }
   ],
   "source": [
    "n = int(input('ingrese n: '))\n",
    "for i in range(1, n, 2):\n",
    "    print(i)\n"
   ]
  },
  {
   "cell_type": "markdown",
   "metadata": {},
   "source": [
    "# Problema"
   ]
  },
  {
   "cell_type": "markdown",
   "metadata": {},
   "source": [
    "Escriba un programa en Python que estime el valor de $\\pi$ usando la siguiente sumatoria infinita:\n",
    "\n",
    "$\\pi$=4x$\\sum_{0}^{\\infty}s_k$    \n",
    "\n",
    "Donde $s_k$ = $\\frac{(-1)^k}{2k+1}$\n",
    "\n",
    "$\\pi$=4x$\\sum_{0}^{\\infty}\\frac{(-1)^k}{2k+1}$\n",
    "\n",
    "El programa debe entregar el valor de $\\pi$, cuando encuentre el término $s_k$ de la sumatoria cuyo valor\n",
    "absuluto sea menor a $10^{-5}$ , es decir, ."
   ]
  },
  {
   "cell_type": "code",
   "execution_count": 20,
   "metadata": {},
   "outputs": [
    {
     "name": "stdout",
     "output_type": "stream",
     "text": [
      "3.141612653189785\n"
     ]
    }
   ],
   "source": [
    "s = 0\n",
    "k = 0\n",
    "resp = True\n",
    "while resp==True:\n",
    "    term = (-1)**(k) / (2 * k + 1)\n",
    "    s += term\n",
    "    k = k + 1\n",
    "    if abs(term) < 0.00001:\n",
    "        resp=False\n",
    "print(4 * s)"
   ]
  }
 ],
 "metadata": {
  "kernelspec": {
   "display_name": "Python 3.7 (calipso)",
   "language": "python",
   "name": "calipso"
  },
  "language_info": {
   "codemirror_mode": {
    "name": "ipython",
    "version": 3
   },
   "file_extension": ".py",
   "mimetype": "text/x-python",
   "name": "python",
   "nbconvert_exporter": "python",
   "pygments_lexer": "ipython3",
   "version": "3.7.6"
  }
 },
 "nbformat": 4,
 "nbformat_minor": 2
}
